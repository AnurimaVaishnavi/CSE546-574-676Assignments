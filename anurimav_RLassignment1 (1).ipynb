{
  "nbformat": 4,
  "nbformat_minor": 0,
  "metadata": {
    "colab": {
      "provenance": []
    },
    "kernelspec": {
      "name": "python3",
      "display_name": "Python 3"
    },
    "language_info": {
      "name": "python"
    }
  },
  "cells": [
    {
      "cell_type": "code",
      "source": [
        "!pip install gymnasium matplotlib numpy"
      ],
      "metadata": {
        "colab": {
          "base_uri": "https://localhost:8080/"
        },
        "id": "83H2XqPKzbqe",
        "outputId": "93bcd347-d68b-442f-8a2b-10fd35327948"
      },
      "execution_count": 1,
      "outputs": [
        {
          "output_type": "stream",
          "name": "stdout",
          "text": [
            "Looking in indexes: https://pypi.org/simple, https://us-python.pkg.dev/colab-wheels/public/simple/\n",
            "Collecting gymnasium\n",
            "  Downloading gymnasium-0.27.1-py3-none-any.whl (883 kB)\n",
            "\u001b[2K     \u001b[90m━━━━━━━━━━━━━━━━━━━━━━━━━━━━━━━━━━━━━━\u001b[0m \u001b[32m883.7/883.7 KB\u001b[0m \u001b[31m13.6 MB/s\u001b[0m eta \u001b[36m0:00:00\u001b[0m\n",
            "\u001b[?25hRequirement already satisfied: matplotlib in /usr/local/lib/python3.8/dist-packages (3.2.2)\n",
            "Requirement already satisfied: numpy in /usr/local/lib/python3.8/dist-packages (1.21.6)\n",
            "Requirement already satisfied: cloudpickle>=1.2.0 in /usr/local/lib/python3.8/dist-packages (from gymnasium) (2.2.1)\n",
            "Requirement already satisfied: importlib-metadata>=4.8.0 in /usr/local/lib/python3.8/dist-packages (from gymnasium) (6.0.0)\n",
            "Collecting jax-jumpy>=0.2.0\n",
            "  Downloading jax_jumpy-0.2.0-py3-none-any.whl (11 kB)\n",
            "Requirement already satisfied: typing-extensions>=4.3.0 in /usr/local/lib/python3.8/dist-packages (from gymnasium) (4.4.0)\n",
            "Collecting gymnasium-notices>=0.0.1\n",
            "  Downloading gymnasium_notices-0.0.1-py3-none-any.whl (2.8 kB)\n",
            "Requirement already satisfied: python-dateutil>=2.1 in /usr/local/lib/python3.8/dist-packages (from matplotlib) (2.8.2)\n",
            "Requirement already satisfied: pyparsing!=2.0.4,!=2.1.2,!=2.1.6,>=2.0.1 in /usr/local/lib/python3.8/dist-packages (from matplotlib) (3.0.9)\n",
            "Requirement already satisfied: kiwisolver>=1.0.1 in /usr/local/lib/python3.8/dist-packages (from matplotlib) (1.4.4)\n",
            "Requirement already satisfied: cycler>=0.10 in /usr/local/lib/python3.8/dist-packages (from matplotlib) (0.11.0)\n",
            "Requirement already satisfied: zipp>=0.5 in /usr/local/lib/python3.8/dist-packages (from importlib-metadata>=4.8.0->gymnasium) (3.12.1)\n",
            "Requirement already satisfied: six>=1.5 in /usr/local/lib/python3.8/dist-packages (from python-dateutil>=2.1->matplotlib) (1.15.0)\n",
            "Installing collected packages: gymnasium-notices, jax-jumpy, gymnasium\n",
            "Successfully installed gymnasium-0.27.1 gymnasium-notices-0.0.1 jax-jumpy-0.2.0\n"
          ]
        }
      ]
    },
    {
      "cell_type": "code",
      "source": [
        "from google.colab import widgets\n",
        "import gymnasium as gym\n",
        "from gymnasium import spaces\n",
        "import matplotlib.pyplot as plt\n",
        "import numpy as np\n",
        "import time\n",
        "from tqdm import trange, tqdm\n",
        "plt.rcParams['figure.figsize'] = (5, 17)"
      ],
      "metadata": {
        "id": "cfNFzeNWzyUr"
      },
      "execution_count": 39,
      "outputs": []
    },
    {
      "cell_type": "code",
      "source": [
        "#Environment Requirements for both deterministic and Stochastic\n",
        "class GridEnvironment(gym.Env):\n",
        "  metadata = { 'render.modes': []}\n",
        "\n",
        "  def __init__(self, stochastic = False, max_timesteps = 10):\n",
        "    '''\n",
        "    # Initializes the class\n",
        "    # Define action and observation space\n",
        "    #We have an action space of 4 Discrete actions, namely,\n",
        "      1. Up, action = 0\n",
        "      2. Down, action = 1\n",
        "      3. Right, action = 2\n",
        "      4. Left, action = 3\n",
        "    #We have an observation space of 16, 4x4 grid hence the no of states is 16  (minimun was 12)\n",
        "    The environment has 3 bonus positions as well as 2 hole/pit positions \n",
        "    # the numbers 1 and 0.5 for the state position are for visualizations\n",
        "    #\n",
        "    '''\n",
        "    self.observation_space = spaces.Discrete(16)\n",
        "    self.action_space = spaces.Discrete(4)\n",
        "    self.max_timesteps = max_timesteps\n",
        "    self.stochastic = stochastic\n",
        "    self.agent_pos = [0, 0]\n",
        "    self.goal_pos = [3, 3]\n",
        "    self.timestep = 0\n",
        "    self.state = np.zeros((4,4))\n",
        "    self.state[tuple(self.agent_pos)] = 1\n",
        "    self.state[tuple(self.goal_pos)] = 0.5\n",
        "\n",
        "  def reset(self, **kwargs):\n",
        "    '''\n",
        "    Reset the environment to initial state.\n",
        "\n",
        "    '''\n",
        "    self.timestep = 0\n",
        "    self.agent_pos = [0, 0]\n",
        "    self.goal_pos = [3, 3]\n",
        "    self.hole1_pos = [1,3]\n",
        "    self.hole2_pos = [2,2]\n",
        "    self.bonus1_pos = [0,3]\n",
        "    self.bonus2_pos = [1,2]\n",
        "    self.bonus3_pos = [2,3]\n",
        "    self.state = np.zeros((4, 4))\n",
        "    self.pos_dict = {}\n",
        "    for i in range(4):\n",
        "      for j in range(4):\n",
        "        self.pos_dict[4*i+j] = [i,j]\n",
        "    self.state[tuple(self.agent_pos)] = 1\n",
        "    self.state[tuple(self.hole1_pos)] = 0.75\n",
        "    self.state[tuple(self.hole2_pos)] = 0.75\n",
        "    self.state[tuple(self.bonus1_pos)] = 0.25\n",
        "    self.state[tuple(self.bonus2_pos)] = 0.25\n",
        "    self.state[tuple(self.bonus3_pos)] = 0.25\n",
        "    self.state[tuple(self.goal_pos)] = 0.5\n",
        "    observation = self.state.flatten()\n",
        "    info = {}\n",
        "    return observation, info\n",
        "\n",
        "\n",
        "  def render(self):\n",
        "    '''\n",
        "    Render the GridEnvironment\n",
        "    '''\n",
        "    plt.imshow(self.state)\n",
        "  \n",
        "  \n",
        "  def step(self, action):\n",
        "    '''\n",
        "    Define an execution of one timestep within the environment\n",
        "    input :action: action from the action space [0,1,2,3]\n",
        "    outputs :observation, reward, terminated, truncated, info\n",
        "    '''\n",
        "    info = {}\n",
        "    reward=0\n",
        "    old_pos = self.agent_pos\n",
        "    old_dist = np.sqrt(np.sum(np.square(np.array(old_pos)-np.array(self.goal_pos))))\n",
        "\n",
        "    # It adds a level of uncertainity to the environment\n",
        "    if(self.stochastic):\n",
        "      info['action_given'] = action\n",
        "      if (np.random.uniform(0,1)>0.75):\n",
        "        action = action\n",
        "      else:\n",
        "        action = self.action_space.sample()\n",
        "      info['action_taken'] = action\n",
        "\n",
        "    if action == 0:\n",
        "      self.agent_pos[0] += 1\n",
        "    if action == 1:\n",
        "      self.agent_pos[0] -= 1\n",
        "    if action == 2:\n",
        "      self.agent_pos[1] += 1\n",
        "    if action == 3:\n",
        "      self.agent_pos[1] -= 1\n",
        "    \n",
        "    a,b= np.clip(self.agent_pos[0], 0, 3), np.clip(self.agent_pos[1], 0, 3)\n",
        "    if a!=self.agent_pos[0]:\n",
        "      reward-=1\n",
        "    if b!=self.agent_pos[1]:\n",
        "      reward-=1\n",
        "    self.agent_pos[0] = a\n",
        "    self.agent_pos[1] = b\n",
        "    self.agent_pos = np.array(self.agent_pos)\n",
        "\n",
        "    print(self.agent_pos)\n",
        "\n",
        "    self.state = np.zeros((4,4))\n",
        "    self.state[tuple(self.bonus1_pos)] = 0.25\n",
        "    self.state[tuple(self.bonus2_pos)] = 0.25\n",
        "    self.state[tuple(self.bonus3_pos)] = 0.25\n",
        "    self.state[tuple(self.hole1_pos)] = 0.75\n",
        "    self.state[tuple(self.hole2_pos)] = 0.75\n",
        "    self.state[tuple(self.goal_pos)] = 0.5\n",
        "    self.state[tuple(self.agent_pos)] = 1\n",
        "\n",
        "\n",
        "    observation = self.state.flatten()\n",
        "    \n",
        "    new_dist = np.sqrt(np.sum(np.square(np.array(self.agent_pos)-np.array(self.goal_pos))))\n",
        "    \n",
        "    proximity = True\n",
        "    if (old_dist-new_dist<0):\n",
        "      reward = -1\n",
        "      proximity = False\n",
        "    elif (old_dist-new_dist==0):\n",
        "      reward = 0\n",
        "    else:\n",
        "      reward = +1\n",
        "\n",
        "    if (self.agent_pos == self.goal_pos).all():\n",
        "      reward+= 10 #deterministic reward\n",
        "      self.state[tuple(self.goal_pos)]=self.state[tuple(self.agent_pos)]\n",
        "    elif (self.agent_pos == self.bonus1_pos).all() and proximity:\n",
        "      reward+=5 #deterministic reward\n",
        "      if(self.stochastic):\n",
        "        if(np.random.uniform(0,1)<0.50):\n",
        "          reward+=2\n",
        "      self.state[tuple(self.bonus1_pos)]=self.state[tuple(self.agent_pos)]\n",
        "    elif (self.agent_pos == self.bonus2_pos).all() and proximity:\n",
        "      reward+=5 #deterministic reward\n",
        "      if(self.stochastic):\n",
        "        if(np.random.uniform(0,1)<0.50):\n",
        "          reward+=2\n",
        "      self.state[tuple(self.bonus2_pos)]=self.state[tuple(self.agent_pos)]\n",
        "    elif (self.agent_pos == self.bonus3_pos).all() and proximity:\n",
        "      reward+=5 #deterministic reward\n",
        "      if(self.stochastic):\n",
        "        if(np.random.uniform(0,1)<0.50):\n",
        "          reward+=2\n",
        "      self.state[tuple(self.bonus3_pos)]=self.state[tuple(self.agent_pos)]\n",
        "    elif (self.agent_pos == self.hole1_pos).all():\n",
        "      reward-=5 #deterministic reward\n",
        "      if(self.stochastic):\n",
        "        if(np.random.uniform(0,1)<0.75):\n",
        "          reward-=3\n",
        "      self.state[tuple(self.hole1_pos)]=self.state[tuple(self.agent_pos)]\n",
        "    elif(self.agent_pos == self.hole2_pos).all():\n",
        "      reward-=5 #deterministic reward\n",
        "      if(self.stochastic):\n",
        "        if(np.random.uniform(0,1)<0.9):\n",
        "          reward-=3\n",
        "      self.state[tuple(self.hole2_pos)]=self.state[tuple(self.agent_pos)]\n",
        "\n",
        "    observation = self.agent_pos\n",
        "\n",
        "    self.timestep += 1\n",
        "    terminated = True if ((self.timestep >= self.max_timesteps) or (self.agent_pos == self.goal_pos).all()) else False\n",
        "    truncated = True if np.all((self.agent_pos >=0 ) & (self.agent_pos <= 3)) else False\n",
        "\n",
        "    return observation, reward, terminated, truncated, info\n",
        "\n"
      ],
      "metadata": {
        "id": "Y9LkR-35niEx"
      },
      "execution_count": 48,
      "outputs": []
    },
    {
      "cell_type": "code",
      "source": [
        "#DETERMISTIC environment - run a random agent for atleast 10 timesteps\n",
        "deterenv = GridEnvironment(max_timesteps = 15)\n",
        "observation = deterenv.reset()\n",
        "print(observation)\n",
        "deterenv.render()"
      ],
      "metadata": {
        "colab": {
          "base_uri": "https://localhost:8080/",
          "height": 367
        },
        "id": "WamBmm4TV7RN",
        "outputId": "d1b78995-4845-4c5a-c7d9-87e67a31cd5a"
      },
      "execution_count": 49,
      "outputs": [
        {
          "output_type": "stream",
          "name": "stdout",
          "text": [
            "(array([1.  , 0.  , 0.  , 0.25, 0.  , 0.  , 0.25, 0.75, 0.  , 0.  , 0.75,\n",
            "       0.25, 0.  , 0.  , 0.  , 0.5 ]), {})\n"
          ]
        },
        {
          "output_type": "display_data",
          "data": {
            "text/plain": [
              "<Figure size 360x1224 with 1 Axes>"
            ],
            "image/png": "[encoded data removed]"
          },
          "metadata": {
            "needs_background": "light"
          }
        }
      ]
    },
    {
      "cell_type": "code",
      "source": [
        "#Initializing a Random Agent\n",
        "class RandomAgent:\n",
        "  def __init__(self, env):\n",
        "    self.env = env\n",
        "    self.observation_space = env.observation_space\n",
        "    self.action_space = env.action_space\n",
        "\n",
        "  def step(self, obs):\n",
        "    return np.random.choice(self.action_space.n)"
      ],
      "metadata": {
        "id": "vGvzSqbp1ByR"
      },
      "execution_count": 50,
      "outputs": []
    },
    {
      "cell_type": "code",
      "source": [
        "#Deterministic Environment\n",
        "det_agent= RandomAgent(env= deterenv)\n",
        "det_observation= deterenv.reset()\n",
        "terminated = False\n",
        "\n",
        "det_output_grid= widgets.Grid(1, 1)\n",
        "\n",
        "# Test render of environment within widget grid\n",
        "with det_output_grid.output_to(0, 0):\n",
        "  deterenv.render()\n",
        "\n",
        "actions_given = []\n",
        "rewards = []\n",
        "observations = []\n",
        "\n",
        "output_grid = widgets.Grid(1,1)\n",
        "\n",
        "# MDP loop\n",
        "while not terminated:\n",
        "  action= det_agent.step(det_observation)\n",
        "\n",
        "  observation, reward, terminated, truncated, info= deterenv.step(action)\n",
        "  actions_given.append(action)\n",
        "  rewards.append(reward)\n",
        "  observations.append(observation)\n",
        "  with output_grid.output_to(0,0):\n",
        "    deterenv.render()\n",
        "    print(f'Reward: {reward}, Action taken: {action}, Terminated: {terminated}')\n",
        "  time.sleep(1)\n",
        "print(\"actions_given\", actions_given)\n",
        "print(\"rewards\", rewards)\n",
        "print(\"cumulative reward\",sum(rewards))\n",
        "     \n"
      ],
      "metadata": {
        "colab": {
          "base_uri": "https://localhost:8080/",
          "height": 1000
        },
        "id": "8j2aXl77rzVy",
        "outputId": "450ab61c-b1f9-44c2-e6ec-d517d3373f12"
      },
      "execution_count": 51,
      "outputs": [
        {
          "output_type": "display_data",
          "data": {
            "text/plain": [
              "<IPython.core.display.HTML object>"
            ],
            "text/html": [
              "<style>\n",
              "       table#id74, #id74 > tbody > tr > th, #id74 > tbody > tr > td {\n",
              "         border: 1px solid lightgray;\n",
              "         border-collapse:collapse;\n",
              "         \n",
              "        }</style>"
            ]
          },
          "metadata": {}
        },
        {
          "output_type": "display_data",
          "data": {
            "text/plain": [
              "<IPython.core.display.HTML object>"
            ],
            "text/html": [
              "<table id=id74><tr><td id=id74-0-0></td></tr></table>"
            ]
          },
          "metadata": {}
        },
        {
          "output_type": "display_data",
          "data": {
            "text/plain": [
              "<IPython.core.display.Javascript object>"
            ],
            "application/javascript": [
              "window[\"4a778542-ae38-11ed-a8b9-0242ac1c000c\"] = google.colab.output.getActiveOutputArea();\n",
              "//# sourceURL=js_294421c178"
            ]
          },
          "metadata": {}
        },
        {
          "output_type": "display_data",
          "data": {
            "text/plain": [
              "<IPython.core.display.Javascript object>"
            ],
            "application/javascript": [
              "window[\"4a77fa2c-ae38-11ed-a8b9-0242ac1c000c\"] = document.querySelector(\"#id74-0-0\");\n",
              "//# sourceURL=js_c154d852fc"
            ]
          },
          "metadata": {}
        },
        {
          "output_type": "display_data",
          "data": {
            "text/plain": [
              "<IPython.core.display.Javascript object>"
            ],
            "application/javascript": [
              "window[\"4a787d4e-ae38-11ed-a8b9-0242ac1c000c\"] = google.colab.output.setActiveOutputArea(window[\"4a77fa2c-ae38-11ed-a8b9-0242ac1c000c\"]);\n",
              "//# sourceURL=js_627f99a6fc"
            ]
          },
          "metadata": {}
        },
        {
          "output_type": "display_data",
          "data": {
            "text/plain": [
              "<Figure size 360x1224 with 1 Axes>"
            ],
            "image/png": "[encoded data removed]"
          },
          "metadata": {
            "needs_background": "light"
          }
        },
        {
          "output_type": "display_data",
          "data": {
            "text/plain": [
              "<IPython.core.display.Javascript object>"
            ],
            "application/javascript": [
              "window[\"4a94682e-ae38-11ed-a8b9-0242ac1c000c\"] = google.colab.output.setActiveOutputArea(window[\"4a778542-ae38-11ed-a8b9-0242ac1c000c\"]);\n",
              "//# sourceURL=js_92ebf2acd6"
            ]
          },
          "metadata": {}
        },
        {
          "output_type": "display_data",
          "data": {
            "text/plain": [
              "<IPython.core.display.HTML object>"
            ],
            "text/html": [
              "<style>\n",
              "       table#id76, #id76 > tbody > tr > th, #id76 > tbody > tr > td {\n",
              "         border: 1px solid lightgray;\n",
              "         border-collapse:collapse;\n",
              "         \n",
              "        }</style>"
            ]
          },
          "metadata": {}
        },
        {
          "output_type": "display_data",
          "data": {
            "text/plain": [
              "<IPython.core.display.HTML object>"
            ],
            "text/html": [
              "<table id=id76><tr><td id=id76-0-0></td></tr></table>"
            ]
          },
          "metadata": {}
        },
        {
          "output_type": "stream",
          "name": "stdout",
          "text": [
            "[1 0]\n"
          ]
        },
        {
          "output_type": "display_data",
          "data": {
            "text/plain": [
              "<IPython.core.display.Javascript object>"
            ],
            "application/javascript": [
              "window[\"4a993458-ae38-11ed-a8b9-0242ac1c000c\"] = google.colab.output.getActiveOutputArea();\n",
              "//# sourceURL=js_2852fce839"
            ]
          },
          "metadata": {}
        },
        {
          "output_type": "display_data",
          "data": {
            "text/plain": [
              "<IPython.core.display.Javascript object>"
            ],
            "application/javascript": [
              "window[\"4a9ada42-ae38-11ed-a8b9-0242ac1c000c\"] = document.querySelector(\"#id76-0-0\");\n",
              "//# sourceURL=js_69f0683d20"
            ]
          },
          "metadata": {}
        },
        {
          "output_type": "display_data",
          "data": {
            "text/plain": [
              "<IPython.core.display.Javascript object>"
            ],
            "application/javascript": [
              "window[\"4a9b2b32-ae38-11ed-a8b9-0242ac1c000c\"] = google.colab.output.setActiveOutputArea(window[\"4a9ada42-ae38-11ed-a8b9-0242ac1c000c\"]);\n",
              "//# sourceURL=js_10369202a7"
            ]
          },
          "metadata": {}
        },
        {
          "output_type": "stream",
          "name": "stdout",
          "text": [
            "Reward: 1, Action taken: 0, Terminated: False\n"
          ]
        },
        {
          "output_type": "display_data",
          "data": {
            "text/plain": [
              "<Figure size 360x1224 with 1 Axes>"
            ],
            "image/png": "[encoded data removed]"
          },
          "metadata": {
            "needs_background": "light"
          }
        },
        {
          "output_type": "display_data",
          "data": {
            "text/plain": [
              "<IPython.core.display.Javascript object>"
            ],
            "application/javascript": [
              "window[\"4abc497a-ae38-11ed-a8b9-0242ac1c000c\"] = google.colab.output.setActiveOutputArea(window[\"4a993458-ae38-11ed-a8b9-0242ac1c000c\"]);\n",
              "//# sourceURL=js_4903e8842d"
            ]
          },
          "metadata": {}
        },
        {
          "output_type": "stream",
          "name": "stdout",
          "text": [
            "[0 0]\n"
          ]
        },
        {
          "output_type": "display_data",
          "data": {
            "text/plain": [
              "<IPython.core.display.Javascript object>"
            ],
            "application/javascript": [
              "window[\"4b57a37a-ae38-11ed-a8b9-0242ac1c000c\"] = google.colab.output.getActiveOutputArea();\n",
              "//# sourceURL=js_e3231a183c"
            ]
          },
          "metadata": {}
        },
        {
          "output_type": "display_data",
          "data": {
            "text/plain": [
              "<IPython.core.display.Javascript object>"
            ],
            "application/javascript": [
              "window[\"4b581b2a-ae38-11ed-a8b9-0242ac1c000c\"] = document.querySelector(\"#id76-0-0\");\n",
              "//# sourceURL=js_3a3be3ed5d"
            ]
          },
          "metadata": {}
        },
        {
          "output_type": "display_data",
          "data": {
            "text/plain": [
              "<IPython.core.display.Javascript object>"
            ],
            "application/javascript": [
              "window[\"4b587340-ae38-11ed-a8b9-0242ac1c000c\"] = google.colab.output.setActiveOutputArea(window[\"4b581b2a-ae38-11ed-a8b9-0242ac1c000c\"]);\n",
              "//# sourceURL=js_157ebfc5dc"
            ]
          },
          "metadata": {}
        },
        {
          "output_type": "stream",
          "name": "stdout",
          "text": [
            "Reward: -1, Action taken: 1, Terminated: False\n"
          ]
        },
        {
          "output_type": "display_data",
          "data": {
            "text/plain": [
              "<Figure size 360x1224 with 1 Axes>"
            ],
            "image/png": "[encoded data removed]"
          },
          "metadata": {
            "needs_background": "light"
          }
        },
        {
          "output_type": "display_data",
          "data": {
            "text/plain": [
              "<IPython.core.display.Javascript object>"
            ],
            "application/javascript": [
              "window[\"4b758c28-ae38-11ed-a8b9-0242ac1c000c\"] = google.colab.output.setActiveOutputArea(window[\"4b57a37a-ae38-11ed-a8b9-0242ac1c000c\"]);\n",
              "//# sourceURL=js_f07fa3142f"
            ]
          },
          "metadata": {}
        },
        {
          "output_type": "stream",
          "name": "stdout",
          "text": [
            "[0 1]\n"
          ]
        },
        {
          "output_type": "display_data",
          "data": {
            "text/plain": [
              "<IPython.core.display.Javascript object>"
            ],
            "application/javascript": [
              "window[\"4c122c72-ae38-11ed-a8b9-0242ac1c000c\"] = google.colab.output.getActiveOutputArea();\n",
              "//# sourceURL=js_1f1ecbfdd0"
            ]
          },
          "metadata": {}
        },
        {
          "output_type": "display_data",
          "data": {
            "text/plain": [
              "<IPython.core.display.Javascript object>"
            ],
            "application/javascript": [
              "window[\"4c12c7e0-ae38-11ed-a8b9-0242ac1c000c\"] = document.querySelector(\"#id76-0-0\");\n",
              "//# sourceURL=js_17b5bd187b"
            ]
          },
          "metadata": {}
        },
        {
          "output_type": "display_data",
          "data": {
            "text/plain": [
              "<IPython.core.display.Javascript object>"
            ],
            "application/javascript": [
              "window[\"4c1399cc-ae38-11ed-a8b9-0242ac1c000c\"] = google.colab.output.setActiveOutputArea(window[\"4c12c7e0-ae38-11ed-a8b9-0242ac1c000c\"]);\n",
              "//# sourceURL=js_6625921d81"
            ]
          },
          "metadata": {}
        },
        {
          "output_type": "stream",
          "name": "stdout",
          "text": [
            "Reward: 1, Action taken: 2, Terminated: False\n"
          ]
        },
        {
          "output_type": "display_data",
          "data": {
            "text/plain": [
              "<Figure size 360x1224 with 1 Axes>"
            ],
            "image/png": "[encoded data removed]"
          },
          "metadata": {
            "needs_background": "light"
          }
        },
        {
          "output_type": "display_data",
          "data": {
            "text/plain": [
              "<IPython.core.display.Javascript object>"
            ],
            "application/javascript": [
              "window[\"4c31cd7a-ae38-11ed-a8b9-0242ac1c000c\"] = google.colab.output.setActiveOutputArea(window[\"4c122c72-ae38-11ed-a8b9-0242ac1c000c\"]);\n",
              "//# sourceURL=js_d5b0d77280"
            ]
          },
          "metadata": {}
        },
        {
          "output_type": "stream",
          "name": "stdout",
          "text": [
            "[0 1]\n"
          ]
        },
        {
          "output_type": "display_data",
          "data": {
            "text/plain": [
              "<IPython.core.display.Javascript object>"
            ],
            "application/javascript": [
              "window[\"4cce3872-ae38-11ed-a8b9-0242ac1c000c\"] = google.colab.output.getActiveOutputArea();\n",
              "//# sourceURL=js_88a303b51d"
            ]
          },
          "metadata": {}
        },
        {
          "output_type": "display_data",
          "data": {
            "text/plain": [
              "<IPython.core.display.Javascript object>"
            ],
            "application/javascript": [
              "window[\"4cceb98c-ae38-11ed-a8b9-0242ac1c000c\"] = document.querySelector(\"#id76-0-0\");\n",
              "//# sourceURL=js_40fb6e1fdb"
            ]
          },
          "metadata": {}
        },
        {
          "output_type": "display_data",
          "data": {
            "text/plain": [
              "<IPython.core.display.Javascript object>"
            ],
            "application/javascript": [
              "window[\"4ccf282c-ae38-11ed-a8b9-0242ac1c000c\"] = google.colab.output.setActiveOutputArea(window[\"4cceb98c-ae38-11ed-a8b9-0242ac1c000c\"]);\n",
              "//# sourceURL=js_a5aeb9aa62"
            ]
          },
          "metadata": {}
        },
        {
          "output_type": "stream",
          "name": "stdout",
          "text": [
            "Reward: 0, Action taken: 1, Terminated: False\n"
          ]
        },
        {
          "output_type": "display_data",
          "data": {
            "text/plain": [
              "<Figure size 360x1224 with 1 Axes>"
            ],
            "image/png": "[encoded data removed]"
          },
          "metadata": {
            "needs_background": "light"
          }
        },
        {
          "output_type": "display_data",
          "data": {
            "text/plain": [
              "<IPython.core.display.Javascript object>"
            ],
            "application/javascript": [
              "window[\"4cee553a-ae38-11ed-a8b9-0242ac1c000c\"] = google.colab.output.setActiveOutputArea(window[\"4cce3872-ae38-11ed-a8b9-0242ac1c000c\"]);\n",
              "//# sourceURL=js_1e4139f712"
            ]
          },
          "metadata": {}
        },
        {
          "output_type": "stream",
          "name": "stdout",
          "text": [
            "[0 0]\n"
          ]
        },
        {
          "output_type": "display_data",
          "data": {
            "text/plain": [
              "<IPython.core.display.Javascript object>"
            ],
            "application/javascript": [
              "window[\"4d8a624a-ae38-11ed-a8b9-0242ac1c000c\"] = google.colab.output.getActiveOutputArea();\n",
              "//# sourceURL=js_0f16390c65"
            ]
          },
          "metadata": {}
        },
        {
          "output_type": "display_data",
          "data": {
            "text/plain": [
              "<IPython.core.display.Javascript object>"
            ],
            "application/javascript": [
              "window[\"4d8ade78-ae38-11ed-a8b9-0242ac1c000c\"] = document.querySelector(\"#id76-0-0\");\n",
              "//# sourceURL=js_7ba4706be5"
            ]
          },
          "metadata": {}
        },
        {
          "output_type": "display_data",
          "data": {
            "text/plain": [
              "<IPython.core.display.Javascript object>"
            ],
            "application/javascript": [
              "window[\"4d8b3882-ae38-11ed-a8b9-0242ac1c000c\"] = google.colab.output.setActiveOutputArea(window[\"4d8ade78-ae38-11ed-a8b9-0242ac1c000c\"]);\n",
              "//# sourceURL=js_f857feb134"
            ]
          },
          "metadata": {}
        },
        {
          "output_type": "stream",
          "name": "stdout",
          "text": [
            "Reward: -1, Action taken: 3, Terminated: False\n"
          ]
        },
        {
          "output_type": "display_data",
          "data": {
            "text/plain": [
              "<Figure size 360x1224 with 1 Axes>"
            ],
            "image/png": "[encoded data removed]"
          },
          "metadata": {
            "needs_background": "light"
          }
        },
        {
          "output_type": "display_data",
          "data": {
            "text/plain": [
              "<IPython.core.display.Javascript object>"
            ],
            "application/javascript": [
              "window[\"4daacdc8-ae38-11ed-a8b9-0242ac1c000c\"] = google.colab.output.setActiveOutputArea(window[\"4d8a624a-ae38-11ed-a8b9-0242ac1c000c\"]);\n",
              "//# sourceURL=js_bd928c61ea"
            ]
          },
          "metadata": {}
        },
        {
          "output_type": "stream",
          "name": "stdout",
          "text": [
            "[1 0]\n"
          ]
        },
        {
          "output_type": "display_data",
          "data": {
            "text/plain": [
              "<IPython.core.display.Javascript object>"
            ],
            "application/javascript": [
              "window[\"4e48492c-ae38-11ed-a8b9-0242ac1c000c\"] = google.colab.output.getActiveOutputArea();\n",
              "//# sourceURL=js_e36c29fc7f"
            ]
          },
          "metadata": {}
        },
        {
          "output_type": "display_data",
          "data": {
            "text/plain": [
              "<IPython.core.display.Javascript object>"
            ],
            "application/javascript": [
              "window[\"4e4899e0-ae38-11ed-a8b9-0242ac1c000c\"] = document.querySelector(\"#id76-0-0\");\n",
              "//# sourceURL=js_052d0137bc"
            ]
          },
          "metadata": {}
        },
        {
          "output_type": "display_data",
          "data": {
            "text/plain": [
              "<IPython.core.display.Javascript object>"
            ],
            "application/javascript": [
              "window[\"4e499444-ae38-11ed-a8b9-0242ac1c000c\"] = google.colab.output.setActiveOutputArea(window[\"4e4899e0-ae38-11ed-a8b9-0242ac1c000c\"]);\n",
              "//# sourceURL=js_babbb6b360"
            ]
          },
          "metadata": {}
        },
        {
          "output_type": "stream",
          "name": "stdout",
          "text": [
            "Reward: 1, Action taken: 0, Terminated: False\n"
          ]
        },
        {
          "output_type": "display_data",
          "data": {
            "text/plain": [
              "<Figure size 360x1224 with 1 Axes>"
            ],
            "image/png": "[encoded data removed]"
          },
          "metadata": {
            "needs_background": "light"
          }
        },
        {
          "output_type": "display_data",
          "data": {
            "text/plain": [
              "<IPython.core.display.Javascript object>"
            ],
            "application/javascript": [
              "window[\"4e74baa2-ae38-11ed-a8b9-0242ac1c000c\"] = google.colab.output.setActiveOutputArea(window[\"4e48492c-ae38-11ed-a8b9-0242ac1c000c\"]);\n",
              "//# sourceURL=js_a8e94a2655"
            ]
          },
          "metadata": {}
        },
        {
          "output_type": "stream",
          "name": "stdout",
          "text": [
            "[1 0]\n"
          ]
        },
        {
          "output_type": "display_data",
          "data": {
            "text/plain": [
              "<IPython.core.display.Javascript object>"
            ],
            "application/javascript": [
              "window[\"4f111afa-ae38-11ed-a8b9-0242ac1c000c\"] = google.colab.output.getActiveOutputArea();\n",
              "//# sourceURL=js_c4cc1e4594"
            ]
          },
          "metadata": {}
        },
        {
          "output_type": "display_data",
          "data": {
            "text/plain": [
              "<IPython.core.display.Javascript object>"
            ],
            "application/javascript": [
              "window[\"4f11c48c-ae38-11ed-a8b9-0242ac1c000c\"] = document.querySelector(\"#id76-0-0\");\n",
              "//# sourceURL=js_6e3b1f962d"
            ]
          },
          "metadata": {}
        },
        {
          "output_type": "display_data",
          "data": {
            "text/plain": [
              "<IPython.core.display.Javascript object>"
            ],
            "application/javascript": [
              "window[\"4f121b1c-ae38-11ed-a8b9-0242ac1c000c\"] = google.colab.output.setActiveOutputArea(window[\"4f11c48c-ae38-11ed-a8b9-0242ac1c000c\"]);\n",
              "//# sourceURL=js_677f8200bb"
            ]
          },
          "metadata": {}
        },
        {
          "output_type": "stream",
          "name": "stdout",
          "text": [
            "Reward: 0, Action taken: 3, Terminated: False\n"
          ]
        },
        {
          "output_type": "display_data",
          "data": {
            "text/plain": [
              "<Figure size 360x1224 with 1 Axes>"
            ],
            "image/png": "[encoded data removed]"
          },
          "metadata": {
            "needs_background": "light"
          }
        },
        {
          "output_type": "display_data",
          "data": {
            "text/plain": [
              "<IPython.core.display.Javascript object>"
            ],
            "application/javascript": [
              "window[\"4f3f0df2-ae38-11ed-a8b9-0242ac1c000c\"] = google.colab.output.setActiveOutputArea(window[\"4f111afa-ae38-11ed-a8b9-0242ac1c000c\"]);\n",
              "//# sourceURL=js_8d5885a777"
            ]
          },
          "metadata": {}
        },
        {
          "output_type": "stream",
          "name": "stdout",
          "text": [
            "[0 0]\n"
          ]
        },
        {
          "output_type": "display_data",
          "data": {
            "text/plain": [
              "<IPython.core.display.Javascript object>"
            ],
            "application/javascript": [
              "window[\"4fdae452-ae38-11ed-a8b9-0242ac1c000c\"] = google.colab.output.getActiveOutputArea();\n",
              "//# sourceURL=js_a255b87d97"
            ]
          },
          "metadata": {}
        },
        {
          "output_type": "display_data",
          "data": {
            "text/plain": [
              "<IPython.core.display.Javascript object>"
            ],
            "application/javascript": [
              "window[\"4fdb43a2-ae38-11ed-a8b9-0242ac1c000c\"] = document.querySelector(\"#id76-0-0\");\n",
              "//# sourceURL=js_ce5faa1789"
            ]
          },
          "metadata": {}
        },
        {
          "output_type": "display_data",
          "data": {
            "text/plain": [
              "<IPython.core.display.Javascript object>"
            ],
            "application/javascript": [
              "window[\"4fdb9ec4-ae38-11ed-a8b9-0242ac1c000c\"] = google.colab.output.setActiveOutputArea(window[\"4fdb43a2-ae38-11ed-a8b9-0242ac1c000c\"]);\n",
              "//# sourceURL=js_7a87dcbbc3"
            ]
          },
          "metadata": {}
        },
        {
          "output_type": "stream",
          "name": "stdout",
          "text": [
            "Reward: -1, Action taken: 1, Terminated: False\n"
          ]
        },
        {
          "output_type": "display_data",
          "data": {
            "text/plain": [
              "<Figure size 360x1224 with 1 Axes>"
            ],
            "image/png": "[encoded data removed]"
          },
          "metadata": {
            "needs_background": "light"
          }
        },
        {
          "output_type": "display_data",
          "data": {
            "text/plain": [
              "<IPython.core.display.Javascript object>"
            ],
            "application/javascript": [
              "window[\"4ffe4a0a-ae38-11ed-a8b9-0242ac1c000c\"] = google.colab.output.setActiveOutputArea(window[\"4fdae452-ae38-11ed-a8b9-0242ac1c000c\"]);\n",
              "//# sourceURL=js_636c097f18"
            ]
          },
          "metadata": {}
        },
        {
          "output_type": "stream",
          "name": "stdout",
          "text": [
            "[0 1]\n"
          ]
        },
        {
          "output_type": "display_data",
          "data": {
            "text/plain": [
              "<IPython.core.display.Javascript object>"
            ],
            "application/javascript": [
              "window[\"509997d0-ae38-11ed-a8b9-0242ac1c000c\"] = google.colab.output.getActiveOutputArea();\n",
              "//# sourceURL=js_2766614459"
            ]
          },
          "metadata": {}
        },
        {
          "output_type": "display_data",
          "data": {
            "text/plain": [
              "<IPython.core.display.Javascript object>"
            ],
            "application/javascript": [
              "window[\"509a0c88-ae38-11ed-a8b9-0242ac1c000c\"] = document.querySelector(\"#id76-0-0\");\n",
              "//# sourceURL=js_5e7c01541f"
            ]
          },
          "metadata": {}
        },
        {
          "output_type": "display_data",
          "data": {
            "text/plain": [
              "<IPython.core.display.Javascript object>"
            ],
            "application/javascript": [
              "window[\"509a7ae2-ae38-11ed-a8b9-0242ac1c000c\"] = google.colab.output.setActiveOutputArea(window[\"509a0c88-ae38-11ed-a8b9-0242ac1c000c\"]);\n",
              "//# sourceURL=js_f4d693cdee"
            ]
          },
          "metadata": {}
        },
        {
          "output_type": "stream",
          "name": "stdout",
          "text": [
            "Reward: 1, Action taken: 2, Terminated: False\n"
          ]
        },
        {
          "output_type": "display_data",
          "data": {
            "text/plain": [
              "<Figure size 360x1224 with 1 Axes>"
            ],
            "image/png": "[encoded data removed]"
          },
          "metadata": {
            "needs_background": "light"
          }
        },
        {
          "output_type": "display_data",
          "data": {
            "text/plain": [
              "<IPython.core.display.Javascript object>"
            ],
            "application/javascript": [
              "window[\"50bcda6a-ae38-11ed-a8b9-0242ac1c000c\"] = google.colab.output.setActiveOutputArea(window[\"509997d0-ae38-11ed-a8b9-0242ac1c000c\"]);\n",
              "//# sourceURL=js_343eeaf1a3"
            ]
          },
          "metadata": {}
        },
        {
          "output_type": "stream",
          "name": "stdout",
          "text": [
            "[0 2]\n"
          ]
        },
        {
          "output_type": "display_data",
          "data": {
            "text/plain": [
              "<IPython.core.display.Javascript object>"
            ],
            "application/javascript": [
              "window[\"51592168-ae38-11ed-a8b9-0242ac1c000c\"] = google.colab.output.getActiveOutputArea();\n",
              "//# sourceURL=js_1d0fdd0062"
            ]
          },
          "metadata": {}
        },
        {
          "output_type": "display_data",
          "data": {
            "text/plain": [
              "<IPython.core.display.Javascript object>"
            ],
            "application/javascript": [
              "window[\"5159850e-ae38-11ed-a8b9-0242ac1c000c\"] = document.querySelector(\"#id76-0-0\");\n",
              "//# sourceURL=js_9a72af8a88"
            ]
          },
          "metadata": {}
        },
        {
          "output_type": "display_data",
          "data": {
            "text/plain": [
              "<IPython.core.display.Javascript object>"
            ],
            "application/javascript": [
              "window[\"5159e472-ae38-11ed-a8b9-0242ac1c000c\"] = google.colab.output.setActiveOutputArea(window[\"5159850e-ae38-11ed-a8b9-0242ac1c000c\"]);\n",
              "//# sourceURL=js_29288ba75b"
            ]
          },
          "metadata": {}
        },
        {
          "output_type": "stream",
          "name": "stdout",
          "text": [
            "Reward: 1, Action taken: 2, Terminated: False\n"
          ]
        },
        {
          "output_type": "display_data",
          "data": {
            "text/plain": [
              "<Figure size 360x1224 with 1 Axes>"
            ],
            "image/png": "[encoded data removed]"
          },
          "metadata": {
            "needs_background": "light"
          }
        },
        {
          "output_type": "display_data",
          "data": {
            "text/plain": [
              "<IPython.core.display.Javascript object>"
            ],
            "application/javascript": [
              "window[\"519ba6f0-ae38-11ed-a8b9-0242ac1c000c\"] = google.colab.output.setActiveOutputArea(window[\"51592168-ae38-11ed-a8b9-0242ac1c000c\"]);\n",
              "//# sourceURL=js_22606007b4"
            ]
          },
          "metadata": {}
        },
        {
          "output_type": "stream",
          "name": "stdout",
          "text": [
            "[0 2]\n"
          ]
        },
        {
          "output_type": "display_data",
          "data": {
            "text/plain": [
              "<IPython.core.display.Javascript object>"
            ],
            "application/javascript": [
              "window[\"5237c09e-ae38-11ed-a8b9-0242ac1c000c\"] = google.colab.output.getActiveOutputArea();\n",
              "//# sourceURL=js_07b8f4d449"
            ]
          },
          "metadata": {}
        },
        {
          "output_type": "display_data",
          "data": {
            "text/plain": [
              "<IPython.core.display.Javascript object>"
            ],
            "application/javascript": [
              "window[\"5238598c-ae38-11ed-a8b9-0242ac1c000c\"] = document.querySelector(\"#id76-0-0\");\n",
              "//# sourceURL=js_b80a2a8fe4"
            ]
          },
          "metadata": {}
        },
        {
          "output_type": "display_data",
          "data": {
            "text/plain": [
              "<IPython.core.display.Javascript object>"
            ],
            "application/javascript": [
              "window[\"5238caf2-ae38-11ed-a8b9-0242ac1c000c\"] = google.colab.output.setActiveOutputArea(window[\"5238598c-ae38-11ed-a8b9-0242ac1c000c\"]);\n",
              "//# sourceURL=js_be4979ee79"
            ]
          },
          "metadata": {}
        },
        {
          "output_type": "stream",
          "name": "stdout",
          "text": [
            "Reward: 0, Action taken: 1, Terminated: False\n"
          ]
        },
        {
          "output_type": "display_data",
          "data": {
            "text/plain": [
              "<Figure size 360x1224 with 1 Axes>"
            ],
            "image/png": "[encoded data removed]"
          },
          "metadata": {
            "needs_background": "light"
          }
        },
        {
          "output_type": "display_data",
          "data": {
            "text/plain": [
              "<IPython.core.display.Javascript object>"
            ],
            "application/javascript": [
              "window[\"52576dae-ae38-11ed-a8b9-0242ac1c000c\"] = google.colab.output.setActiveOutputArea(window[\"5237c09e-ae38-11ed-a8b9-0242ac1c000c\"]);\n",
              "//# sourceURL=js_9ead136b11"
            ]
          },
          "metadata": {}
        },
        {
          "output_type": "stream",
          "name": "stdout",
          "text": [
            "[1 2]\n"
          ]
        },
        {
          "output_type": "display_data",
          "data": {
            "text/plain": [
              "<IPython.core.display.Javascript object>"
            ],
            "application/javascript": [
              "window[\"52f3b77c-ae38-11ed-a8b9-0242ac1c000c\"] = google.colab.output.getActiveOutputArea();\n",
              "//# sourceURL=js_00f06ff1bd"
            ]
          },
          "metadata": {}
        },
        {
          "output_type": "display_data",
          "data": {
            "text/plain": [
              "<IPython.core.display.Javascript object>"
            ],
            "application/javascript": [
              "window[\"52f40d26-ae38-11ed-a8b9-0242ac1c000c\"] = document.querySelector(\"#id76-0-0\");\n",
              "//# sourceURL=js_4fa85aefc3"
            ]
          },
          "metadata": {}
        },
        {
          "output_type": "display_data",
          "data": {
            "text/plain": [
              "<IPython.core.display.Javascript object>"
            ],
            "application/javascript": [
              "window[\"52f49732-ae38-11ed-a8b9-0242ac1c000c\"] = google.colab.output.setActiveOutputArea(window[\"52f40d26-ae38-11ed-a8b9-0242ac1c000c\"]);\n",
              "//# sourceURL=js_6b5e59774c"
            ]
          },
          "metadata": {}
        },
        {
          "output_type": "stream",
          "name": "stdout",
          "text": [
            "Reward: 6, Action taken: 0, Terminated: False\n"
          ]
        },
        {
          "output_type": "display_data",
          "data": {
            "text/plain": [
              "<Figure size 360x1224 with 1 Axes>"
            ],
            "image/png": "[encoded data removed]"
          },
          "metadata": {
            "needs_background": "light"
          }
        },
        {
          "output_type": "display_data",
          "data": {
            "text/plain": [
              "<IPython.core.display.Javascript object>"
            ],
            "application/javascript": [
              "window[\"53143bd2-ae38-11ed-a8b9-0242ac1c000c\"] = google.colab.output.setActiveOutputArea(window[\"52f3b77c-ae38-11ed-a8b9-0242ac1c000c\"]);\n",
              "//# sourceURL=js_d0a3c8e33a"
            ]
          },
          "metadata": {}
        },
        {
          "output_type": "stream",
          "name": "stdout",
          "text": [
            "[0 2]\n"
          ]
        },
        {
          "output_type": "display_data",
          "data": {
            "text/plain": [
              "<IPython.core.display.Javascript object>"
            ],
            "application/javascript": [
              "window[\"53b0f238-ae38-11ed-a8b9-0242ac1c000c\"] = google.colab.output.getActiveOutputArea();\n",
              "//# sourceURL=js_2f7d4bf29b"
            ]
          },
          "metadata": {}
        },
        {
          "output_type": "display_data",
          "data": {
            "text/plain": [
              "<IPython.core.display.Javascript object>"
            ],
            "application/javascript": [
              "window[\"53b14968-ae38-11ed-a8b9-0242ac1c000c\"] = document.querySelector(\"#id76-0-0\");\n",
              "//# sourceURL=js_5a559d1f8d"
            ]
          },
          "metadata": {}
        },
        {
          "output_type": "display_data",
          "data": {
            "text/plain": [
              "<IPython.core.display.Javascript object>"
            ],
            "application/javascript": [
              "window[\"53b1b1f0-ae38-11ed-a8b9-0242ac1c000c\"] = google.colab.output.setActiveOutputArea(window[\"53b14968-ae38-11ed-a8b9-0242ac1c000c\"]);\n",
              "//# sourceURL=js_2c1904ece9"
            ]
          },
          "metadata": {}
        },
        {
          "output_type": "stream",
          "name": "stdout",
          "text": [
            "Reward: -1, Action taken: 1, Terminated: False\n"
          ]
        },
        {
          "output_type": "display_data",
          "data": {
            "text/plain": [
              "<Figure size 360x1224 with 1 Axes>"
            ],
            "image/png": "[encoded data removed]"
          },
          "metadata": {
            "needs_background": "light"
          }
        },
        {
          "output_type": "display_data",
          "data": {
            "text/plain": [
              "<IPython.core.display.Javascript object>"
            ],
            "application/javascript": [
              "window[\"53d25a72-ae38-11ed-a8b9-0242ac1c000c\"] = google.colab.output.setActiveOutputArea(window[\"53b0f238-ae38-11ed-a8b9-0242ac1c000c\"]);\n",
              "//# sourceURL=js_07bf3d4ab8"
            ]
          },
          "metadata": {}
        },
        {
          "output_type": "stream",
          "name": "stdout",
          "text": [
            "[1 2]\n"
          ]
        },
        {
          "output_type": "display_data",
          "data": {
            "text/plain": [
              "<IPython.core.display.Javascript object>"
            ],
            "application/javascript": [
              "window[\"546ffd5e-ae38-11ed-a8b9-0242ac1c000c\"] = google.colab.output.getActiveOutputArea();\n",
              "//# sourceURL=js_cb3d5a4780"
            ]
          },
          "metadata": {}
        },
        {
          "output_type": "display_data",
          "data": {
            "text/plain": [
              "<IPython.core.display.Javascript object>"
            ],
            "application/javascript": [
              "window[\"54707a72-ae38-11ed-a8b9-0242ac1c000c\"] = document.querySelector(\"#id76-0-0\");\n",
              "//# sourceURL=js_49ba3f78be"
            ]
          },
          "metadata": {}
        },
        {
          "output_type": "display_data",
          "data": {
            "text/plain": [
              "<IPython.core.display.Javascript object>"
            ],
            "application/javascript": [
              "window[\"5470e4d0-ae38-11ed-a8b9-0242ac1c000c\"] = google.colab.output.setActiveOutputArea(window[\"54707a72-ae38-11ed-a8b9-0242ac1c000c\"]);\n",
              "//# sourceURL=js_a5e8bef9af"
            ]
          },
          "metadata": {}
        },
        {
          "output_type": "stream",
          "name": "stdout",
          "text": [
            "Reward: 6, Action taken: 0, Terminated: False\n"
          ]
        },
        {
          "output_type": "display_data",
          "data": {
            "text/plain": [
              "<Figure size 360x1224 with 1 Axes>"
            ],
            "image/png": "[encoded data removed]"
          },
          "metadata": {
            "needs_background": "light"
          }
        },
        {
          "output_type": "display_data",
          "data": {
            "text/plain": [
              "<IPython.core.display.Javascript object>"
            ],
            "application/javascript": [
              "window[\"54902638-ae38-11ed-a8b9-0242ac1c000c\"] = google.colab.output.setActiveOutputArea(window[\"546ffd5e-ae38-11ed-a8b9-0242ac1c000c\"]);\n",
              "//# sourceURL=js_9e088a03bb"
            ]
          },
          "metadata": {}
        },
        {
          "output_type": "stream",
          "name": "stdout",
          "text": [
            "[0 2]\n"
          ]
        },
        {
          "output_type": "display_data",
          "data": {
            "text/plain": [
              "<IPython.core.display.Javascript object>"
            ],
            "application/javascript": [
              "window[\"552e5c4a-ae38-11ed-a8b9-0242ac1c000c\"] = google.colab.output.getActiveOutputArea();\n",
              "//# sourceURL=js_2055c1e6e5"
            ]
          },
          "metadata": {}
        },
        {
          "output_type": "display_data",
          "data": {
            "text/plain": [
              "<IPython.core.display.Javascript object>"
            ],
            "application/javascript": [
              "window[\"552ece32-ae38-11ed-a8b9-0242ac1c000c\"] = document.querySelector(\"#id76-0-0\");\n",
              "//# sourceURL=js_8e043bc90a"
            ]
          },
          "metadata": {}
        },
        {
          "output_type": "display_data",
          "data": {
            "text/plain": [
              "<IPython.core.display.Javascript object>"
            ],
            "application/javascript": [
              "window[\"552f7436-ae38-11ed-a8b9-0242ac1c000c\"] = google.colab.output.setActiveOutputArea(window[\"552ece32-ae38-11ed-a8b9-0242ac1c000c\"]);\n",
              "//# sourceURL=js_6e022dab79"
            ]
          },
          "metadata": {}
        },
        {
          "output_type": "stream",
          "name": "stdout",
          "text": [
            "Reward: -1, Action taken: 1, Terminated: True\n"
          ]
        },
        {
          "output_type": "display_data",
          "data": {
            "text/plain": [
              "<Figure size 360x1224 with 1 Axes>"
            ],
            "image/png": "[encoded data removed]"
          },
          "metadata": {
            "needs_background": "light"
          }
        },
        {
          "output_type": "display_data",
          "data": {
            "text/plain": [
              "<IPython.core.display.Javascript object>"
            ],
            "application/javascript": [
              "window[\"554ea28e-ae38-11ed-a8b9-0242ac1c000c\"] = google.colab.output.setActiveOutputArea(window[\"552e5c4a-ae38-11ed-a8b9-0242ac1c000c\"]);\n",
              "//# sourceURL=js_bd20b270fa"
            ]
          },
          "metadata": {}
        },
        {
          "output_type": "stream",
          "name": "stdout",
          "text": [
            "actions_given [0, 1, 2, 1, 3, 0, 3, 1, 2, 2, 1, 0, 1, 0, 1]\n",
            "rewards [1, -1, 1, 0, -1, 1, 0, -1, 1, 1, 0, 6, -1, 6, -1]\n",
            "cumulative reward 12\n"
          ]
        }
      ]
    },
    {
      "cell_type": "code",
      "source": [
        "stocenv = GridEnvironment(stochastic=True,max_timesteps = 15)\n",
        "observation = stocenv.reset()\n",
        "print(observation)\n",
        "stocenv.render()"
      ],
      "metadata": {
        "colab": {
          "base_uri": "https://localhost:8080/",
          "height": 367
        },
        "id": "-VK8KTCdEIXQ",
        "outputId": "fc3fd1eb-61a7-4b72-9bd4-c7db0abc83e2"
      },
      "execution_count": 52,
      "outputs": [
        {
          "output_type": "stream",
          "name": "stdout",
          "text": [
            "(array([1.  , 0.  , 0.  , 0.25, 0.  , 0.  , 0.25, 0.75, 0.  , 0.  , 0.75,\n",
            "       0.25, 0.  , 0.  , 0.  , 0.5 ]), {})\n"
          ]
        },
        {
          "output_type": "display_data",
          "data": {
            "text/plain": [
              "<Figure size 360x1224 with 1 Axes>"
            ],
            "image/png": "[encoded data removed]"
          },
          "metadata": {
            "needs_background": "light"
          }
        }
      ]
    },
    {
      "cell_type": "code",
      "source": [
        "#Stochastic Environment\n",
        "stoc_agent= RandomAgent(env= stocenv)\n",
        "stoc_observation= stocenv.reset()\n",
        "terminated = False\n",
        "\n",
        "stoc_output_grid= widgets.Grid(1, 1)\n",
        "\n",
        "# Test render of environment within widget grid\n",
        "with stoc_output_grid.output_to(0, 0):\n",
        "  stocenv.render()\n",
        "\n",
        "actions_given = []\n",
        "rewards = []\n",
        "observations = []\n",
        "\n",
        "output_grid = widgets.Grid(1,1)\n",
        "\n",
        "# MDP loop\n",
        "while not terminated:\n",
        "  action= stoc_agent.step(stoc_observation)\n",
        "  observation, reward, terminated, truncated, info= stocenv.step(action)\n",
        "  actions_given.append(action)\n",
        "  rewards.append(reward)\n",
        "  observations.append(observation)\n",
        "  with output_grid.output_to(0,0):\n",
        "    deterenv.render()\n",
        "    print(f'Reward: {reward}, Action taken: {action}, Terminated: {terminated}')\n",
        "    print(info)\n",
        "  time.sleep(1)\n",
        "print(\"actions_given\", actions_given)\n",
        "print(\"rewards\", rewards)\n",
        "print(\"cumulative reward\",sum(rewards))\n",
        "     \n"
      ],
      "metadata": {
        "colab": {
          "base_uri": "https://localhost:8080/",
          "height": 1000
        },
        "outputId": "82d09cac-40b2-4564-965f-54fc89a4259d",
        "id": "RA7IESWEYwe_"
      },
      "execution_count": 53,
      "outputs": [
        {
          "output_type": "display_data",
          "data": {
            "text/plain": [
              "<IPython.core.display.HTML object>"
            ],
            "text/html": [
              "<style>\n",
              "       table#id78, #id78 > tbody > tr > th, #id78 > tbody > tr > td {\n",
              "         border: 1px solid lightgray;\n",
              "         border-collapse:collapse;\n",
              "         \n",
              "        }</style>"
            ]
          },
          "metadata": {}
        },
        {
          "output_type": "display_data",
          "data": {
            "text/plain": [
              "<IPython.core.display.HTML object>"
            ],
            "text/html": [
              "<table id=id78><tr><td id=id78-0-0></td></tr></table>"
            ]
          },
          "metadata": {}
        },
        {
          "output_type": "display_data",
          "data": {
            "text/plain": [
              "<IPython.core.display.Javascript object>"
            ],
            "application/javascript": [
              "window[\"71439ef4-ae38-11ed-a8b9-0242ac1c000c\"] = google.colab.output.getActiveOutputArea();\n",
              "//# sourceURL=js_5c906b297d"
            ]
          },
          "metadata": {}
        },
        {
          "output_type": "display_data",
          "data": {
            "text/plain": [
              "<IPython.core.display.Javascript object>"
            ],
            "application/javascript": [
              "window[\"7144185c-ae38-11ed-a8b9-0242ac1c000c\"] = document.querySelector(\"#id78-0-0\");\n",
              "//# sourceURL=js_e4c39cd561"
            ]
          },
          "metadata": {}
        },
        {
          "output_type": "display_data",
          "data": {
            "text/plain": [
              "<IPython.core.display.Javascript object>"
            ],
            "application/javascript": [
              "window[\"7144ba82-ae38-11ed-a8b9-0242ac1c000c\"] = google.colab.output.setActiveOutputArea(window[\"7144185c-ae38-11ed-a8b9-0242ac1c000c\"]);\n",
              "//# sourceURL=js_e7ab25e640"
            ]
          },
          "metadata": {}
        },
        {
          "output_type": "display_data",
          "data": {
            "text/plain": [
              "<Figure size 360x1224 with 1 Axes>"
            ],
            "image/png": "[encoded data removed]"
          },
          "metadata": {
            "needs_background": "light"
          }
        },
        {
          "output_type": "display_data",
          "data": {
            "text/plain": [
              "<IPython.core.display.Javascript object>"
            ],
            "application/javascript": [
              "window[\"715f473a-ae38-11ed-a8b9-0242ac1c000c\"] = google.colab.output.setActiveOutputArea(window[\"71439ef4-ae38-11ed-a8b9-0242ac1c000c\"]);\n",
              "//# sourceURL=js_0476b10137"
            ]
          },
          "metadata": {}
        },
        {
          "output_type": "display_data",
          "data": {
            "text/plain": [
              "<IPython.core.display.HTML object>"
            ],
            "text/html": [
              "<style>\n",
              "       table#id80, #id80 > tbody > tr > th, #id80 > tbody > tr > td {\n",
              "         border: 1px solid lightgray;\n",
              "         border-collapse:collapse;\n",
              "         \n",
              "        }</style>"
            ]
          },
          "metadata": {}
        },
        {
          "output_type": "display_data",
          "data": {
            "text/plain": [
              "<IPython.core.display.HTML object>"
            ],
            "text/html": [
              "<table id=id80><tr><td id=id80-0-0></td></tr></table>"
            ]
          },
          "metadata": {}
        },
        {
          "output_type": "stream",
          "name": "stdout",
          "text": [
            "[0 0]\n"
          ]
        },
        {
          "output_type": "display_data",
          "data": {
            "text/plain": [
              "<IPython.core.display.Javascript object>"
            ],
            "application/javascript": [
              "window[\"71646bca-ae38-11ed-a8b9-0242ac1c000c\"] = google.colab.output.getActiveOutputArea();\n",
              "//# sourceURL=js_238c081a9f"
            ]
          },
          "metadata": {}
        },
        {
          "output_type": "display_data",
          "data": {
            "text/plain": [
              "<IPython.core.display.Javascript object>"
            ],
            "application/javascript": [
              "window[\"7164c25a-ae38-11ed-a8b9-0242ac1c000c\"] = document.querySelector(\"#id80-0-0\");\n",
              "//# sourceURL=js_850a155efa"
            ]
          },
          "metadata": {}
        },
        {
          "output_type": "display_data",
          "data": {
            "text/plain": [
              "<IPython.core.display.Javascript object>"
            ],
            "application/javascript": [
              "window[\"71651160-ae38-11ed-a8b9-0242ac1c000c\"] = google.colab.output.setActiveOutputArea(window[\"7164c25a-ae38-11ed-a8b9-0242ac1c000c\"]);\n",
              "//# sourceURL=js_22017841b5"
            ]
          },
          "metadata": {}
        },
        {
          "output_type": "stream",
          "name": "stdout",
          "text": [
            "Reward: 0, Action taken: 3, Terminated: False\n",
            "{'action_given': 3, 'action_taken': 1}\n"
          ]
        },
        {
          "output_type": "display_data",
          "data": {
            "text/plain": [
              "<Figure size 360x1224 with 1 Axes>"
            ],
            "image/png": "[encoded data removed]"
          },
          "metadata": {
            "needs_background": "light"
          }
        },
        {
          "output_type": "display_data",
          "data": {
            "text/plain": [
              "<IPython.core.display.Javascript object>"
            ],
            "application/javascript": [
              "window[\"719432a6-ae38-11ed-a8b9-0242ac1c000c\"] = google.colab.output.setActiveOutputArea(window[\"71646bca-ae38-11ed-a8b9-0242ac1c000c\"]);\n",
              "//# sourceURL=js_4ca3113c1e"
            ]
          },
          "metadata": {}
        },
        {
          "output_type": "stream",
          "name": "stdout",
          "text": [
            "[0 0]\n"
          ]
        },
        {
          "output_type": "display_data",
          "data": {
            "text/plain": [
              "<IPython.core.display.Javascript object>"
            ],
            "application/javascript": [
              "window[\"72300e2e-ae38-11ed-a8b9-0242ac1c000c\"] = google.colab.output.getActiveOutputArea();\n",
              "//# sourceURL=js_e78ed54b9d"
            ]
          },
          "metadata": {}
        },
        {
          "output_type": "display_data",
          "data": {
            "text/plain": [
              "<IPython.core.display.Javascript object>"
            ],
            "application/javascript": [
              "window[\"72306950-ae38-11ed-a8b9-0242ac1c000c\"] = document.querySelector(\"#id80-0-0\");\n",
              "//# sourceURL=js_c43e8c09d8"
            ]
          },
          "metadata": {}
        },
        {
          "output_type": "display_data",
          "data": {
            "text/plain": [
              "<IPython.core.display.Javascript object>"
            ],
            "application/javascript": [
              "window[\"723152ac-ae38-11ed-a8b9-0242ac1c000c\"] = google.colab.output.setActiveOutputArea(window[\"72306950-ae38-11ed-a8b9-0242ac1c000c\"]);\n",
              "//# sourceURL=js_af1b93aeb8"
            ]
          },
          "metadata": {}
        },
        {
          "output_type": "stream",
          "name": "stdout",
          "text": [
            "Reward: 0, Action taken: 3, Terminated: False\n",
            "{'action_given': 3, 'action_taken': 3}\n"
          ]
        },
        {
          "output_type": "display_data",
          "data": {
            "text/plain": [
              "<Figure size 360x1224 with 1 Axes>"
            ],
            "image/png": "[encoded data removed]"
          },
          "metadata": {
            "needs_background": "light"
          }
        },
        {
          "output_type": "display_data",
          "data": {
            "text/plain": [
              "<IPython.core.display.Javascript object>"
            ],
            "application/javascript": [
              "window[\"725feafe-ae38-11ed-a8b9-0242ac1c000c\"] = google.colab.output.setActiveOutputArea(window[\"72300e2e-ae38-11ed-a8b9-0242ac1c000c\"]);\n",
              "//# sourceURL=js_99e819659b"
            ]
          },
          "metadata": {}
        },
        {
          "output_type": "stream",
          "name": "stdout",
          "text": [
            "[0 0]\n"
          ]
        },
        {
          "output_type": "display_data",
          "data": {
            "text/plain": [
              "<IPython.core.display.Javascript object>"
            ],
            "application/javascript": [
              "window[\"72fc5bd2-ae38-11ed-a8b9-0242ac1c000c\"] = google.colab.output.getActiveOutputArea();\n",
              "//# sourceURL=js_fa7a103175"
            ]
          },
          "metadata": {}
        },
        {
          "output_type": "display_data",
          "data": {
            "text/plain": [
              "<IPython.core.display.Javascript object>"
            ],
            "application/javascript": [
              "window[\"72fcd7f6-ae38-11ed-a8b9-0242ac1c000c\"] = document.querySelector(\"#id80-0-0\");\n",
              "//# sourceURL=js_a5f3f597a4"
            ]
          },
          "metadata": {}
        },
        {
          "output_type": "display_data",
          "data": {
            "text/plain": [
              "<IPython.core.display.Javascript object>"
            ],
            "application/javascript": [
              "window[\"72fd5550-ae38-11ed-a8b9-0242ac1c000c\"] = google.colab.output.setActiveOutputArea(window[\"72fcd7f6-ae38-11ed-a8b9-0242ac1c000c\"]);\n",
              "//# sourceURL=js_e1ce221be2"
            ]
          },
          "metadata": {}
        },
        {
          "output_type": "stream",
          "name": "stdout",
          "text": [
            "Reward: 0, Action taken: 3, Terminated: False\n",
            "{'action_given': 3, 'action_taken': 1}\n"
          ]
        },
        {
          "output_type": "display_data",
          "data": {
            "text/plain": [
              "<Figure size 360x1224 with 1 Axes>"
            ],
            "image/png": "[encoded data removed]"
          },
          "metadata": {
            "needs_background": "light"
          }
        },
        {
          "output_type": "display_data",
          "data": {
            "text/plain": [
              "<IPython.core.display.Javascript object>"
            ],
            "application/javascript": [
              "window[\"731e1510-ae38-11ed-a8b9-0242ac1c000c\"] = google.colab.output.setActiveOutputArea(window[\"72fc5bd2-ae38-11ed-a8b9-0242ac1c000c\"]);\n",
              "//# sourceURL=js_4223eddbca"
            ]
          },
          "metadata": {}
        },
        {
          "output_type": "stream",
          "name": "stdout",
          "text": [
            "[0 0]\n"
          ]
        },
        {
          "output_type": "display_data",
          "data": {
            "text/plain": [
              "<IPython.core.display.Javascript object>"
            ],
            "application/javascript": [
              "window[\"73b96736-ae38-11ed-a8b9-0242ac1c000c\"] = google.colab.output.getActiveOutputArea();\n",
              "//# sourceURL=js_2b5fa964e8"
            ]
          },
          "metadata": {}
        },
        {
          "output_type": "display_data",
          "data": {
            "text/plain": [
              "<IPython.core.display.Javascript object>"
            ],
            "application/javascript": [
              "window[\"73b9dc02-ae38-11ed-a8b9-0242ac1c000c\"] = document.querySelector(\"#id80-0-0\");\n",
              "//# sourceURL=js_125a3b8742"
            ]
          },
          "metadata": {}
        },
        {
          "output_type": "display_data",
          "data": {
            "text/plain": [
              "<IPython.core.display.Javascript object>"
            ],
            "application/javascript": [
              "window[\"73ba6bea-ae38-11ed-a8b9-0242ac1c000c\"] = google.colab.output.setActiveOutputArea(window[\"73b9dc02-ae38-11ed-a8b9-0242ac1c000c\"]);\n",
              "//# sourceURL=js_6f7d6c9653"
            ]
          },
          "metadata": {}
        },
        {
          "output_type": "stream",
          "name": "stdout",
          "text": [
            "Reward: 0, Action taken: 0, Terminated: False\n",
            "{'action_given': 0, 'action_taken': 1}\n"
          ]
        },
        {
          "output_type": "display_data",
          "data": {
            "text/plain": [
              "<Figure size 360x1224 with 1 Axes>"
            ],
            "image/png": "[encoded data removed]"
          },
          "metadata": {
            "needs_background": "light"
          }
        },
        {
          "output_type": "display_data",
          "data": {
            "text/plain": [
              "<IPython.core.display.Javascript object>"
            ],
            "application/javascript": [
              "window[\"73da9640-ae38-11ed-a8b9-0242ac1c000c\"] = google.colab.output.setActiveOutputArea(window[\"73b96736-ae38-11ed-a8b9-0242ac1c000c\"]);\n",
              "//# sourceURL=js_68c4536231"
            ]
          },
          "metadata": {}
        },
        {
          "output_type": "stream",
          "name": "stdout",
          "text": [
            "[0 1]\n"
          ]
        },
        {
          "output_type": "display_data",
          "data": {
            "text/plain": [
              "<IPython.core.display.Javascript object>"
            ],
            "application/javascript": [
              "window[\"747662dc-ae38-11ed-a8b9-0242ac1c000c\"] = google.colab.output.getActiveOutputArea();\n",
              "//# sourceURL=js_9192dfdeee"
            ]
          },
          "metadata": {}
        },
        {
          "output_type": "display_data",
          "data": {
            "text/plain": [
              "<IPython.core.display.Javascript object>"
            ],
            "application/javascript": [
              "window[\"7476c97a-ae38-11ed-a8b9-0242ac1c000c\"] = document.querySelector(\"#id80-0-0\");\n",
              "//# sourceURL=js_b8b4283786"
            ]
          },
          "metadata": {}
        },
        {
          "output_type": "display_data",
          "data": {
            "text/plain": [
              "<IPython.core.display.Javascript object>"
            ],
            "application/javascript": [
              "window[\"74773b26-ae38-11ed-a8b9-0242ac1c000c\"] = google.colab.output.setActiveOutputArea(window[\"7476c97a-ae38-11ed-a8b9-0242ac1c000c\"]);\n",
              "//# sourceURL=js_a001ec34b4"
            ]
          },
          "metadata": {}
        },
        {
          "output_type": "stream",
          "name": "stdout",
          "text": [
            "Reward: 1, Action taken: 0, Terminated: False\n",
            "{'action_given': 0, 'action_taken': 2}\n"
          ]
        },
        {
          "output_type": "display_data",
          "data": {
            "text/plain": [
              "<Figure size 360x1224 with 1 Axes>"
            ],
            "image/png": "[encoded data removed]"
          },
          "metadata": {
            "needs_background": "light"
          }
        },
        {
          "output_type": "display_data",
          "data": {
            "text/plain": [
              "<IPython.core.display.Javascript object>"
            ],
            "application/javascript": [
              "window[\"74963558-ae38-11ed-a8b9-0242ac1c000c\"] = google.colab.output.setActiveOutputArea(window[\"747662dc-ae38-11ed-a8b9-0242ac1c000c\"]);\n",
              "//# sourceURL=js_1d32a9b464"
            ]
          },
          "metadata": {}
        },
        {
          "output_type": "stream",
          "name": "stdout",
          "text": [
            "[0 2]\n"
          ]
        },
        {
          "output_type": "display_data",
          "data": {
            "text/plain": [
              "<IPython.core.display.Javascript object>"
            ],
            "application/javascript": [
              "window[\"7531a7a4-ae38-11ed-a8b9-0242ac1c000c\"] = google.colab.output.getActiveOutputArea();\n",
              "//# sourceURL=js_83fae52119"
            ]
          },
          "metadata": {}
        },
        {
          "output_type": "display_data",
          "data": {
            "text/plain": [
              "<IPython.core.display.Javascript object>"
            ],
            "application/javascript": [
              "window[\"75323ec6-ae38-11ed-a8b9-0242ac1c000c\"] = document.querySelector(\"#id80-0-0\");\n",
              "//# sourceURL=js_fbaab9440c"
            ]
          },
          "metadata": {}
        },
        {
          "output_type": "display_data",
          "data": {
            "text/plain": [
              "<IPython.core.display.Javascript object>"
            ],
            "application/javascript": [
              "window[\"75331512-ae38-11ed-a8b9-0242ac1c000c\"] = google.colab.output.setActiveOutputArea(window[\"75323ec6-ae38-11ed-a8b9-0242ac1c000c\"]);\n",
              "//# sourceURL=js_87a8bac058"
            ]
          },
          "metadata": {}
        },
        {
          "output_type": "stream",
          "name": "stdout",
          "text": [
            "Reward: 1, Action taken: 2, Terminated: False\n",
            "{'action_given': 2, 'action_taken': 2}\n"
          ]
        },
        {
          "output_type": "display_data",
          "data": {
            "text/plain": [
              "<Figure size 360x1224 with 1 Axes>"
            ],
            "image/png": "[encoded data removed]"
          },
          "metadata": {
            "needs_background": "light"
          }
        },
        {
          "output_type": "display_data",
          "data": {
            "text/plain": [
              "<IPython.core.display.Javascript object>"
            ],
            "application/javascript": [
              "window[\"75532384-ae38-11ed-a8b9-0242ac1c000c\"] = google.colab.output.setActiveOutputArea(window[\"7531a7a4-ae38-11ed-a8b9-0242ac1c000c\"]);\n",
              "//# sourceURL=js_26482cc801"
            ]
          },
          "metadata": {}
        },
        {
          "output_type": "stream",
          "name": "stdout",
          "text": [
            "[0 1]\n"
          ]
        },
        {
          "output_type": "display_data",
          "data": {
            "text/plain": [
              "<IPython.core.display.Javascript object>"
            ],
            "application/javascript": [
              "window[\"75eff33a-ae38-11ed-a8b9-0242ac1c000c\"] = google.colab.output.getActiveOutputArea();\n",
              "//# sourceURL=js_eb6dbf1d78"
            ]
          },
          "metadata": {}
        },
        {
          "output_type": "display_data",
          "data": {
            "text/plain": [
              "<IPython.core.display.Javascript object>"
            ],
            "application/javascript": [
              "window[\"75f05528-ae38-11ed-a8b9-0242ac1c000c\"] = document.querySelector(\"#id80-0-0\");\n",
              "//# sourceURL=js_eaebd93ba2"
            ]
          },
          "metadata": {}
        },
        {
          "output_type": "display_data",
          "data": {
            "text/plain": [
              "<IPython.core.display.Javascript object>"
            ],
            "application/javascript": [
              "window[\"75f12340-ae38-11ed-a8b9-0242ac1c000c\"] = google.colab.output.setActiveOutputArea(window[\"75f05528-ae38-11ed-a8b9-0242ac1c000c\"]);\n",
              "//# sourceURL=js_02fe412073"
            ]
          },
          "metadata": {}
        },
        {
          "output_type": "stream",
          "name": "stdout",
          "text": [
            "Reward: -1, Action taken: 3, Terminated: False\n",
            "{'action_given': 3, 'action_taken': 3}\n"
          ]
        },
        {
          "output_type": "display_data",
          "data": {
            "text/plain": [
              "<Figure size 360x1224 with 1 Axes>"
            ],
            "image/png": "[encoded data removed]"
          },
          "metadata": {
            "needs_background": "light"
          }
        },
        {
          "output_type": "display_data",
          "data": {
            "text/plain": [
              "<IPython.core.display.Javascript object>"
            ],
            "application/javascript": [
              "window[\"76113662-ae38-11ed-a8b9-0242ac1c000c\"] = google.colab.output.setActiveOutputArea(window[\"75eff33a-ae38-11ed-a8b9-0242ac1c000c\"]);\n",
              "//# sourceURL=js_651be19913"
            ]
          },
          "metadata": {}
        },
        {
          "output_type": "stream",
          "name": "stdout",
          "text": [
            "[0 2]\n"
          ]
        },
        {
          "output_type": "display_data",
          "data": {
            "text/plain": [
              "<IPython.core.display.Javascript object>"
            ],
            "application/javascript": [
              "window[\"76ad4a3e-ae38-11ed-a8b9-0242ac1c000c\"] = google.colab.output.getActiveOutputArea();\n",
              "//# sourceURL=js_2f101f92ea"
            ]
          },
          "metadata": {}
        },
        {
          "output_type": "display_data",
          "data": {
            "text/plain": [
              "<IPython.core.display.Javascript object>"
            ],
            "application/javascript": [
              "window[\"76ada628-ae38-11ed-a8b9-0242ac1c000c\"] = document.querySelector(\"#id80-0-0\");\n",
              "//# sourceURL=js_adddaa2fcc"
            ]
          },
          "metadata": {}
        },
        {
          "output_type": "display_data",
          "data": {
            "text/plain": [
              "<IPython.core.display.Javascript object>"
            ],
            "application/javascript": [
              "window[\"76ae191e-ae38-11ed-a8b9-0242ac1c000c\"] = google.colab.output.setActiveOutputArea(window[\"76ada628-ae38-11ed-a8b9-0242ac1c000c\"]);\n",
              "//# sourceURL=js_0362bc618d"
            ]
          },
          "metadata": {}
        },
        {
          "output_type": "stream",
          "name": "stdout",
          "text": [
            "Reward: 1, Action taken: 0, Terminated: False\n",
            "{'action_given': 0, 'action_taken': 2}\n"
          ]
        },
        {
          "output_type": "display_data",
          "data": {
            "text/plain": [
              "<Figure size 360x1224 with 1 Axes>"
            ],
            "image/png": "[encoded data removed]"
          },
          "metadata": {
            "needs_background": "light"
          }
        },
        {
          "output_type": "display_data",
          "data": {
            "text/plain": [
              "<IPython.core.display.Javascript object>"
            ],
            "application/javascript": [
              "window[\"76cd20ca-ae38-11ed-a8b9-0242ac1c000c\"] = google.colab.output.setActiveOutputArea(window[\"76ad4a3e-ae38-11ed-a8b9-0242ac1c000c\"]);\n",
              "//# sourceURL=js_851365922a"
            ]
          },
          "metadata": {}
        },
        {
          "output_type": "stream",
          "name": "stdout",
          "text": [
            "[0 3]\n"
          ]
        },
        {
          "output_type": "display_data",
          "data": {
            "text/plain": [
              "<IPython.core.display.Javascript object>"
            ],
            "application/javascript": [
              "window[\"77698154-ae38-11ed-a8b9-0242ac1c000c\"] = google.colab.output.getActiveOutputArea();\n",
              "//# sourceURL=js_9fddf31874"
            ]
          },
          "metadata": {}
        },
        {
          "output_type": "display_data",
          "data": {
            "text/plain": [
              "<IPython.core.display.Javascript object>"
            ],
            "application/javascript": [
              "window[\"776a0368-ae38-11ed-a8b9-0242ac1c000c\"] = document.querySelector(\"#id80-0-0\");\n",
              "//# sourceURL=js_270bbd51fd"
            ]
          },
          "metadata": {}
        },
        {
          "output_type": "display_data",
          "data": {
            "text/plain": [
              "<IPython.core.display.Javascript object>"
            ],
            "application/javascript": [
              "window[\"776a8b8a-ae38-11ed-a8b9-0242ac1c000c\"] = google.colab.output.setActiveOutputArea(window[\"776a0368-ae38-11ed-a8b9-0242ac1c000c\"]);\n",
              "//# sourceURL=js_9fe101a3f2"
            ]
          },
          "metadata": {}
        },
        {
          "output_type": "stream",
          "name": "stdout",
          "text": [
            "Reward: 6, Action taken: 2, Terminated: False\n",
            "{'action_given': 2, 'action_taken': 2}\n"
          ]
        },
        {
          "output_type": "display_data",
          "data": {
            "text/plain": [
              "<Figure size 360x1224 with 1 Axes>"
            ],
            "image/png": "[encoded data removed]"
          },
          "metadata": {
            "needs_background": "light"
          }
        },
        {
          "output_type": "display_data",
          "data": {
            "text/plain": [
              "<IPython.core.display.Javascript object>"
            ],
            "application/javascript": [
              "window[\"778cee5a-ae38-11ed-a8b9-0242ac1c000c\"] = google.colab.output.setActiveOutputArea(window[\"77698154-ae38-11ed-a8b9-0242ac1c000c\"]);\n",
              "//# sourceURL=js_27b306f982"
            ]
          },
          "metadata": {}
        },
        {
          "output_type": "stream",
          "name": "stdout",
          "text": [
            "[0 3]\n"
          ]
        },
        {
          "output_type": "display_data",
          "data": {
            "text/plain": [
              "<IPython.core.display.Javascript object>"
            ],
            "application/javascript": [
              "window[\"78287370-ae38-11ed-a8b9-0242ac1c000c\"] = google.colab.output.getActiveOutputArea();\n",
              "//# sourceURL=js_88d01e5295"
            ]
          },
          "metadata": {}
        },
        {
          "output_type": "display_data",
          "data": {
            "text/plain": [
              "<IPython.core.display.Javascript object>"
            ],
            "application/javascript": [
              "window[\"7828cd8e-ae38-11ed-a8b9-0242ac1c000c\"] = document.querySelector(\"#id80-0-0\");\n",
              "//# sourceURL=js_a76feed9e5"
            ]
          },
          "metadata": {}
        },
        {
          "output_type": "display_data",
          "data": {
            "text/plain": [
              "<IPython.core.display.Javascript object>"
            ],
            "application/javascript": [
              "window[\"7829209a-ae38-11ed-a8b9-0242ac1c000c\"] = google.colab.output.setActiveOutputArea(window[\"7828cd8e-ae38-11ed-a8b9-0242ac1c000c\"]);\n",
              "//# sourceURL=js_5e176a24a1"
            ]
          },
          "metadata": {}
        },
        {
          "output_type": "stream",
          "name": "stdout",
          "text": [
            "Reward: 7, Action taken: 1, Terminated: False\n",
            "{'action_given': 1, 'action_taken': 1}\n"
          ]
        },
        {
          "output_type": "display_data",
          "data": {
            "text/plain": [
              "<Figure size 360x1224 with 1 Axes>"
            ],
            "image/png": "[encoded data removed]"
          },
          "metadata": {
            "needs_background": "light"
          }
        },
        {
          "output_type": "display_data",
          "data": {
            "text/plain": [
              "<IPython.core.display.Javascript object>"
            ],
            "application/javascript": [
              "window[\"7848bb12-ae38-11ed-a8b9-0242ac1c000c\"] = google.colab.output.setActiveOutputArea(window[\"78287370-ae38-11ed-a8b9-0242ac1c000c\"]);\n",
              "//# sourceURL=js_8b7a9d251a"
            ]
          },
          "metadata": {}
        },
        {
          "output_type": "stream",
          "name": "stdout",
          "text": [
            "[0 2]\n"
          ]
        },
        {
          "output_type": "display_data",
          "data": {
            "text/plain": [
              "<IPython.core.display.Javascript object>"
            ],
            "application/javascript": [
              "window[\"78e438e4-ae38-11ed-a8b9-0242ac1c000c\"] = google.colab.output.getActiveOutputArea();\n",
              "//# sourceURL=js_81efcd4397"
            ]
          },
          "metadata": {}
        },
        {
          "output_type": "display_data",
          "data": {
            "text/plain": [
              "<IPython.core.display.Javascript object>"
            ],
            "application/javascript": [
              "window[\"78e4dff6-ae38-11ed-a8b9-0242ac1c000c\"] = document.querySelector(\"#id80-0-0\");\n",
              "//# sourceURL=js_d283887936"
            ]
          },
          "metadata": {}
        },
        {
          "output_type": "display_data",
          "data": {
            "text/plain": [
              "<IPython.core.display.Javascript object>"
            ],
            "application/javascript": [
              "window[\"78e52f92-ae38-11ed-a8b9-0242ac1c000c\"] = google.colab.output.setActiveOutputArea(window[\"78e4dff6-ae38-11ed-a8b9-0242ac1c000c\"]);\n",
              "//# sourceURL=js_b1d81e35a1"
            ]
          },
          "metadata": {}
        },
        {
          "output_type": "stream",
          "name": "stdout",
          "text": [
            "Reward: -1, Action taken: 1, Terminated: False\n",
            "{'action_given': 1, 'action_taken': 3}\n"
          ]
        },
        {
          "output_type": "display_data",
          "data": {
            "text/plain": [
              "<Figure size 360x1224 with 1 Axes>"
            ],
            "image/png": "[encoded data removed]"
          },
          "metadata": {
            "needs_background": "light"
          }
        },
        {
          "output_type": "display_data",
          "data": {
            "text/plain": [
              "<IPython.core.display.Javascript object>"
            ],
            "application/javascript": [
              "window[\"7914b898-ae38-11ed-a8b9-0242ac1c000c\"] = google.colab.output.setActiveOutputArea(window[\"78e438e4-ae38-11ed-a8b9-0242ac1c000c\"]);\n",
              "//# sourceURL=js_6ccd60b57b"
            ]
          },
          "metadata": {}
        },
        {
          "output_type": "stream",
          "name": "stdout",
          "text": [
            "[0 1]\n"
          ]
        },
        {
          "output_type": "display_data",
          "data": {
            "text/plain": [
              "<IPython.core.display.Javascript object>"
            ],
            "application/javascript": [
              "window[\"79b15932-ae38-11ed-a8b9-0242ac1c000c\"] = google.colab.output.getActiveOutputArea();\n",
              "//# sourceURL=js_1fc7140df1"
            ]
          },
          "metadata": {}
        },
        {
          "output_type": "display_data",
          "data": {
            "text/plain": [
              "<IPython.core.display.Javascript object>"
            ],
            "application/javascript": [
              "window[\"79b21430-ae38-11ed-a8b9-0242ac1c000c\"] = document.querySelector(\"#id80-0-0\");\n",
              "//# sourceURL=js_651310b74f"
            ]
          },
          "metadata": {}
        },
        {
          "output_type": "display_data",
          "data": {
            "text/plain": [
              "<IPython.core.display.Javascript object>"
            ],
            "application/javascript": [
              "window[\"79b2bde0-ae38-11ed-a8b9-0242ac1c000c\"] = google.colab.output.setActiveOutputArea(window[\"79b21430-ae38-11ed-a8b9-0242ac1c000c\"]);\n",
              "//# sourceURL=js_ddd683b2b2"
            ]
          },
          "metadata": {}
        },
        {
          "output_type": "stream",
          "name": "stdout",
          "text": [
            "Reward: -1, Action taken: 1, Terminated: False\n",
            "{'action_given': 1, 'action_taken': 3}\n"
          ]
        },
        {
          "output_type": "display_data",
          "data": {
            "text/plain": [
              "<Figure size 360x1224 with 1 Axes>"
            ],
            "image/png": "[encoded data removed]"
          },
          "metadata": {
            "needs_background": "light"
          }
        },
        {
          "output_type": "display_data",
          "data": {
            "text/plain": [
              "<IPython.core.display.Javascript object>"
            ],
            "application/javascript": [
              "window[\"79e110b4-ae38-11ed-a8b9-0242ac1c000c\"] = google.colab.output.setActiveOutputArea(window[\"79b15932-ae38-11ed-a8b9-0242ac1c000c\"]);\n",
              "//# sourceURL=js_f5b016e0d1"
            ]
          },
          "metadata": {}
        },
        {
          "output_type": "stream",
          "name": "stdout",
          "text": [
            "[0 1]\n"
          ]
        },
        {
          "output_type": "display_data",
          "data": {
            "text/plain": [
              "<IPython.core.display.Javascript object>"
            ],
            "application/javascript": [
              "window[\"7a7d198c-ae38-11ed-a8b9-0242ac1c000c\"] = google.colab.output.getActiveOutputArea();\n",
              "//# sourceURL=js_8a0fbbb14e"
            ]
          },
          "metadata": {}
        },
        {
          "output_type": "display_data",
          "data": {
            "text/plain": [
              "<IPython.core.display.Javascript object>"
            ],
            "application/javascript": [
              "window[\"7a7d800c-ae38-11ed-a8b9-0242ac1c000c\"] = document.querySelector(\"#id80-0-0\");\n",
              "//# sourceURL=js_fcdeba9f33"
            ]
          },
          "metadata": {}
        },
        {
          "output_type": "display_data",
          "data": {
            "text/plain": [
              "<IPython.core.display.Javascript object>"
            ],
            "application/javascript": [
              "window[\"7a7df230-ae38-11ed-a8b9-0242ac1c000c\"] = google.colab.output.setActiveOutputArea(window[\"7a7d800c-ae38-11ed-a8b9-0242ac1c000c\"]);\n",
              "//# sourceURL=js_1f41615a79"
            ]
          },
          "metadata": {}
        },
        {
          "output_type": "stream",
          "name": "stdout",
          "text": [
            "Reward: 0, Action taken: 1, Terminated: False\n",
            "{'action_given': 1, 'action_taken': 1}\n"
          ]
        },
        {
          "output_type": "display_data",
          "data": {
            "text/plain": [
              "<Figure size 360x1224 with 1 Axes>"
            ],
            "image/png": "[encoded data removed]"
          },
          "metadata": {
            "needs_background": "light"
          }
        },
        {
          "output_type": "display_data",
          "data": {
            "text/plain": [
              "<IPython.core.display.Javascript object>"
            ],
            "application/javascript": [
              "window[\"7aa0aece-ae38-11ed-a8b9-0242ac1c000c\"] = google.colab.output.setActiveOutputArea(window[\"7a7d198c-ae38-11ed-a8b9-0242ac1c000c\"]);\n",
              "//# sourceURL=js_55d800eb70"
            ]
          },
          "metadata": {}
        },
        {
          "output_type": "stream",
          "name": "stdout",
          "text": [
            "[0 0]\n"
          ]
        },
        {
          "output_type": "display_data",
          "data": {
            "text/plain": [
              "<IPython.core.display.Javascript object>"
            ],
            "application/javascript": [
              "window[\"7b3c1242-ae38-11ed-a8b9-0242ac1c000c\"] = google.colab.output.getActiveOutputArea();\n",
              "//# sourceURL=js_18842b43ec"
            ]
          },
          "metadata": {}
        },
        {
          "output_type": "display_data",
          "data": {
            "text/plain": [
              "<IPython.core.display.Javascript object>"
            ],
            "application/javascript": [
              "window[\"7b3c64fe-ae38-11ed-a8b9-0242ac1c000c\"] = document.querySelector(\"#id80-0-0\");\n",
              "//# sourceURL=js_021654549a"
            ]
          },
          "metadata": {}
        },
        {
          "output_type": "display_data",
          "data": {
            "text/plain": [
              "<IPython.core.display.Javascript object>"
            ],
            "application/javascript": [
              "window[\"7b3cc868-ae38-11ed-a8b9-0242ac1c000c\"] = google.colab.output.setActiveOutputArea(window[\"7b3c64fe-ae38-11ed-a8b9-0242ac1c000c\"]);\n",
              "//# sourceURL=js_1e9d6656d1"
            ]
          },
          "metadata": {}
        },
        {
          "output_type": "stream",
          "name": "stdout",
          "text": [
            "Reward: -1, Action taken: 3, Terminated: False\n",
            "{'action_given': 3, 'action_taken': 3}\n"
          ]
        },
        {
          "output_type": "display_data",
          "data": {
            "text/plain": [
              "<Figure size 360x1224 with 1 Axes>"
            ],
            "image/png": "[encoded data removed]"
          },
          "metadata": {
            "needs_background": "light"
          }
        },
        {
          "output_type": "display_data",
          "data": {
            "text/plain": [
              "<IPython.core.display.Javascript object>"
            ],
            "application/javascript": [
              "window[\"7b5ceec2-ae38-11ed-a8b9-0242ac1c000c\"] = google.colab.output.setActiveOutputArea(window[\"7b3c1242-ae38-11ed-a8b9-0242ac1c000c\"]);\n",
              "//# sourceURL=js_b83e8382de"
            ]
          },
          "metadata": {}
        },
        {
          "output_type": "stream",
          "name": "stdout",
          "text": [
            "[0 0]\n"
          ]
        },
        {
          "output_type": "display_data",
          "data": {
            "text/plain": [
              "<IPython.core.display.Javascript object>"
            ],
            "application/javascript": [
              "window[\"7bf962e8-ae38-11ed-a8b9-0242ac1c000c\"] = google.colab.output.getActiveOutputArea();\n",
              "//# sourceURL=js_a0664c9cd3"
            ]
          },
          "metadata": {}
        },
        {
          "output_type": "display_data",
          "data": {
            "text/plain": [
              "<IPython.core.display.Javascript object>"
            ],
            "application/javascript": [
              "window[\"7bf9e420-ae38-11ed-a8b9-0242ac1c000c\"] = document.querySelector(\"#id80-0-0\");\n",
              "//# sourceURL=js_38350f1556"
            ]
          },
          "metadata": {}
        },
        {
          "output_type": "display_data",
          "data": {
            "text/plain": [
              "<IPython.core.display.Javascript object>"
            ],
            "application/javascript": [
              "window[\"7bfa9870-ae38-11ed-a8b9-0242ac1c000c\"] = google.colab.output.setActiveOutputArea(window[\"7bf9e420-ae38-11ed-a8b9-0242ac1c000c\"]);\n",
              "//# sourceURL=js_51f5ec89aa"
            ]
          },
          "metadata": {}
        },
        {
          "output_type": "stream",
          "name": "stdout",
          "text": [
            "Reward: 0, Action taken: 3, Terminated: True\n",
            "{'action_given': 3, 'action_taken': 3}\n"
          ]
        },
        {
          "output_type": "display_data",
          "data": {
            "text/plain": [
              "<Figure size 360x1224 with 1 Axes>"
            ],
            "image/png": "[encoded data removed]"
          },
          "metadata": {
            "needs_background": "light"
          }
        },
        {
          "output_type": "display_data",
          "data": {
            "text/plain": [
              "<IPython.core.display.Javascript object>"
            ],
            "application/javascript": [
              "window[\"7c1a6628-ae38-11ed-a8b9-0242ac1c000c\"] = google.colab.output.setActiveOutputArea(window[\"7bf962e8-ae38-11ed-a8b9-0242ac1c000c\"]);\n",
              "//# sourceURL=js_75339162d3"
            ]
          },
          "metadata": {}
        },
        {
          "output_type": "stream",
          "name": "stdout",
          "text": [
            "actions_given [3, 3, 3, 0, 0, 2, 3, 0, 2, 1, 1, 1, 1, 3, 3]\n",
            "rewards [0, 0, 0, 0, 1, 1, -1, 1, 6, 7, -1, -1, 0, -1, 0]\n",
            "cumulative reward 12\n"
          ]
        }
      ]
    }
  ]
}