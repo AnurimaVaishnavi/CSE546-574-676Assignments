{
  "nbformat": 4,
  "nbformat_minor": 0,
  "metadata": {
    "colab": {
      "provenance": []
    },
    "kernelspec": {
      "name": "python3",
      "display_name": "Python 3"
    },
    "language_info": {
      "name": "python"
    }
  },
  "cells": [
    {
      "cell_type": "code",
      "source": [
        "!pip install gymnasium matplotlib numpy"
      ],
      "metadata": {
        "colab": {
          "base_uri": "https://localhost:8080/"
        },
        "id": "83H2XqPKzbqe",
        "outputId": "343b918a-8e2b-4a40-be0d-0712f9427731"
      },
      "execution_count": 64,
      "outputs": [
        {
          "output_type": "stream",
          "name": "stdout",
          "text": [
            "Looking in indexes: https://pypi.org/simple, https://us-python.pkg.dev/colab-wheels/public/simple/\n",
            "Requirement already satisfied: gymnasium in /usr/local/lib/python3.8/dist-packages (0.27.1)\n",
            "Requirement already satisfied: matplotlib in /usr/local/lib/python3.8/dist-packages (3.2.2)\n",
            "Requirement already satisfied: numpy in /usr/local/lib/python3.8/dist-packages (1.21.6)\n",
            "Requirement already satisfied: gymnasium-notices>=0.0.1 in /usr/local/lib/python3.8/dist-packages (from gymnasium) (0.0.1)\n",
            "Requirement already satisfied: jax-jumpy>=0.2.0 in /usr/local/lib/python3.8/dist-packages (from gymnasium) (0.2.0)\n",
            "Requirement already satisfied: typing-extensions>=4.3.0 in /usr/local/lib/python3.8/dist-packages (from gymnasium) (4.4.0)\n",
            "Requirement already satisfied: importlib-metadata>=4.8.0 in /usr/local/lib/python3.8/dist-packages (from gymnasium) (6.0.0)\n",
            "Requirement already satisfied: cloudpickle>=1.2.0 in /usr/local/lib/python3.8/dist-packages (from gymnasium) (2.2.1)\n",
            "Requirement already satisfied: pyparsing!=2.0.4,!=2.1.2,!=2.1.6,>=2.0.1 in /usr/local/lib/python3.8/dist-packages (from matplotlib) (3.0.9)\n",
            "Requirement already satisfied: python-dateutil>=2.1 in /usr/local/lib/python3.8/dist-packages (from matplotlib) (2.8.2)\n",
            "Requirement already satisfied: cycler>=0.10 in /usr/local/lib/python3.8/dist-packages (from matplotlib) (0.11.0)\n",
            "Requirement already satisfied: kiwisolver>=1.0.1 in /usr/local/lib/python3.8/dist-packages (from matplotlib) (1.4.4)\n",
            "Requirement already satisfied: zipp>=0.5 in /usr/local/lib/python3.8/dist-packages (from importlib-metadata>=4.8.0->gymnasium) (3.12.1)\n",
            "Requirement already satisfied: six>=1.5 in /usr/local/lib/python3.8/dist-packages (from python-dateutil>=2.1->matplotlib) (1.15.0)\n"
          ]
        }
      ]
    },
    {
      "cell_type": "code",
      "source": [
        "from google.colab import widgets\n",
        "import gymnasium as gym\n",
        "from gymnasium import spaces\n",
        "import matplotlib.pyplot as plt\n",
        "import numpy as np\n",
        "import time\n",
        "from tqdm import trange, tqdm\n",
        "plt.rcParams['figure.figsize'] = (5, 17)"
      ],
      "metadata": {
        "id": "cfNFzeNWzyUr"
      },
      "execution_count": 65,
      "outputs": []
    },
    {
      "cell_type": "code",
      "source": [
        "#Environment Requirements for both deterministic and Stochastic\n",
        "class GridEnvironment(gym.Env):\n",
        "  metadata = { 'render.modes': []}\n",
        "\n",
        "  def __init__(self, stochastic = False, max_timesteps = 10):\n",
        "    '''\n",
        "    # Initializes the class\n",
        "    # Define action and observation space\n",
        "    #We have an action space of 4 Discrete actions, namely,\n",
        "      1. Up, action = 0\n",
        "      2. Down, action = 1\n",
        "      3. Right, action = 2\n",
        "      4. Left, action = 3\n",
        "    #We have an observation space of 16, 4x4 grid hence the no of states is 16  (minimun was 12)\n",
        "    The environment has 3 bonus positions as well as 2 hole/pit positions \n",
        "    # the numbers 1 and 0.5 for the state position are for visualizations\n",
        "    #\n",
        "    '''\n",
        "    self.observation_space = spaces.Discrete(16)\n",
        "    self.action_space = spaces.Discrete(4)\n",
        "    self.max_timesteps = max_timesteps\n",
        "    self.stochastic = stochastic\n",
        "    self.agent_pos = [0, 0]\n",
        "    self.goal_pos = [3, 3]\n",
        "    self.timestep = 0\n",
        "    self.state = np.zeros((4,4))\n",
        "    self.state[tuple(self.agent_pos)] = 1\n",
        "    self.state[tuple(self.goal_pos)] = 0.5\n",
        "\n",
        "  def reset(self, **kwargs):\n",
        "    '''\n",
        "    Reset the environment to initial state.\n",
        "\n",
        "    '''\n",
        "    self.timestep = 0\n",
        "    self.agent_pos = [0, 0]\n",
        "    self.goal_pos = [3, 3]\n",
        "    self.hole1_pos = [1,3]\n",
        "    self.hole2_pos = [2,2]\n",
        "    self.bonus1_pos = [0,3]\n",
        "    self.bonus2_pos = [1,2]\n",
        "    self.bonus3_pos = [2,3]\n",
        "    self.state = np.zeros((4, 4))\n",
        "    self.pos_dict = {}\n",
        "    for i in range(4):\n",
        "      for j in range(4):\n",
        "        self.pos_dict[4*i+j] = [i,j]\n",
        "    self.state[tuple(self.agent_pos)] = 1\n",
        "    self.state[tuple(self.hole1_pos)] = 0.75\n",
        "    self.state[tuple(self.hole2_pos)] = 0.75\n",
        "    self.state[tuple(self.bonus1_pos)] = 0.25\n",
        "    self.state[tuple(self.bonus2_pos)] = 0.25\n",
        "    self.state[tuple(self.bonus3_pos)] = 0.25\n",
        "    self.state[tuple(self.goal_pos)] = 0.5\n",
        "    observation = self.state.flatten()\n",
        "    info = {}\n",
        "    return observation, info\n",
        "\n",
        "\n",
        "  def render(self):\n",
        "    '''\n",
        "    Render the GridEnvironment\n",
        "    '''\n",
        "    plt.imshow(self.state)\n",
        "  \n",
        "  \n",
        "  def step(self, action):\n",
        "    '''\n",
        "    Define an execution of one timestep within the environment\n",
        "    input :action: action from the action space [0,1,2,3]\n",
        "    outputs :observation, reward, terminated, truncated, info\n",
        "    '''\n",
        "    info = {}\n",
        "    reward=0\n",
        "    old_pos = self.agent_pos\n",
        "    old_dist = np.sqrt(np.sum(np.square(np.array(old_pos)-np.array(self.goal_pos))))\n",
        "\n",
        "    # It adds a level of uncertainity to the environment\n",
        "    if(self.stochastic):\n",
        "      info['action_given'] = action\n",
        "      if (np.random.uniform(0,1)>0.75):\n",
        "        action = action\n",
        "      else:\n",
        "        action = self.action_space.sample()\n",
        "      info['action_taken'] = action\n",
        "\n",
        "    if action == 0:\n",
        "      self.agent_pos[0] += 1\n",
        "    if action == 1:\n",
        "      self.agent_pos[0] -= 1\n",
        "    if action == 2:\n",
        "      self.agent_pos[1] += 1\n",
        "    if action == 3:\n",
        "      self.agent_pos[1] -= 1\n",
        "    \n",
        "    a,b= np.clip(self.agent_pos[0], 0, 3), np.clip(self.agent_pos[1], 0, 3)\n",
        "    if a!=self.agent_pos[0]:\n",
        "      reward-=1\n",
        "    if b!=self.agent_pos[1]:\n",
        "      reward-=1\n",
        "    self.agent_pos[0] = a\n",
        "    self.agent_pos[1] = b\n",
        "    self.agent_pos = np.array(self.agent_pos)\n",
        "\n",
        "    print(self.agent_pos)\n",
        "\n",
        "    self.state = np.zeros((4,4))\n",
        "    self.state[tuple(self.bonus1_pos)] = 0.25\n",
        "    self.state[tuple(self.bonus2_pos)] = 0.25\n",
        "    self.state[tuple(self.bonus3_pos)] = 0.25\n",
        "    self.state[tuple(self.hole1_pos)] = 0.75\n",
        "    self.state[tuple(self.hole2_pos)] = 0.75\n",
        "    self.state[tuple(self.goal_pos)] = 0.5\n",
        "    self.state[tuple(self.agent_pos)] = 1\n",
        "\n",
        "\n",
        "    observation = self.state.flatten()\n",
        "    \n",
        "    new_dist = np.sqrt(np.sum(np.square(np.array(self.agent_pos)-np.array(self.goal_pos))))\n",
        "    \n",
        "    proximity = True\n",
        "    if (old_dist-new_dist<0):\n",
        "      reward = -1\n",
        "      proximity = False\n",
        "    elif (old_dist-new_dist==0):\n",
        "      reward = 0\n",
        "    else:\n",
        "      reward = +1\n",
        "\n",
        "    if (self.agent_pos == self.goal_pos).all():\n",
        "      reward+= 10 \n",
        "      self.state[tuple(self.goal_pos)]=self.state[tuple(self.agent_pos)]\n",
        "    elif (self.agent_pos == self.bonus2_pos).all() and proximity:\n",
        "      reward+=5 \n",
        "      if(self.stochastic):\n",
        "        if(np.random.uniform(0,1)<0.50):\n",
        "          reward+=2\n",
        "      self.state[tuple(self.bonus2_pos)]=self.state[tuple(self.agent_pos)]\n",
        "    elif (self.agent_pos == self.bonus3_pos).all() and proximity:\n",
        "      reward+=5 \n",
        "      if(self.stochastic):\n",
        "        if(np.random.uniform(0,1)<0.50):\n",
        "          reward+=2\n",
        "      self.state[tuple(self.bonus3_pos)]=self.state[tuple(self.agent_pos)]\n",
        "    elif(self.agent_pos == self.hole2_pos).all():\n",
        "      reward-=5 \n",
        "      if(self.stochastic):\n",
        "        if(np.random.uniform(0,1)<0.9):\n",
        "          reward-=3\n",
        "      self.state[tuple(self.hole2_pos)]=self.state[tuple(self.agent_pos)]\n",
        "    elif (self.agent_pos == self.bonus1_pos).all() and proximity:\n",
        "      reward+=5 \n",
        "      if(self.stochastic):\n",
        "        if(np.random.uniform(0,1)<0.50):\n",
        "          reward+=2\n",
        "      self.state[tuple(self.bonus1_pos)]=self.state[tuple(self.agent_pos)]\n",
        "    elif (self.agent_pos == self.hole1_pos).all():\n",
        "      reward-=5\n",
        "      if(self.stochastic):\n",
        "        if(np.random.uniform(0,1)<0.75):\n",
        "          reward-=3\n",
        "      self.state[tuple(self.hole1_pos)]=self.state[tuple(self.agent_pos)]\n",
        "   \n",
        "    observation = self.agent_pos\n",
        "\n",
        "    self.timestep += 1\n",
        "    terminated = True if ((self.timestep >= self.max_timesteps) or (self.agent_pos == self.goal_pos).all()) else False\n",
        "    truncated = True if np.all((self.agent_pos >=0 ) & (self.agent_pos <= 3)) else False\n",
        "\n",
        "    return observation, reward, terminated, truncated, info\n",
        "\n"
      ],
      "metadata": {
        "id": "Y9LkR-35niEx"
      },
      "execution_count": 66,
      "outputs": []
    },
    {
      "cell_type": "code",
      "source": [
        "#DETERMISTIC environment - run a random agent for atleast 10 timesteps\n",
        "deterenv = GridEnvironment(max_timesteps = 15)\n",
        "observation = deterenv.reset()\n",
        "print(observation)\n",
        "deterenv.render()"
      ],
      "metadata": {
        "colab": {
          "base_uri": "https://localhost:8080/",
          "height": 367
        },
        "id": "WamBmm4TV7RN",
        "outputId": "86539d09-2ed4-4379-d3df-818f3af2e697"
      },
      "execution_count": 67,
      "outputs": [
        {
          "output_type": "stream",
          "name": "stdout",
          "text": [
            "(array([1.  , 0.  , 0.  , 0.25, 0.  , 0.  , 0.25, 0.75, 0.  , 0.  , 0.75,\n",
            "       0.25, 0.  , 0.  , 0.  , 0.5 ]), {})\n"
          ]
        },
        {
          "output_type": "display_data",
          "data": {
            "text/plain": [
              "<Figure size 360x1224 with 1 Axes>"
            ],
            "image/png": "[encoded data removed]"
          },
          "metadata": {
            "needs_background": "light"
          }
        }
      ]
    },
    {
      "cell_type": "code",
      "source": [
        "#Initializing a Random Agent\n",
        "class RandomAgent:\n",
        "  def __init__(self, env):\n",
        "    self.env = env\n",
        "    self.observation_space = env.observation_space\n",
        "    self.action_space = env.action_space\n",
        "\n",
        "  def step(self, obs):\n",
        "    return np.random.choice(self.action_space.n)"
      ],
      "metadata": {
        "id": "vGvzSqbp1ByR"
      },
      "execution_count": 68,
      "outputs": []
    },
    {
      "cell_type": "code",
      "source": [
        "#Deterministic Environment\n",
        "det_agent= RandomAgent(env= deterenv)\n",
        "det_observation= deterenv.reset()\n",
        "terminated = False\n",
        "\n",
        "det_output_grid= widgets.Grid(1, 1)\n",
        "\n",
        "# Test render of environment within widget grid\n",
        "with det_output_grid.output_to(0, 0):\n",
        "  deterenv.render()\n",
        "\n",
        "actions_given = []\n",
        "rewards = []\n",
        "observations = []\n",
        "\n",
        "output_grid = widgets.Grid(1,1)\n",
        "\n",
        "# MDP loop\n",
        "while not terminated:\n",
        "  action= det_agent.step(det_observation)\n",
        "\n",
        "  observation, reward, terminated, truncated, info= deterenv.step(action)\n",
        "  actions_given.append(action)\n",
        "  rewards.append(reward)\n",
        "  observations.append(observation)\n",
        "  with output_grid.output_to(0,0):\n",
        "    deterenv.render()\n",
        "    print(f'Reward: {reward}, Action taken: {action}, Terminated: {terminated}')\n",
        "  time.sleep(1)\n",
        "print(\"actions_given\", actions_given)\n",
        "print(\"rewards\", rewards)\n",
        "print(\"cumulative reward\",sum(rewards))\n",
        "     \n"
      ],
      "metadata": {
        "colab": {
          "base_uri": "https://localhost:8080/",
          "height": 1000
        },
        "id": "8j2aXl77rzVy",
        "outputId": "387f64f8-3771-4e70-d4d5-9fd63ba9205b"
      },
      "execution_count": 69,
      "outputs": [
        {
          "output_type": "display_data",
          "data": {
            "text/plain": [
              "<IPython.core.display.HTML object>"
            ],
            "text/html": [
              "<style>\n",
              "       table#id90, #id90 > tbody > tr > th, #id90 > tbody > tr > td {\n",
              "         border: 1px solid lightgray;\n",
              "         border-collapse:collapse;\n",
              "         \n",
              "        }</style>"
            ]
          },
          "metadata": {}
        },
        {
          "output_type": "display_data",
          "data": {
            "text/plain": [
              "<IPython.core.display.HTML object>"
            ],
            "text/html": [
              "<table id=id90><tr><td id=id90-0-0></td></tr></table>"
            ]
          },
          "metadata": {}
        },
        {
          "output_type": "display_data",
          "data": {
            "text/plain": [
              "<IPython.core.display.Javascript object>"
            ],
            "application/javascript": [
              "window[\"318bbd8c-ae47-11ed-a8b9-0242ac1c000c\"] = google.colab.output.getActiveOutputArea();\n",
              "//# sourceURL=js_5162ca41b7"
            ]
          },
          "metadata": {}
        },
        {
          "output_type": "display_data",
          "data": {
            "text/plain": [
              "<IPython.core.display.Javascript object>"
            ],
            "application/javascript": [
              "window[\"318c1ec6-ae47-11ed-a8b9-0242ac1c000c\"] = document.querySelector(\"#id90-0-0\");\n",
              "//# sourceURL=js_bb241560b6"
            ]
          },
          "metadata": {}
        },
        {
          "output_type": "display_data",
          "data": {
            "text/plain": [
              "<IPython.core.display.Javascript object>"
            ],
            "application/javascript": [
              "window[\"318ce4e6-ae47-11ed-a8b9-0242ac1c000c\"] = google.colab.output.setActiveOutputArea(window[\"318c1ec6-ae47-11ed-a8b9-0242ac1c000c\"]);\n",
              "//# sourceURL=js_0e0035b9f5"
            ]
          },
          "metadata": {}
        },
        {
          "output_type": "display_data",
          "data": {
            "text/plain": [
              "<Figure size 360x1224 with 1 Axes>"
            ],
            "image/png": "[encoded data removed]"
          },
          "metadata": {
            "needs_background": "light"
          }
        },
        {
          "output_type": "display_data",
          "data": {
            "text/plain": [
              "<IPython.core.display.Javascript object>"
            ],
            "application/javascript": [
              "window[\"31bae878-ae47-11ed-a8b9-0242ac1c000c\"] = google.colab.output.setActiveOutputArea(window[\"318bbd8c-ae47-11ed-a8b9-0242ac1c000c\"]);\n",
              "//# sourceURL=js_ad298043e0"
            ]
          },
          "metadata": {}
        },
        {
          "output_type": "display_data",
          "data": {
            "text/plain": [
              "<IPython.core.display.HTML object>"
            ],
            "text/html": [
              "<style>\n",
              "       table#id92, #id92 > tbody > tr > th, #id92 > tbody > tr > td {\n",
              "         border: 1px solid lightgray;\n",
              "         border-collapse:collapse;\n",
              "         \n",
              "        }</style>"
            ]
          },
          "metadata": {}
        },
        {
          "output_type": "display_data",
          "data": {
            "text/plain": [
              "<IPython.core.display.HTML object>"
            ],
            "text/html": [
              "<table id=id92><tr><td id=id92-0-0></td></tr></table>"
            ]
          },
          "metadata": {}
        },
        {
          "output_type": "stream",
          "name": "stdout",
          "text": [
            "[1 0]\n"
          ]
        },
        {
          "output_type": "display_data",
          "data": {
            "text/plain": [
              "<IPython.core.display.Javascript object>"
            ],
            "application/javascript": [
              "window[\"31c004a2-ae47-11ed-a8b9-0242ac1c000c\"] = google.colab.output.getActiveOutputArea();\n",
              "//# sourceURL=js_f318c344a0"
            ]
          },
          "metadata": {}
        },
        {
          "output_type": "display_data",
          "data": {
            "text/plain": [
              "<IPython.core.display.Javascript object>"
            ],
            "application/javascript": [
              "window[\"31c063e8-ae47-11ed-a8b9-0242ac1c000c\"] = document.querySelector(\"#id92-0-0\");\n",
              "//# sourceURL=js_a50e4342ed"
            ]
          },
          "metadata": {}
        },
        {
          "output_type": "display_data",
          "data": {
            "text/plain": [
              "<IPython.core.display.Javascript object>"
            ],
            "application/javascript": [
              "window[\"31c0b564-ae47-11ed-a8b9-0242ac1c000c\"] = google.colab.output.setActiveOutputArea(window[\"31c063e8-ae47-11ed-a8b9-0242ac1c000c\"]);\n",
              "//# sourceURL=js_48893a6bdf"
            ]
          },
          "metadata": {}
        },
        {
          "output_type": "stream",
          "name": "stdout",
          "text": [
            "Reward: 1, Action taken: 0, Terminated: False\n"
          ]
        },
        {
          "output_type": "display_data",
          "data": {
            "text/plain": [
              "<Figure size 360x1224 with 1 Axes>"
            ],
            "image/png": "[encoded data removed]"
          },
          "metadata": {
            "needs_background": "light"
          }
        },
        {
          "output_type": "display_data",
          "data": {
            "text/plain": [
              "<IPython.core.display.Javascript object>"
            ],
            "application/javascript": [
              "window[\"31ef375e-ae47-11ed-a8b9-0242ac1c000c\"] = google.colab.output.setActiveOutputArea(window[\"31c004a2-ae47-11ed-a8b9-0242ac1c000c\"]);\n",
              "//# sourceURL=js_e443f6beb1"
            ]
          },
          "metadata": {}
        },
        {
          "output_type": "stream",
          "name": "stdout",
          "text": [
            "[0 0]\n"
          ]
        },
        {
          "output_type": "display_data",
          "data": {
            "text/plain": [
              "<IPython.core.display.Javascript object>"
            ],
            "application/javascript": [
              "window[\"328beb4e-ae47-11ed-a8b9-0242ac1c000c\"] = google.colab.output.getActiveOutputArea();\n",
              "//# sourceURL=js_8ac7b015de"
            ]
          },
          "metadata": {}
        },
        {
          "output_type": "display_data",
          "data": {
            "text/plain": [
              "<IPython.core.display.Javascript object>"
            ],
            "application/javascript": [
              "window[\"328c4936-ae47-11ed-a8b9-0242ac1c000c\"] = document.querySelector(\"#id92-0-0\");\n",
              "//# sourceURL=js_9c5e0ec71d"
            ]
          },
          "metadata": {}
        },
        {
          "output_type": "display_data",
          "data": {
            "text/plain": [
              "<IPython.core.display.Javascript object>"
            ],
            "application/javascript": [
              "window[\"328cbb82-ae47-11ed-a8b9-0242ac1c000c\"] = google.colab.output.setActiveOutputArea(window[\"328c4936-ae47-11ed-a8b9-0242ac1c000c\"]);\n",
              "//# sourceURL=js_d2d2ad81eb"
            ]
          },
          "metadata": {}
        },
        {
          "output_type": "stream",
          "name": "stdout",
          "text": [
            "Reward: -1, Action taken: 1, Terminated: False\n"
          ]
        },
        {
          "output_type": "display_data",
          "data": {
            "text/plain": [
              "<Figure size 360x1224 with 1 Axes>"
            ],
            "image/png": "[encoded data removed]"
          },
          "metadata": {
            "needs_background": "light"
          }
        },
        {
          "output_type": "display_data",
          "data": {
            "text/plain": [
              "<IPython.core.display.Javascript object>"
            ],
            "application/javascript": [
              "window[\"32b27926-ae47-11ed-a8b9-0242ac1c000c\"] = google.colab.output.setActiveOutputArea(window[\"328beb4e-ae47-11ed-a8b9-0242ac1c000c\"]);\n",
              "//# sourceURL=js_c5d0233a31"
            ]
          },
          "metadata": {}
        },
        {
          "output_type": "stream",
          "name": "stdout",
          "text": [
            "[1 0]\n"
          ]
        },
        {
          "output_type": "display_data",
          "data": {
            "text/plain": [
              "<IPython.core.display.Javascript object>"
            ],
            "application/javascript": [
              "window[\"33507766-ae47-11ed-a8b9-0242ac1c000c\"] = google.colab.output.getActiveOutputArea();\n",
              "//# sourceURL=js_5abc8eec61"
            ]
          },
          "metadata": {}
        },
        {
          "output_type": "display_data",
          "data": {
            "text/plain": [
              "<IPython.core.display.Javascript object>"
            ],
            "application/javascript": [
              "window[\"33514dee-ae47-11ed-a8b9-0242ac1c000c\"] = document.querySelector(\"#id92-0-0\");\n",
              "//# sourceURL=js_5f77f3acbd"
            ]
          },
          "metadata": {}
        },
        {
          "output_type": "display_data",
          "data": {
            "text/plain": [
              "<IPython.core.display.Javascript object>"
            ],
            "application/javascript": [
              "window[\"33523452-ae47-11ed-a8b9-0242ac1c000c\"] = google.colab.output.setActiveOutputArea(window[\"33514dee-ae47-11ed-a8b9-0242ac1c000c\"]);\n",
              "//# sourceURL=js_5dc0965694"
            ]
          },
          "metadata": {}
        },
        {
          "output_type": "stream",
          "name": "stdout",
          "text": [
            "Reward: 1, Action taken: 0, Terminated: False\n"
          ]
        },
        {
          "output_type": "display_data",
          "data": {
            "text/plain": [
              "<Figure size 360x1224 with 1 Axes>"
            ],
            "image/png": "[encoded data removed]"
          },
          "metadata": {
            "needs_background": "light"
          }
        },
        {
          "output_type": "display_data",
          "data": {
            "text/plain": [
              "<IPython.core.display.Javascript object>"
            ],
            "application/javascript": [
              "window[\"339361c0-ae47-11ed-a8b9-0242ac1c000c\"] = google.colab.output.setActiveOutputArea(window[\"33507766-ae47-11ed-a8b9-0242ac1c000c\"]);\n",
              "//# sourceURL=js_fc4d0c49c3"
            ]
          },
          "metadata": {}
        },
        {
          "output_type": "stream",
          "name": "stdout",
          "text": [
            "[2 0]\n"
          ]
        },
        {
          "output_type": "display_data",
          "data": {
            "text/plain": [
              "<IPython.core.display.Javascript object>"
            ],
            "application/javascript": [
              "window[\"34339bb8-ae47-11ed-a8b9-0242ac1c000c\"] = google.colab.output.getActiveOutputArea();\n",
              "//# sourceURL=js_6dacf01197"
            ]
          },
          "metadata": {}
        },
        {
          "output_type": "display_data",
          "data": {
            "text/plain": [
              "<IPython.core.display.Javascript object>"
            ],
            "application/javascript": [
              "window[\"3434d794-ae47-11ed-a8b9-0242ac1c000c\"] = document.querySelector(\"#id92-0-0\");\n",
              "//# sourceURL=js_5b6e88dfaf"
            ]
          },
          "metadata": {}
        },
        {
          "output_type": "display_data",
          "data": {
            "text/plain": [
              "<IPython.core.display.Javascript object>"
            ],
            "application/javascript": [
              "window[\"3435fb38-ae47-11ed-a8b9-0242ac1c000c\"] = google.colab.output.setActiveOutputArea(window[\"3434d794-ae47-11ed-a8b9-0242ac1c000c\"]);\n",
              "//# sourceURL=js_f54e4d5780"
            ]
          },
          "metadata": {}
        },
        {
          "output_type": "stream",
          "name": "stdout",
          "text": [
            "Reward: 1, Action taken: 0, Terminated: False\n"
          ]
        },
        {
          "output_type": "display_data",
          "data": {
            "text/plain": [
              "<Figure size 360x1224 with 1 Axes>"
            ],
            "image/png": "[encoded data removed]"
          },
          "metadata": {
            "needs_background": "light"
          }
        },
        {
          "output_type": "display_data",
          "data": {
            "text/plain": [
              "<IPython.core.display.Javascript object>"
            ],
            "application/javascript": [
              "window[\"34726a50-ae47-11ed-a8b9-0242ac1c000c\"] = google.colab.output.setActiveOutputArea(window[\"34339bb8-ae47-11ed-a8b9-0242ac1c000c\"]);\n",
              "//# sourceURL=js_dda894879f"
            ]
          },
          "metadata": {}
        },
        {
          "output_type": "stream",
          "name": "stdout",
          "text": [
            "[2 1]\n"
          ]
        },
        {
          "output_type": "display_data",
          "data": {
            "text/plain": [
              "<IPython.core.display.Javascript object>"
            ],
            "application/javascript": [
              "window[\"35104284-ae47-11ed-a8b9-0242ac1c000c\"] = google.colab.output.getActiveOutputArea();\n",
              "//# sourceURL=js_eb0f260a3d"
            ]
          },
          "metadata": {}
        },
        {
          "output_type": "display_data",
          "data": {
            "text/plain": [
              "<IPython.core.display.Javascript object>"
            ],
            "application/javascript": [
              "window[\"351218f2-ae47-11ed-a8b9-0242ac1c000c\"] = document.querySelector(\"#id92-0-0\");\n",
              "//# sourceURL=js_27d0d186c7"
            ]
          },
          "metadata": {}
        },
        {
          "output_type": "display_data",
          "data": {
            "text/plain": [
              "<IPython.core.display.Javascript object>"
            ],
            "application/javascript": [
              "window[\"3512eac0-ae47-11ed-a8b9-0242ac1c000c\"] = google.colab.output.setActiveOutputArea(window[\"351218f2-ae47-11ed-a8b9-0242ac1c000c\"]);\n",
              "//# sourceURL=js_4c2aa7e94e"
            ]
          },
          "metadata": {}
        },
        {
          "output_type": "stream",
          "name": "stdout",
          "text": [
            "Reward: 1, Action taken: 2, Terminated: False\n"
          ]
        },
        {
          "output_type": "display_data",
          "data": {
            "text/plain": [
              "<Figure size 360x1224 with 1 Axes>"
            ],
            "image/png": "[encoded data removed]"
          },
          "metadata": {
            "needs_background": "light"
          }
        },
        {
          "output_type": "display_data",
          "data": {
            "text/plain": [
              "<IPython.core.display.Javascript object>"
            ],
            "application/javascript": [
              "window[\"356074ac-ae47-11ed-a8b9-0242ac1c000c\"] = google.colab.output.setActiveOutputArea(window[\"35104284-ae47-11ed-a8b9-0242ac1c000c\"]);\n",
              "//# sourceURL=js_9764a8ad1d"
            ]
          },
          "metadata": {}
        },
        {
          "output_type": "stream",
          "name": "stdout",
          "text": [
            "[3 1]\n"
          ]
        },
        {
          "output_type": "display_data",
          "data": {
            "text/plain": [
              "<IPython.core.display.Javascript object>"
            ],
            "application/javascript": [
              "window[\"36000bfc-ae47-11ed-a8b9-0242ac1c000c\"] = google.colab.output.getActiveOutputArea();\n",
              "//# sourceURL=js_19cce8b685"
            ]
          },
          "metadata": {}
        },
        {
          "output_type": "display_data",
          "data": {
            "text/plain": [
              "<IPython.core.display.Javascript object>"
            ],
            "application/javascript": [
              "window[\"3601b484-ae47-11ed-a8b9-0242ac1c000c\"] = document.querySelector(\"#id92-0-0\");\n",
              "//# sourceURL=js_b81dc5984a"
            ]
          },
          "metadata": {}
        },
        {
          "output_type": "display_data",
          "data": {
            "text/plain": [
              "<IPython.core.display.Javascript object>"
            ],
            "application/javascript": [
              "window[\"360322d8-ae47-11ed-a8b9-0242ac1c000c\"] = google.colab.output.setActiveOutputArea(window[\"3601b484-ae47-11ed-a8b9-0242ac1c000c\"]);\n",
              "//# sourceURL=js_30aa7e6c83"
            ]
          },
          "metadata": {}
        },
        {
          "output_type": "stream",
          "name": "stdout",
          "text": [
            "Reward: 1, Action taken: 0, Terminated: False\n"
          ]
        },
        {
          "output_type": "display_data",
          "data": {
            "text/plain": [
              "<Figure size 360x1224 with 1 Axes>"
            ],
            "image/png": "[encoded data removed]"
          },
          "metadata": {
            "needs_background": "light"
          }
        },
        {
          "output_type": "display_data",
          "data": {
            "text/plain": [
              "<IPython.core.display.Javascript object>"
            ],
            "application/javascript": [
              "window[\"363b8272-ae47-11ed-a8b9-0242ac1c000c\"] = google.colab.output.setActiveOutputArea(window[\"36000bfc-ae47-11ed-a8b9-0242ac1c000c\"]);\n",
              "//# sourceURL=js_07688a6348"
            ]
          },
          "metadata": {}
        },
        {
          "output_type": "stream",
          "name": "stdout",
          "text": [
            "[3 2]\n"
          ]
        },
        {
          "output_type": "display_data",
          "data": {
            "text/plain": [
              "<IPython.core.display.Javascript object>"
            ],
            "application/javascript": [
              "window[\"36da2436-ae47-11ed-a8b9-0242ac1c000c\"] = google.colab.output.getActiveOutputArea();\n",
              "//# sourceURL=js_e80dd224f4"
            ]
          },
          "metadata": {}
        },
        {
          "output_type": "display_data",
          "data": {
            "text/plain": [
              "<IPython.core.display.Javascript object>"
            ],
            "application/javascript": [
              "window[\"36daa078-ae47-11ed-a8b9-0242ac1c000c\"] = document.querySelector(\"#id92-0-0\");\n",
              "//# sourceURL=js_38c27b8ed7"
            ]
          },
          "metadata": {}
        },
        {
          "output_type": "display_data",
          "data": {
            "text/plain": [
              "<IPython.core.display.Javascript object>"
            ],
            "application/javascript": [
              "window[\"36dc6908-ae47-11ed-a8b9-0242ac1c000c\"] = google.colab.output.setActiveOutputArea(window[\"36daa078-ae47-11ed-a8b9-0242ac1c000c\"]);\n",
              "//# sourceURL=js_2e87cb97e7"
            ]
          },
          "metadata": {}
        },
        {
          "output_type": "stream",
          "name": "stdout",
          "text": [
            "Reward: 1, Action taken: 2, Terminated: False\n"
          ]
        },
        {
          "output_type": "display_data",
          "data": {
            "text/plain": [
              "<Figure size 360x1224 with 1 Axes>"
            ],
            "image/png": "[encoded data removed]"
          },
          "metadata": {
            "needs_background": "light"
          }
        },
        {
          "output_type": "display_data",
          "data": {
            "text/plain": [
              "<IPython.core.display.Javascript object>"
            ],
            "application/javascript": [
              "window[\"374b8806-ae47-11ed-a8b9-0242ac1c000c\"] = google.colab.output.setActiveOutputArea(window[\"36da2436-ae47-11ed-a8b9-0242ac1c000c\"]);\n",
              "//# sourceURL=js_7fd70db747"
            ]
          },
          "metadata": {}
        },
        {
          "output_type": "stream",
          "name": "stdout",
          "text": [
            "[3 3]\n"
          ]
        },
        {
          "output_type": "display_data",
          "data": {
            "text/plain": [
              "<IPython.core.display.Javascript object>"
            ],
            "application/javascript": [
              "window[\"37ea14e4-ae47-11ed-a8b9-0242ac1c000c\"] = google.colab.output.getActiveOutputArea();\n",
              "//# sourceURL=js_bbf433650f"
            ]
          },
          "metadata": {}
        },
        {
          "output_type": "display_data",
          "data": {
            "text/plain": [
              "<IPython.core.display.Javascript object>"
            ],
            "application/javascript": [
              "window[\"37ea73da-ae47-11ed-a8b9-0242ac1c000c\"] = document.querySelector(\"#id92-0-0\");\n",
              "//# sourceURL=js_78b7b4eadc"
            ]
          },
          "metadata": {}
        },
        {
          "output_type": "display_data",
          "data": {
            "text/plain": [
              "<IPython.core.display.Javascript object>"
            ],
            "application/javascript": [
              "window[\"37ead988-ae47-11ed-a8b9-0242ac1c000c\"] = google.colab.output.setActiveOutputArea(window[\"37ea73da-ae47-11ed-a8b9-0242ac1c000c\"]);\n",
              "//# sourceURL=js_05dee48201"
            ]
          },
          "metadata": {}
        },
        {
          "output_type": "stream",
          "name": "stdout",
          "text": [
            "Reward: 11, Action taken: 2, Terminated: True\n"
          ]
        },
        {
          "output_type": "display_data",
          "data": {
            "text/plain": [
              "<Figure size 360x1224 with 1 Axes>"
            ],
            "image/png": "[encoded data removed]"
          },
          "metadata": {
            "needs_background": "light"
          }
        },
        {
          "output_type": "display_data",
          "data": {
            "text/plain": [
              "<IPython.core.display.Javascript object>"
            ],
            "application/javascript": [
              "window[\"387eee8e-ae47-11ed-a8b9-0242ac1c000c\"] = google.colab.output.setActiveOutputArea(window[\"37ea14e4-ae47-11ed-a8b9-0242ac1c000c\"]);\n",
              "//# sourceURL=js_598b065c32"
            ]
          },
          "metadata": {}
        },
        {
          "output_type": "stream",
          "name": "stdout",
          "text": [
            "actions_given [0, 1, 0, 0, 2, 0, 2, 2]\n",
            "rewards [1, -1, 1, 1, 1, 1, 1, 11]\n",
            "cumulative reward 16\n"
          ]
        }
      ]
    },
    {
      "cell_type": "code",
      "source": [
        "stocenv = GridEnvironment(stochastic=True,max_timesteps = 15)\n",
        "observation = stocenv.reset()\n",
        "print(observation)\n",
        "stocenv.render()"
      ],
      "metadata": {
        "colab": {
          "base_uri": "https://localhost:8080/",
          "height": 367
        },
        "id": "-VK8KTCdEIXQ",
        "outputId": "9657766d-1cf1-45a7-ec92-9d3f083e075b"
      },
      "execution_count": 70,
      "outputs": [
        {
          "output_type": "stream",
          "name": "stdout",
          "text": [
            "(array([1.  , 0.  , 0.  , 0.25, 0.  , 0.  , 0.25, 0.75, 0.  , 0.  , 0.75,\n",
            "       0.25, 0.  , 0.  , 0.  , 0.5 ]), {})\n"
          ]
        },
        {
          "output_type": "display_data",
          "data": {
            "text/plain": [
              "<Figure size 360x1224 with 1 Axes>"
            ],
            "image/png": "[encoded data removed]"
          },
          "metadata": {
            "needs_background": "light"
          }
        }
      ]
    },
    {
      "cell_type": "code",
      "source": [
        "#Stochastic Environment\n",
        "stoc_agent= RandomAgent(env= stocenv)\n",
        "stoc_observation= stocenv.reset()\n",
        "terminated = False\n",
        "\n",
        "stoc_output_grid= widgets.Grid(1, 1)\n",
        "\n",
        "# Test render of environment within widget grid\n",
        "with stoc_output_grid.output_to(0, 0):\n",
        "  stocenv.render()\n",
        "\n",
        "actions_given = []\n",
        "rewards = []\n",
        "observations = []\n",
        "\n",
        "output_grid = widgets.Grid(1,1)\n",
        "\n",
        "# MDP loop\n",
        "while not terminated:\n",
        "  action= stoc_agent.step(stoc_observation)\n",
        "  observation, reward, terminated, truncated, info= stocenv.step(action)\n",
        "  actions_given.append(action)\n",
        "  rewards.append(reward)\n",
        "  observations.append(observation)\n",
        "  with output_grid.output_to(0,0):\n",
        "    deterenv.render()\n",
        "    print(f'Reward: {reward}, Action taken: {action}, Terminated: {terminated}')\n",
        "    print(info)\n",
        "  time.sleep(1)\n",
        "print(\"actions_given\", actions_given)\n",
        "print(\"rewards\", rewards)\n",
        "print(\"cumulative reward\",sum(rewards))\n",
        "     \n"
      ],
      "metadata": {
        "colab": {
          "base_uri": "https://localhost:8080/",
          "height": 1000
        },
        "outputId": "313285dc-f6ab-4429-e9d6-26f785e91e1d",
        "id": "RA7IESWEYwe_"
      },
      "execution_count": 71,
      "outputs": [
        {
          "output_type": "display_data",
          "data": {
            "text/plain": [
              "<IPython.core.display.HTML object>"
            ],
            "text/html": [
              "<style>\n",
              "       table#id94, #id94 > tbody > tr > th, #id94 > tbody > tr > td {\n",
              "         border: 1px solid lightgray;\n",
              "         border-collapse:collapse;\n",
              "         \n",
              "        }</style>"
            ]
          },
          "metadata": {}
        },
        {
          "output_type": "display_data",
          "data": {
            "text/plain": [
              "<IPython.core.display.HTML object>"
            ],
            "text/html": [
              "<table id=id94><tr><td id=id94-0-0></td></tr></table>"
            ]
          },
          "metadata": {}
        },
        {
          "output_type": "display_data",
          "data": {
            "text/plain": [
              "<IPython.core.display.Javascript object>"
            ],
            "application/javascript": [
              "window[\"39786ac2-ae47-11ed-a8b9-0242ac1c000c\"] = google.colab.output.getActiveOutputArea();\n",
              "//# sourceURL=js_e4e6ca4c07"
            ]
          },
          "metadata": {}
        },
        {
          "output_type": "display_data",
          "data": {
            "text/plain": [
              "<IPython.core.display.Javascript object>"
            ],
            "application/javascript": [
              "window[\"3979061c-ae47-11ed-a8b9-0242ac1c000c\"] = document.querySelector(\"#id94-0-0\");\n",
              "//# sourceURL=js_6507a35cfe"
            ]
          },
          "metadata": {}
        },
        {
          "output_type": "display_data",
          "data": {
            "text/plain": [
              "<IPython.core.display.Javascript object>"
            ],
            "application/javascript": [
              "window[\"39796b34-ae47-11ed-a8b9-0242ac1c000c\"] = google.colab.output.setActiveOutputArea(window[\"3979061c-ae47-11ed-a8b9-0242ac1c000c\"]);\n",
              "//# sourceURL=js_bd5ed29c4d"
            ]
          },
          "metadata": {}
        },
        {
          "output_type": "display_data",
          "data": {
            "text/plain": [
              "<Figure size 360x1224 with 1 Axes>"
            ],
            "image/png": "[encoded data removed]"
          },
          "metadata": {
            "needs_background": "light"
          }
        },
        {
          "output_type": "display_data",
          "data": {
            "text/plain": [
              "<IPython.core.display.Javascript object>"
            ],
            "application/javascript": [
              "window[\"39c10ce6-ae47-11ed-a8b9-0242ac1c000c\"] = google.colab.output.setActiveOutputArea(window[\"39786ac2-ae47-11ed-a8b9-0242ac1c000c\"]);\n",
              "//# sourceURL=js_7649c8f4b8"
            ]
          },
          "metadata": {}
        },
        {
          "output_type": "display_data",
          "data": {
            "text/plain": [
              "<IPython.core.display.HTML object>"
            ],
            "text/html": [
              "<style>\n",
              "       table#id96, #id96 > tbody > tr > th, #id96 > tbody > tr > td {\n",
              "         border: 1px solid lightgray;\n",
              "         border-collapse:collapse;\n",
              "         \n",
              "        }</style>"
            ]
          },
          "metadata": {}
        },
        {
          "output_type": "display_data",
          "data": {
            "text/plain": [
              "<IPython.core.display.HTML object>"
            ],
            "text/html": [
              "<table id=id96><tr><td id=id96-0-0></td></tr></table>"
            ]
          },
          "metadata": {}
        },
        {
          "output_type": "stream",
          "name": "stdout",
          "text": [
            "[1 0]\n"
          ]
        },
        {
          "output_type": "display_data",
          "data": {
            "text/plain": [
              "<IPython.core.display.Javascript object>"
            ],
            "application/javascript": [
              "window[\"39ca1cc8-ae47-11ed-a8b9-0242ac1c000c\"] = google.colab.output.getActiveOutputArea();\n",
              "//# sourceURL=js_cb1e012066"
            ]
          },
          "metadata": {}
        },
        {
          "output_type": "display_data",
          "data": {
            "text/plain": [
              "<IPython.core.display.Javascript object>"
            ],
            "application/javascript": [
              "window[\"39ca7a56-ae47-11ed-a8b9-0242ac1c000c\"] = document.querySelector(\"#id96-0-0\");\n",
              "//# sourceURL=js_88b8b03ba7"
            ]
          },
          "metadata": {}
        },
        {
          "output_type": "display_data",
          "data": {
            "text/plain": [
              "<IPython.core.display.Javascript object>"
            ],
            "application/javascript": [
              "window[\"39cb208c-ae47-11ed-a8b9-0242ac1c000c\"] = google.colab.output.setActiveOutputArea(window[\"39ca7a56-ae47-11ed-a8b9-0242ac1c000c\"]);\n",
              "//# sourceURL=js_056eaf2754"
            ]
          },
          "metadata": {}
        },
        {
          "output_type": "stream",
          "name": "stdout",
          "text": [
            "Reward: 1, Action taken: 0, Terminated: False\n",
            "{'action_given': 0, 'action_taken': 0}\n"
          ]
        },
        {
          "output_type": "display_data",
          "data": {
            "text/plain": [
              "<Figure size 360x1224 with 1 Axes>"
            ],
            "image/png": "[encoded data removed]"
          },
          "metadata": {
            "needs_background": "light"
          }
        },
        {
          "output_type": "display_data",
          "data": {
            "text/plain": [
              "<IPython.core.display.Javascript object>"
            ],
            "application/javascript": [
              "window[\"3a198e70-ae47-11ed-a8b9-0242ac1c000c\"] = google.colab.output.setActiveOutputArea(window[\"39ca1cc8-ae47-11ed-a8b9-0242ac1c000c\"]);\n",
              "//# sourceURL=js_9568a4f5a5"
            ]
          },
          "metadata": {}
        },
        {
          "output_type": "stream",
          "name": "stdout",
          "text": [
            "[2 0]\n"
          ]
        },
        {
          "output_type": "display_data",
          "data": {
            "text/plain": [
              "<IPython.core.display.Javascript object>"
            ],
            "application/javascript": [
              "window[\"3abbc384-ae47-11ed-a8b9-0242ac1c000c\"] = google.colab.output.getActiveOutputArea();\n",
              "//# sourceURL=js_08baebcc85"
            ]
          },
          "metadata": {}
        },
        {
          "output_type": "display_data",
          "data": {
            "text/plain": [
              "<IPython.core.display.Javascript object>"
            ],
            "application/javascript": [
              "window[\"3abce7fa-ae47-11ed-a8b9-0242ac1c000c\"] = document.querySelector(\"#id96-0-0\");\n",
              "//# sourceURL=js_7e8f67122b"
            ]
          },
          "metadata": {}
        },
        {
          "output_type": "display_data",
          "data": {
            "text/plain": [
              "<IPython.core.display.Javascript object>"
            ],
            "application/javascript": [
              "window[\"3abe4b68-ae47-11ed-a8b9-0242ac1c000c\"] = google.colab.output.setActiveOutputArea(window[\"3abce7fa-ae47-11ed-a8b9-0242ac1c000c\"]);\n",
              "//# sourceURL=js_9372edcde2"
            ]
          },
          "metadata": {}
        },
        {
          "output_type": "stream",
          "name": "stdout",
          "text": [
            "Reward: 1, Action taken: 3, Terminated: False\n",
            "{'action_given': 3, 'action_taken': 0}\n"
          ]
        },
        {
          "output_type": "display_data",
          "data": {
            "text/plain": [
              "<Figure size 360x1224 with 1 Axes>"
            ],
            "image/png": "[encoded data removed]"
          },
          "metadata": {
            "needs_background": "light"
          }
        },
        {
          "output_type": "display_data",
          "data": {
            "text/plain": [
              "<IPython.core.display.Javascript object>"
            ],
            "application/javascript": [
              "window[\"3afc638a-ae47-11ed-a8b9-0242ac1c000c\"] = google.colab.output.setActiveOutputArea(window[\"3abbc384-ae47-11ed-a8b9-0242ac1c000c\"]);\n",
              "//# sourceURL=js_9b0ccaf390"
            ]
          },
          "metadata": {}
        },
        {
          "output_type": "stream",
          "name": "stdout",
          "text": [
            "[1 0]\n"
          ]
        },
        {
          "output_type": "display_data",
          "data": {
            "text/plain": [
              "<IPython.core.display.Javascript object>"
            ],
            "application/javascript": [
              "window[\"3b9b7bdc-ae47-11ed-a8b9-0242ac1c000c\"] = google.colab.output.getActiveOutputArea();\n",
              "//# sourceURL=js_3b3ad1371e"
            ]
          },
          "metadata": {}
        },
        {
          "output_type": "display_data",
          "data": {
            "text/plain": [
              "<IPython.core.display.Javascript object>"
            ],
            "application/javascript": [
              "window[\"3b9cfe58-ae47-11ed-a8b9-0242ac1c000c\"] = document.querySelector(\"#id96-0-0\");\n",
              "//# sourceURL=js_88395eb207"
            ]
          },
          "metadata": {}
        },
        {
          "output_type": "display_data",
          "data": {
            "text/plain": [
              "<IPython.core.display.Javascript object>"
            ],
            "application/javascript": [
              "window[\"3b9e2738-ae47-11ed-a8b9-0242ac1c000c\"] = google.colab.output.setActiveOutputArea(window[\"3b9cfe58-ae47-11ed-a8b9-0242ac1c000c\"]);\n",
              "//# sourceURL=js_bbd7249378"
            ]
          },
          "metadata": {}
        },
        {
          "output_type": "stream",
          "name": "stdout",
          "text": [
            "Reward: -1, Action taken: 1, Terminated: False\n",
            "{'action_given': 1, 'action_taken': 1}\n"
          ]
        },
        {
          "output_type": "display_data",
          "data": {
            "text/plain": [
              "<Figure size 360x1224 with 1 Axes>"
            ],
            "image/png": "[encoded data removed]"
          },
          "metadata": {
            "needs_background": "light"
          }
        },
        {
          "output_type": "display_data",
          "data": {
            "text/plain": [
              "<IPython.core.display.Javascript object>"
            ],
            "application/javascript": [
              "window[\"3bcc2930-ae47-11ed-a8b9-0242ac1c000c\"] = google.colab.output.setActiveOutputArea(window[\"3b9b7bdc-ae47-11ed-a8b9-0242ac1c000c\"]);\n",
              "//# sourceURL=js_374cf39a89"
            ]
          },
          "metadata": {}
        },
        {
          "output_type": "stream",
          "name": "stdout",
          "text": [
            "[0 0]\n"
          ]
        },
        {
          "output_type": "display_data",
          "data": {
            "text/plain": [
              "<IPython.core.display.Javascript object>"
            ],
            "application/javascript": [
              "window[\"3c68536e-ae47-11ed-a8b9-0242ac1c000c\"] = google.colab.output.getActiveOutputArea();\n",
              "//# sourceURL=js_e2c19fc88e"
            ]
          },
          "metadata": {}
        },
        {
          "output_type": "display_data",
          "data": {
            "text/plain": [
              "<IPython.core.display.Javascript object>"
            ],
            "application/javascript": [
              "window[\"3c68b73c-ae47-11ed-a8b9-0242ac1c000c\"] = document.querySelector(\"#id96-0-0\");\n",
              "//# sourceURL=js_4d463e1da0"
            ]
          },
          "metadata": {}
        },
        {
          "output_type": "display_data",
          "data": {
            "text/plain": [
              "<IPython.core.display.Javascript object>"
            ],
            "application/javascript": [
              "window[\"3c691e20-ae47-11ed-a8b9-0242ac1c000c\"] = google.colab.output.setActiveOutputArea(window[\"3c68b73c-ae47-11ed-a8b9-0242ac1c000c\"]);\n",
              "//# sourceURL=js_ce64c68185"
            ]
          },
          "metadata": {}
        },
        {
          "output_type": "stream",
          "name": "stdout",
          "text": [
            "Reward: -1, Action taken: 1, Terminated: False\n",
            "{'action_given': 1, 'action_taken': 1}\n"
          ]
        },
        {
          "output_type": "display_data",
          "data": {
            "text/plain": [
              "<Figure size 360x1224 with 1 Axes>"
            ],
            "image/png": "[encoded data removed]"
          },
          "metadata": {
            "needs_background": "light"
          }
        },
        {
          "output_type": "display_data",
          "data": {
            "text/plain": [
              "<IPython.core.display.Javascript object>"
            ],
            "application/javascript": [
              "window[\"3c87318a-ae47-11ed-a8b9-0242ac1c000c\"] = google.colab.output.setActiveOutputArea(window[\"3c68536e-ae47-11ed-a8b9-0242ac1c000c\"]);\n",
              "//# sourceURL=js_b27f94037c"
            ]
          },
          "metadata": {}
        },
        {
          "output_type": "stream",
          "name": "stdout",
          "text": [
            "[0 1]\n"
          ]
        },
        {
          "output_type": "display_data",
          "data": {
            "text/plain": [
              "<IPython.core.display.Javascript object>"
            ],
            "application/javascript": [
              "window[\"3d2352fe-ae47-11ed-a8b9-0242ac1c000c\"] = google.colab.output.getActiveOutputArea();\n",
              "//# sourceURL=js_20cf4ad29b"
            ]
          },
          "metadata": {}
        },
        {
          "output_type": "display_data",
          "data": {
            "text/plain": [
              "<IPython.core.display.Javascript object>"
            ],
            "application/javascript": [
              "window[\"3d23b9b0-ae47-11ed-a8b9-0242ac1c000c\"] = document.querySelector(\"#id96-0-0\");\n",
              "//# sourceURL=js_c2b0878007"
            ]
          },
          "metadata": {}
        },
        {
          "output_type": "display_data",
          "data": {
            "text/plain": [
              "<IPython.core.display.Javascript object>"
            ],
            "application/javascript": [
              "window[\"3d246fcc-ae47-11ed-a8b9-0242ac1c000c\"] = google.colab.output.setActiveOutputArea(window[\"3d23b9b0-ae47-11ed-a8b9-0242ac1c000c\"]);\n",
              "//# sourceURL=js_614a87cab0"
            ]
          },
          "metadata": {}
        },
        {
          "output_type": "stream",
          "name": "stdout",
          "text": [
            "Reward: 1, Action taken: 0, Terminated: False\n",
            "{'action_given': 0, 'action_taken': 2}\n"
          ]
        },
        {
          "output_type": "display_data",
          "data": {
            "text/plain": [
              "<Figure size 360x1224 with 1 Axes>"
            ],
            "image/png": "[encoded data removed]"
          },
          "metadata": {
            "needs_background": "light"
          }
        },
        {
          "output_type": "display_data",
          "data": {
            "text/plain": [
              "<IPython.core.display.Javascript object>"
            ],
            "application/javascript": [
              "window[\"3d45b07e-ae47-11ed-a8b9-0242ac1c000c\"] = google.colab.output.setActiveOutputArea(window[\"3d2352fe-ae47-11ed-a8b9-0242ac1c000c\"]);\n",
              "//# sourceURL=js_496e19cc6c"
            ]
          },
          "metadata": {}
        },
        {
          "output_type": "stream",
          "name": "stdout",
          "text": [
            "[0 0]\n"
          ]
        },
        {
          "output_type": "display_data",
          "data": {
            "text/plain": [
              "<IPython.core.display.Javascript object>"
            ],
            "application/javascript": [
              "window[\"3de11f64-ae47-11ed-a8b9-0242ac1c000c\"] = google.colab.output.getActiveOutputArea();\n",
              "//# sourceURL=js_8a2c7a41d2"
            ]
          },
          "metadata": {}
        },
        {
          "output_type": "display_data",
          "data": {
            "text/plain": [
              "<IPython.core.display.Javascript object>"
            ],
            "application/javascript": [
              "window[\"3de1ad94-ae47-11ed-a8b9-0242ac1c000c\"] = document.querySelector(\"#id96-0-0\");\n",
              "//# sourceURL=js_7cffb0432b"
            ]
          },
          "metadata": {}
        },
        {
          "output_type": "display_data",
          "data": {
            "text/plain": [
              "<IPython.core.display.Javascript object>"
            ],
            "application/javascript": [
              "window[\"3de28732-ae47-11ed-a8b9-0242ac1c000c\"] = google.colab.output.setActiveOutputArea(window[\"3de1ad94-ae47-11ed-a8b9-0242ac1c000c\"]);\n",
              "//# sourceURL=js_de8eaa54ee"
            ]
          },
          "metadata": {}
        },
        {
          "output_type": "stream",
          "name": "stdout",
          "text": [
            "Reward: -1, Action taken: 3, Terminated: False\n",
            "{'action_given': 3, 'action_taken': 3}\n"
          ]
        },
        {
          "output_type": "display_data",
          "data": {
            "text/plain": [
              "<Figure size 360x1224 with 1 Axes>"
            ],
            "image/png": "[encoded data removed]"
          },
          "metadata": {
            "needs_background": "light"
          }
        },
        {
          "output_type": "display_data",
          "data": {
            "text/plain": [
              "<IPython.core.display.Javascript object>"
            ],
            "application/javascript": [
              "window[\"3e023474-ae47-11ed-a8b9-0242ac1c000c\"] = google.colab.output.setActiveOutputArea(window[\"3de11f64-ae47-11ed-a8b9-0242ac1c000c\"]);\n",
              "//# sourceURL=js_583c35313c"
            ]
          },
          "metadata": {}
        },
        {
          "output_type": "stream",
          "name": "stdout",
          "text": [
            "[0 1]\n"
          ]
        },
        {
          "output_type": "display_data",
          "data": {
            "text/plain": [
              "<IPython.core.display.Javascript object>"
            ],
            "application/javascript": [
              "window[\"3e9dc9c0-ae47-11ed-a8b9-0242ac1c000c\"] = google.colab.output.getActiveOutputArea();\n",
              "//# sourceURL=js_06e4015883"
            ]
          },
          "metadata": {}
        },
        {
          "output_type": "display_data",
          "data": {
            "text/plain": [
              "<IPython.core.display.Javascript object>"
            ],
            "application/javascript": [
              "window[\"3e9e25dc-ae47-11ed-a8b9-0242ac1c000c\"] = document.querySelector(\"#id96-0-0\");\n",
              "//# sourceURL=js_d72a43802d"
            ]
          },
          "metadata": {}
        },
        {
          "output_type": "display_data",
          "data": {
            "text/plain": [
              "<IPython.core.display.Javascript object>"
            ],
            "application/javascript": [
              "window[\"3e9e814e-ae47-11ed-a8b9-0242ac1c000c\"] = google.colab.output.setActiveOutputArea(window[\"3e9e25dc-ae47-11ed-a8b9-0242ac1c000c\"]);\n",
              "//# sourceURL=js_81c066bb59"
            ]
          },
          "metadata": {}
        },
        {
          "output_type": "stream",
          "name": "stdout",
          "text": [
            "Reward: 1, Action taken: 1, Terminated: False\n",
            "{'action_given': 1, 'action_taken': 2}\n"
          ]
        },
        {
          "output_type": "display_data",
          "data": {
            "text/plain": [
              "<Figure size 360x1224 with 1 Axes>"
            ],
            "image/png": "[encoded data removed]"
          },
          "metadata": {
            "needs_background": "light"
          }
        },
        {
          "output_type": "display_data",
          "data": {
            "text/plain": [
              "<IPython.core.display.Javascript object>"
            ],
            "application/javascript": [
              "window[\"3ebdf060-ae47-11ed-a8b9-0242ac1c000c\"] = google.colab.output.setActiveOutputArea(window[\"3e9dc9c0-ae47-11ed-a8b9-0242ac1c000c\"]);\n",
              "//# sourceURL=js_8292271f33"
            ]
          },
          "metadata": {}
        },
        {
          "output_type": "stream",
          "name": "stdout",
          "text": [
            "[1 1]\n"
          ]
        },
        {
          "output_type": "display_data",
          "data": {
            "text/plain": [
              "<IPython.core.display.Javascript object>"
            ],
            "application/javascript": [
              "window[\"3f5a3b50-ae47-11ed-a8b9-0242ac1c000c\"] = google.colab.output.getActiveOutputArea();\n",
              "//# sourceURL=js_389ca9eb64"
            ]
          },
          "metadata": {}
        },
        {
          "output_type": "display_data",
          "data": {
            "text/plain": [
              "<IPython.core.display.Javascript object>"
            ],
            "application/javascript": [
              "window[\"3f5ae302-ae47-11ed-a8b9-0242ac1c000c\"] = document.querySelector(\"#id96-0-0\");\n",
              "//# sourceURL=js_8410d2f99c"
            ]
          },
          "metadata": {}
        },
        {
          "output_type": "display_data",
          "data": {
            "text/plain": [
              "<IPython.core.display.Javascript object>"
            ],
            "application/javascript": [
              "window[\"3f5b3a78-ae47-11ed-a8b9-0242ac1c000c\"] = google.colab.output.setActiveOutputArea(window[\"3f5ae302-ae47-11ed-a8b9-0242ac1c000c\"]);\n",
              "//# sourceURL=js_c46681cf73"
            ]
          },
          "metadata": {}
        },
        {
          "output_type": "stream",
          "name": "stdout",
          "text": [
            "Reward: 1, Action taken: 0, Terminated: False\n",
            "{'action_given': 0, 'action_taken': 0}\n"
          ]
        },
        {
          "output_type": "display_data",
          "data": {
            "text/plain": [
              "<Figure size 360x1224 with 1 Axes>"
            ],
            "image/png": "[encoded data removed]"
          },
          "metadata": {
            "needs_background": "light"
          }
        },
        {
          "output_type": "display_data",
          "data": {
            "text/plain": [
              "<IPython.core.display.Javascript object>"
            ],
            "application/javascript": [
              "window[\"3f8cc98a-ae47-11ed-a8b9-0242ac1c000c\"] = google.colab.output.setActiveOutputArea(window[\"3f5a3b50-ae47-11ed-a8b9-0242ac1c000c\"]);\n",
              "//# sourceURL=js_695beedc82"
            ]
          },
          "metadata": {}
        },
        {
          "output_type": "stream",
          "name": "stdout",
          "text": [
            "[0 1]\n"
          ]
        },
        {
          "output_type": "display_data",
          "data": {
            "text/plain": [
              "<IPython.core.display.Javascript object>"
            ],
            "application/javascript": [
              "window[\"40286e3a-ae47-11ed-a8b9-0242ac1c000c\"] = google.colab.output.getActiveOutputArea();\n",
              "//# sourceURL=js_999a6bde10"
            ]
          },
          "metadata": {}
        },
        {
          "output_type": "display_data",
          "data": {
            "text/plain": [
              "<IPython.core.display.Javascript object>"
            ],
            "application/javascript": [
              "window[\"40296a56-ae47-11ed-a8b9-0242ac1c000c\"] = document.querySelector(\"#id96-0-0\");\n",
              "//# sourceURL=js_a73dd99a5e"
            ]
          },
          "metadata": {}
        },
        {
          "output_type": "display_data",
          "data": {
            "text/plain": [
              "<IPython.core.display.Javascript object>"
            ],
            "application/javascript": [
              "window[\"4029eddc-ae47-11ed-a8b9-0242ac1c000c\"] = google.colab.output.setActiveOutputArea(window[\"40296a56-ae47-11ed-a8b9-0242ac1c000c\"]);\n",
              "//# sourceURL=js_cf340019a9"
            ]
          },
          "metadata": {}
        },
        {
          "output_type": "stream",
          "name": "stdout",
          "text": [
            "Reward: -1, Action taken: 2, Terminated: False\n",
            "{'action_given': 2, 'action_taken': 1}\n"
          ]
        },
        {
          "output_type": "display_data",
          "data": {
            "text/plain": [
              "<Figure size 360x1224 with 1 Axes>"
            ],
            "image/png": "[encoded data removed]"
          },
          "metadata": {
            "needs_background": "light"
          }
        },
        {
          "output_type": "display_data",
          "data": {
            "text/plain": [
              "<IPython.core.display.Javascript object>"
            ],
            "application/javascript": [
              "window[\"4049c864-ae47-11ed-a8b9-0242ac1c000c\"] = google.colab.output.setActiveOutputArea(window[\"40286e3a-ae47-11ed-a8b9-0242ac1c000c\"]);\n",
              "//# sourceURL=js_59bc7e9413"
            ]
          },
          "metadata": {}
        },
        {
          "output_type": "stream",
          "name": "stdout",
          "text": [
            "[0 0]\n"
          ]
        },
        {
          "output_type": "display_data",
          "data": {
            "text/plain": [
              "<IPython.core.display.Javascript object>"
            ],
            "application/javascript": [
              "window[\"40e5a54a-ae47-11ed-a8b9-0242ac1c000c\"] = google.colab.output.getActiveOutputArea();\n",
              "//# sourceURL=js_3313aecccb"
            ]
          },
          "metadata": {}
        },
        {
          "output_type": "display_data",
          "data": {
            "text/plain": [
              "<IPython.core.display.Javascript object>"
            ],
            "application/javascript": [
              "window[\"40e60af8-ae47-11ed-a8b9-0242ac1c000c\"] = document.querySelector(\"#id96-0-0\");\n",
              "//# sourceURL=js_5ef7f20073"
            ]
          },
          "metadata": {}
        },
        {
          "output_type": "display_data",
          "data": {
            "text/plain": [
              "<IPython.core.display.Javascript object>"
            ],
            "application/javascript": [
              "window[\"40e659ea-ae47-11ed-a8b9-0242ac1c000c\"] = google.colab.output.setActiveOutputArea(window[\"40e60af8-ae47-11ed-a8b9-0242ac1c000c\"]);\n",
              "//# sourceURL=js_791a7dc600"
            ]
          },
          "metadata": {}
        },
        {
          "output_type": "stream",
          "name": "stdout",
          "text": [
            "Reward: -1, Action taken: 2, Terminated: False\n",
            "{'action_given': 2, 'action_taken': 3}\n"
          ]
        },
        {
          "output_type": "display_data",
          "data": {
            "text/plain": [
              "<Figure size 360x1224 with 1 Axes>"
            ],
            "image/png": "[encoded data removed]"
          },
          "metadata": {
            "needs_background": "light"
          }
        },
        {
          "output_type": "display_data",
          "data": {
            "text/plain": [
              "<IPython.core.display.Javascript object>"
            ],
            "application/javascript": [
              "window[\"410515d8-ae47-11ed-a8b9-0242ac1c000c\"] = google.colab.output.setActiveOutputArea(window[\"40e5a54a-ae47-11ed-a8b9-0242ac1c000c\"]);\n",
              "//# sourceURL=js_7ac64f1715"
            ]
          },
          "metadata": {}
        },
        {
          "output_type": "stream",
          "name": "stdout",
          "text": [
            "[1 0]\n"
          ]
        },
        {
          "output_type": "display_data",
          "data": {
            "text/plain": [
              "<IPython.core.display.Javascript object>"
            ],
            "application/javascript": [
              "window[\"41a10a4c-ae47-11ed-a8b9-0242ac1c000c\"] = google.colab.output.getActiveOutputArea();\n",
              "//# sourceURL=js_6bfb0446d4"
            ]
          },
          "metadata": {}
        },
        {
          "output_type": "display_data",
          "data": {
            "text/plain": [
              "<IPython.core.display.Javascript object>"
            ],
            "application/javascript": [
              "window[\"41a16c80-ae47-11ed-a8b9-0242ac1c000c\"] = document.querySelector(\"#id96-0-0\");\n",
              "//# sourceURL=js_63f648f43e"
            ]
          },
          "metadata": {}
        },
        {
          "output_type": "display_data",
          "data": {
            "text/plain": [
              "<IPython.core.display.Javascript object>"
            ],
            "application/javascript": [
              "window[\"41a1c78e-ae47-11ed-a8b9-0242ac1c000c\"] = google.colab.output.setActiveOutputArea(window[\"41a16c80-ae47-11ed-a8b9-0242ac1c000c\"]);\n",
              "//# sourceURL=js_60b5e64bb0"
            ]
          },
          "metadata": {}
        },
        {
          "output_type": "stream",
          "name": "stdout",
          "text": [
            "Reward: 1, Action taken: 1, Terminated: False\n",
            "{'action_given': 1, 'action_taken': 0}\n"
          ]
        },
        {
          "output_type": "display_data",
          "data": {
            "text/plain": [
              "<Figure size 360x1224 with 1 Axes>"
            ],
            "image/png": "[encoded data removed]"
          },
          "metadata": {
            "needs_background": "light"
          }
        },
        {
          "output_type": "display_data",
          "data": {
            "text/plain": [
              "<IPython.core.display.Javascript object>"
            ],
            "application/javascript": [
              "window[\"41c28b86-ae47-11ed-a8b9-0242ac1c000c\"] = google.colab.output.setActiveOutputArea(window[\"41a10a4c-ae47-11ed-a8b9-0242ac1c000c\"]);\n",
              "//# sourceURL=js_7be6fb54a3"
            ]
          },
          "metadata": {}
        },
        {
          "output_type": "stream",
          "name": "stdout",
          "text": [
            "[1 1]\n"
          ]
        },
        {
          "output_type": "display_data",
          "data": {
            "text/plain": [
              "<IPython.core.display.Javascript object>"
            ],
            "application/javascript": [
              "window[\"425f5ca4-ae47-11ed-a8b9-0242ac1c000c\"] = google.colab.output.getActiveOutputArea();\n",
              "//# sourceURL=js_d11ae09e5f"
            ]
          },
          "metadata": {}
        },
        {
          "output_type": "display_data",
          "data": {
            "text/plain": [
              "<IPython.core.display.Javascript object>"
            ],
            "application/javascript": [
              "window[\"425fd47c-ae47-11ed-a8b9-0242ac1c000c\"] = document.querySelector(\"#id96-0-0\");\n",
              "//# sourceURL=js_47c8e90497"
            ]
          },
          "metadata": {}
        },
        {
          "output_type": "display_data",
          "data": {
            "text/plain": [
              "<IPython.core.display.Javascript object>"
            ],
            "application/javascript": [
              "window[\"4260a690-ae47-11ed-a8b9-0242ac1c000c\"] = google.colab.output.setActiveOutputArea(window[\"425fd47c-ae47-11ed-a8b9-0242ac1c000c\"]);\n",
              "//# sourceURL=js_c1a73b85ac"
            ]
          },
          "metadata": {}
        },
        {
          "output_type": "stream",
          "name": "stdout",
          "text": [
            "Reward: 1, Action taken: 2, Terminated: False\n",
            "{'action_given': 2, 'action_taken': 2}\n"
          ]
        },
        {
          "output_type": "display_data",
          "data": {
            "text/plain": [
              "<Figure size 360x1224 with 1 Axes>"
            ],
            "image/png": "[encoded data removed]"
          },
          "metadata": {
            "needs_background": "light"
          }
        },
        {
          "output_type": "display_data",
          "data": {
            "text/plain": [
              "<IPython.core.display.Javascript object>"
            ],
            "application/javascript": [
              "window[\"427fac7a-ae47-11ed-a8b9-0242ac1c000c\"] = google.colab.output.setActiveOutputArea(window[\"425f5ca4-ae47-11ed-a8b9-0242ac1c000c\"]);\n",
              "//# sourceURL=js_ae345ada0c"
            ]
          },
          "metadata": {}
        },
        {
          "output_type": "stream",
          "name": "stdout",
          "text": [
            "[1 0]\n"
          ]
        },
        {
          "output_type": "display_data",
          "data": {
            "text/plain": [
              "<IPython.core.display.Javascript object>"
            ],
            "application/javascript": [
              "window[\"431b1a98-ae47-11ed-a8b9-0242ac1c000c\"] = google.colab.output.getActiveOutputArea();\n",
              "//# sourceURL=js_6b56b49614"
            ]
          },
          "metadata": {}
        },
        {
          "output_type": "display_data",
          "data": {
            "text/plain": [
              "<IPython.core.display.Javascript object>"
            ],
            "application/javascript": [
              "window[\"431b7768-ae47-11ed-a8b9-0242ac1c000c\"] = document.querySelector(\"#id96-0-0\");\n",
              "//# sourceURL=js_d9ebde50e2"
            ]
          },
          "metadata": {}
        },
        {
          "output_type": "display_data",
          "data": {
            "text/plain": [
              "<IPython.core.display.Javascript object>"
            ],
            "application/javascript": [
              "window[\"431bd2e4-ae47-11ed-a8b9-0242ac1c000c\"] = google.colab.output.setActiveOutputArea(window[\"431b7768-ae47-11ed-a8b9-0242ac1c000c\"]);\n",
              "//# sourceURL=js_7f019ff99f"
            ]
          },
          "metadata": {}
        },
        {
          "output_type": "stream",
          "name": "stdout",
          "text": [
            "Reward: -1, Action taken: 3, Terminated: False\n",
            "{'action_given': 3, 'action_taken': 3}\n"
          ]
        },
        {
          "output_type": "display_data",
          "data": {
            "text/plain": [
              "<Figure size 360x1224 with 1 Axes>"
            ],
            "image/png": "[encoded data removed]"
          },
          "metadata": {
            "needs_background": "light"
          }
        },
        {
          "output_type": "display_data",
          "data": {
            "text/plain": [
              "<IPython.core.display.Javascript object>"
            ],
            "application/javascript": [
              "window[\"433c5474-ae47-11ed-a8b9-0242ac1c000c\"] = google.colab.output.setActiveOutputArea(window[\"431b1a98-ae47-11ed-a8b9-0242ac1c000c\"]);\n",
              "//# sourceURL=js_df32b22688"
            ]
          },
          "metadata": {}
        },
        {
          "output_type": "stream",
          "name": "stdout",
          "text": [
            "[2 0]\n"
          ]
        },
        {
          "output_type": "display_data",
          "data": {
            "text/plain": [
              "<IPython.core.display.Javascript object>"
            ],
            "application/javascript": [
              "window[\"43d8dfba-ae47-11ed-a8b9-0242ac1c000c\"] = google.colab.output.getActiveOutputArea();\n",
              "//# sourceURL=js_eb5f0b49dc"
            ]
          },
          "metadata": {}
        },
        {
          "output_type": "display_data",
          "data": {
            "text/plain": [
              "<IPython.core.display.Javascript object>"
            ],
            "application/javascript": [
              "window[\"43d9652a-ae47-11ed-a8b9-0242ac1c000c\"] = document.querySelector(\"#id96-0-0\");\n",
              "//# sourceURL=js_fc44a49171"
            ]
          },
          "metadata": {}
        },
        {
          "output_type": "display_data",
          "data": {
            "text/plain": [
              "<IPython.core.display.Javascript object>"
            ],
            "application/javascript": [
              "window[\"43d9bcb4-ae47-11ed-a8b9-0242ac1c000c\"] = google.colab.output.setActiveOutputArea(window[\"43d9652a-ae47-11ed-a8b9-0242ac1c000c\"]);\n",
              "//# sourceURL=js_5fdedfbef1"
            ]
          },
          "metadata": {}
        },
        {
          "output_type": "stream",
          "name": "stdout",
          "text": [
            "Reward: 1, Action taken: 0, Terminated: False\n",
            "{'action_given': 0, 'action_taken': 0}\n"
          ]
        },
        {
          "output_type": "display_data",
          "data": {
            "text/plain": [
              "<Figure size 360x1224 with 1 Axes>"
            ],
            "image/png": "[encoded data removed]"
          },
          "metadata": {
            "needs_background": "light"
          }
        },
        {
          "output_type": "display_data",
          "data": {
            "text/plain": [
              "<IPython.core.display.Javascript object>"
            ],
            "application/javascript": [
              "window[\"43fb426c-ae47-11ed-a8b9-0242ac1c000c\"] = google.colab.output.setActiveOutputArea(window[\"43d8dfba-ae47-11ed-a8b9-0242ac1c000c\"]);\n",
              "//# sourceURL=js_8d599cf274"
            ]
          },
          "metadata": {}
        },
        {
          "output_type": "stream",
          "name": "stdout",
          "text": [
            "[2 1]\n"
          ]
        },
        {
          "output_type": "display_data",
          "data": {
            "text/plain": [
              "<IPython.core.display.Javascript object>"
            ],
            "application/javascript": [
              "window[\"44972f1a-ae47-11ed-a8b9-0242ac1c000c\"] = google.colab.output.getActiveOutputArea();\n",
              "//# sourceURL=js_eb19e238f6"
            ]
          },
          "metadata": {}
        },
        {
          "output_type": "display_data",
          "data": {
            "text/plain": [
              "<IPython.core.display.Javascript object>"
            ],
            "application/javascript": [
              "window[\"44978578-ae47-11ed-a8b9-0242ac1c000c\"] = document.querySelector(\"#id96-0-0\");\n",
              "//# sourceURL=js_62305e11b8"
            ]
          },
          "metadata": {}
        },
        {
          "output_type": "display_data",
          "data": {
            "text/plain": [
              "<IPython.core.display.Javascript object>"
            ],
            "application/javascript": [
              "window[\"4497f846-ae47-11ed-a8b9-0242ac1c000c\"] = google.colab.output.setActiveOutputArea(window[\"44978578-ae47-11ed-a8b9-0242ac1c000c\"]);\n",
              "//# sourceURL=js_2363b8e4b1"
            ]
          },
          "metadata": {}
        },
        {
          "output_type": "stream",
          "name": "stdout",
          "text": [
            "Reward: 1, Action taken: 3, Terminated: True\n",
            "{'action_given': 3, 'action_taken': 2}\n"
          ]
        },
        {
          "output_type": "display_data",
          "data": {
            "text/plain": [
              "<Figure size 360x1224 with 1 Axes>"
            ],
            "image/png": "[encoded data removed]"
          },
          "metadata": {
            "needs_background": "light"
          }
        },
        {
          "output_type": "display_data",
          "data": {
            "text/plain": [
              "<IPython.core.display.Javascript object>"
            ],
            "application/javascript": [
              "window[\"44b867d4-ae47-11ed-a8b9-0242ac1c000c\"] = google.colab.output.setActiveOutputArea(window[\"44972f1a-ae47-11ed-a8b9-0242ac1c000c\"]);\n",
              "//# sourceURL=js_96d5931637"
            ]
          },
          "metadata": {}
        },
        {
          "output_type": "stream",
          "name": "stdout",
          "text": [
            "actions_given [0, 3, 1, 1, 0, 3, 1, 0, 2, 2, 1, 2, 3, 0, 3]\n",
            "rewards [1, 1, -1, -1, 1, -1, 1, 1, -1, -1, 1, 1, -1, 1, 1]\n",
            "cumulative reward 3\n"
          ]
        }
      ]
    }
  ]
}