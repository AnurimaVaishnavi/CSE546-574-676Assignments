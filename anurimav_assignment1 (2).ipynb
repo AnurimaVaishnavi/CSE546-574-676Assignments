{
  "nbformat": 4,
  "nbformat_minor": 0,
  "metadata": {
    "colab": {
      "provenance": []
    },
    "kernelspec": {
      "name": "python3",
      "display_name": "Python 3"
    },
    "language_info": {
      "name": "python"
    }
  },
  "cells": [
    {
      "cell_type": "code",
      "source": [
        "!pip install gymnasium matplotlib numpy"
      ],
      "metadata": {
        "colab": {
          "base_uri": "https://localhost:8080/"
        },
        "id": "83H2XqPKzbqe",
        "outputId": "2e793ab9-693a-495a-dd74-1c82ef57be7d"
      },
      "execution_count": 12,
      "outputs": [
        {
          "output_type": "stream",
          "name": "stdout",
          "text": [
            "Looking in indexes: https://pypi.org/simple, https://us-python.pkg.dev/colab-wheels/public/simple/\n",
            "Requirement already satisfied: gymnasium in /usr/local/lib/python3.8/dist-packages (0.27.1)\n",
            "Requirement already satisfied: matplotlib in /usr/local/lib/python3.8/dist-packages (3.2.2)\n",
            "Requirement already satisfied: numpy in /usr/local/lib/python3.8/dist-packages (1.21.6)\n",
            "Requirement already satisfied: importlib-metadata>=4.8.0 in /usr/local/lib/python3.8/dist-packages (from gymnasium) (6.0.0)\n",
            "Requirement already satisfied: jax-jumpy>=0.2.0 in /usr/local/lib/python3.8/dist-packages (from gymnasium) (0.2.0)\n",
            "Requirement already satisfied: cloudpickle>=1.2.0 in /usr/local/lib/python3.8/dist-packages (from gymnasium) (2.2.1)\n",
            "Requirement already satisfied: gymnasium-notices>=0.0.1 in /usr/local/lib/python3.8/dist-packages (from gymnasium) (0.0.1)\n",
            "Requirement already satisfied: typing-extensions>=4.3.0 in /usr/local/lib/python3.8/dist-packages (from gymnasium) (4.4.0)\n",
            "Requirement already satisfied: cycler>=0.10 in /usr/local/lib/python3.8/dist-packages (from matplotlib) (0.11.0)\n",
            "Requirement already satisfied: kiwisolver>=1.0.1 in /usr/local/lib/python3.8/dist-packages (from matplotlib) (1.4.4)\n",
            "Requirement already satisfied: python-dateutil>=2.1 in /usr/local/lib/python3.8/dist-packages (from matplotlib) (2.8.2)\n",
            "Requirement already satisfied: pyparsing!=2.0.4,!=2.1.2,!=2.1.6,>=2.0.1 in /usr/local/lib/python3.8/dist-packages (from matplotlib) (3.0.9)\n",
            "Requirement already satisfied: zipp>=0.5 in /usr/local/lib/python3.8/dist-packages (from importlib-metadata>=4.8.0->gymnasium) (3.12.1)\n",
            "Requirement already satisfied: six>=1.5 in /usr/local/lib/python3.8/dist-packages (from python-dateutil>=2.1->matplotlib) (1.15.0)\n"
          ]
        }
      ]
    },
    {
      "cell_type": "code",
      "source": [
        "from google.colab import widgets\n",
        "import gymnasium as gym\n",
        "from gymnasium import spaces\n",
        "import matplotlib.pyplot as plt\n",
        "import numpy as np\n",
        "import time\n",
        "from tqdm import trange, tqdm\n",
        "plt.rcParams['figure.figsize'] = (5, 17)"
      ],
      "metadata": {
        "id": "cfNFzeNWzyUr"
      },
      "execution_count": 13,
      "outputs": []
    },
    {
      "cell_type": "code",
      "source": [
        "#Environment Requirements for both deterministic and Stochastic\n",
        "class GridEnvironment(gym.Env):\n",
        "  metadata = { 'render.modes': []}\n",
        "\n",
        "  def __init__(self, stochastic = False, max_timesteps = 10):\n",
        "    '''\n",
        "    # Initializes the class\n",
        "    # Define action and observation space\n",
        "    #We have an action space of 4 Discrete actions, namely,\n",
        "      1. Up, action = 0\n",
        "      2. Down, action = 1\n",
        "      3. Right, action = 2\n",
        "      4. Left, action = 3\n",
        "    #We have an observation space of 16, 4x4 grid hence the no of states is 16  (minimun was 12)\n",
        "    The environment has 3 bonus positions as well as 2 hole/pit positions \n",
        "    # the numbers 1 and 0.5 for the state position are for visualizations\n",
        "    #\n",
        "    '''\n",
        "    self.observation_space = spaces.Discrete(16)\n",
        "    self.action_space = spaces.Discrete(4)\n",
        "    self.max_timesteps = max_timesteps\n",
        "    self.stochastic = stochastic\n",
        "    self.agent_pos = [0, 0]\n",
        "    self.goal_pos = [3, 3]\n",
        "    self.timestep = 0\n",
        "    self.state = np.zeros((4,4))\n",
        "    self.state[tuple(self.agent_pos)] = 1\n",
        "    self.state[tuple(self.goal_pos)] = 0.5\n",
        "\n",
        "  def reset(self, **kwargs):\n",
        "    '''\n",
        "    Reset the environment to initial state.\n",
        "\n",
        "    '''\n",
        "    self.timestep = 0\n",
        "    self.agent_pos = [0, 0]\n",
        "    self.goal_pos = [3, 3]\n",
        "    self.hole1_pos = [1,3]\n",
        "    self.hole2_pos = [2,2]\n",
        "    self.bonus1_pos = [0,3]\n",
        "    self.bonus2_pos = [1,2]\n",
        "    self.bonus3_pos = [2,3]\n",
        "    self.state = np.zeros((4, 4))\n",
        "    self.pos_dict = {}\n",
        "    for i in range(4):\n",
        "      for j in range(4):\n",
        "        self.pos_dict[4*i+j] = [i,j]\n",
        "    self.state[tuple(self.agent_pos)] = 1\n",
        "    self.state[tuple(self.hole1_pos)] = 0.75\n",
        "    self.state[tuple(self.hole2_pos)] = 0.75\n",
        "    self.state[tuple(self.bonus1_pos)] = 0.25\n",
        "    self.state[tuple(self.bonus2_pos)] = 0.25\n",
        "    self.state[tuple(self.bonus3_pos)] = 0.25\n",
        "    self.state[tuple(self.goal_pos)] = 0.5\n",
        "    observation = self.state.flatten()\n",
        "    info = {}\n",
        "    return observation, info\n",
        "\n",
        "\n",
        "  def render(self):\n",
        "    '''\n",
        "    Render the GridEnvironment\n",
        "    '''\n",
        "    plt.imshow(self.state)\n",
        "  \n",
        "  \n",
        "  def step(self, action):\n",
        "    '''\n",
        "    Define an execution of one timestep within the environment\n",
        "    input :action: action from the action space [0,1,2,3]\n",
        "    outputs :observation, reward, terminated, truncated, info\n",
        "    '''\n",
        "    info = {}\n",
        "    reward=0\n",
        "    old_pos = self.agent_pos\n",
        "    old_dist = np.sqrt(np.sum(np.square(np.array(old_pos)-np.array(self.goal_pos))))\n",
        "\n",
        "    # It adds a level of uncertainity to the environment\n",
        "    if(self.stochastic):\n",
        "      info['action_given'] = action\n",
        "      if (np.random.uniform(0,1)>0.75):\n",
        "        action = action\n",
        "      else:\n",
        "        action = self.action_space.sample()\n",
        "      info['action_taken'] = action\n",
        "\n",
        "    if action == 0:\n",
        "      self.agent_pos[0] += 1\n",
        "    if action == 1:\n",
        "      self.agent_pos[0] -= 1\n",
        "    if action == 2:\n",
        "      self.agent_pos[1] += 1\n",
        "    if action == 3:\n",
        "      self.agent_pos[1] -= 1\n",
        "    \n",
        "    a,b= np.clip(self.agent_pos[0], 0, 3), np.clip(self.agent_pos[1], 0, 3)\n",
        "    if a!=self.agent_pos[0]:\n",
        "      reward-=1\n",
        "    if b!=self.agent_pos[1]:\n",
        "      reward-=1\n",
        "    self.agent_pos[0] = a\n",
        "    self.agent_pos[1] = b\n",
        "    self.agent_pos = np.array(self.agent_pos)\n",
        "\n",
        "    print(self.agent_pos)\n",
        "\n",
        "    self.state = np.zeros((4,4))\n",
        "    self.state[tuple(self.bonus1_pos)] = 0.25\n",
        "    self.state[tuple(self.bonus2_pos)] = 0.25\n",
        "    self.state[tuple(self.bonus3_pos)] = 0.25\n",
        "    self.state[tuple(self.hole1_pos)] = 0.75\n",
        "    self.state[tuple(self.hole2_pos)] = 0.75\n",
        "    self.state[tuple(self.goal_pos)] = 0.5\n",
        "    self.state[tuple(self.agent_pos)] = 1\n",
        "\n",
        "\n",
        "    observation = self.state.flatten()\n",
        "    \n",
        "    new_dist = np.sqrt(np.sum(np.square(np.array(self.agent_pos)-np.array(self.goal_pos))))\n",
        "    \n",
        "    proximity = True\n",
        "    if (old_dist-new_dist<0):\n",
        "      reward = -1\n",
        "      proximity = False\n",
        "    elif (old_dist-new_dist==0):\n",
        "      reward = 0\n",
        "    else:\n",
        "      reward = +1\n",
        "\n",
        "    if (self.agent_pos == self.goal_pos).all():\n",
        "      reward+= 10 \n",
        "      self.state[tuple(self.goal_pos)]=self.state[tuple(self.agent_pos)]\n",
        "    elif (self.agent_pos == self.bonus2_pos).all() and proximity:\n",
        "      reward+=5 \n",
        "      if(self.stochastic):\n",
        "        if(np.random.uniform(0,1)<0.50):\n",
        "          reward+=2\n",
        "      self.state[tuple(self.bonus2_pos)]=self.state[tuple(self.agent_pos)]\n",
        "    elif (self.agent_pos == self.bonus3_pos).all() and proximity:\n",
        "      reward+=5 \n",
        "      if(self.stochastic):\n",
        "        if(np.random.uniform(0,1)<0.50):\n",
        "          reward+=2\n",
        "      self.state[tuple(self.bonus3_pos)]=self.state[tuple(self.agent_pos)]\n",
        "    elif(self.agent_pos == self.hole2_pos).all():\n",
        "      reward-=5 \n",
        "      if(self.stochastic):\n",
        "        if(np.random.uniform(0,1)<0.9):\n",
        "          reward-=3\n",
        "      self.state[tuple(self.hole2_pos)]=self.state[tuple(self.agent_pos)]\n",
        "    elif (self.agent_pos == self.bonus1_pos).all() and proximity:\n",
        "      reward+=5 \n",
        "      if(self.stochastic):\n",
        "        if(np.random.uniform(0,1)<0.50):\n",
        "          reward+=2\n",
        "      self.state[tuple(self.bonus1_pos)]=self.state[tuple(self.agent_pos)]\n",
        "    elif (self.agent_pos == self.hole1_pos).all():\n",
        "      reward-=5\n",
        "      if(self.stochastic):\n",
        "        if(np.random.uniform(0,1)<0.75):\n",
        "          reward-=3\n",
        "      self.state[tuple(self.hole1_pos)]=self.state[tuple(self.agent_pos)]\n",
        "   \n",
        "    observation = self.agent_pos\n",
        "\n",
        "    self.timestep += 1\n",
        "    terminated = True if ((self.timestep >= self.max_timesteps) or (self.agent_pos == self.goal_pos).all()) else False\n",
        "    truncated = True if np.all((self.agent_pos >=0 ) & (self.agent_pos <= 3)) else False\n",
        "\n",
        "    return observation, reward, terminated, truncated, info\n",
        "\n"
      ],
      "metadata": {
        "id": "Y9LkR-35niEx"
      },
      "execution_count": 14,
      "outputs": []
    },
    {
      "cell_type": "code",
      "source": [
        "#DETERMISTIC environment - run a random agent for atleast 10 timesteps\n",
        "deterenv = GridEnvironment(max_timesteps = 15)\n",
        "observation = deterenv.reset()\n",
        "print(observation)\n",
        "deterenv.render()"
      ],
      "metadata": {
        "colab": {
          "base_uri": "https://localhost:8080/",
          "height": 367
        },
        "id": "WamBmm4TV7RN",
        "outputId": "5a4e24b0-01c5-4f40-8cc8-2c2f6cab6275"
      },
      "execution_count": 15,
      "outputs": [
        {
          "output_type": "stream",
          "name": "stdout",
          "text": [
            "(array([1.  , 0.  , 0.  , 0.25, 0.  , 0.  , 0.25, 0.75, 0.  , 0.  , 0.75,\n",
            "       0.25, 0.  , 0.  , 0.  , 0.5 ]), {})\n"
          ]
        },
        {
          "output_type": "display_data",
          "data": {
            "text/plain": [
              "<Figure size 360x1224 with 1 Axes>"
            ],
            "image/png": "[encoded data removed]"
          },
          "metadata": {
            "needs_background": "light"
          }
        }
      ]
    },
    {
      "cell_type": "code",
      "source": [
        "#Initializing a Random Agent\n",
        "class RandomAgent:\n",
        "  def __init__(self, env):\n",
        "    self.env = env\n",
        "    self.observation_space = env.observation_space\n",
        "    self.action_space = env.action_space\n",
        "\n",
        "  def step(self, obs):\n",
        "    return np.random.choice(self.action_space.n)"
      ],
      "metadata": {
        "id": "vGvzSqbp1ByR"
      },
      "execution_count": 16,
      "outputs": []
    },
    {
      "cell_type": "code",
      "source": [
        "#Deterministic Environment\n",
        "det_agent= RandomAgent(env= deterenv)\n",
        "det_observation= deterenv.reset()\n",
        "terminated = False\n",
        "\n",
        "det_output_grid= widgets.Grid(1, 1)\n",
        "\n",
        "# Test render of environment within widget grid\n",
        "with det_output_grid.output_to(0, 0):\n",
        "  deterenv.render()\n",
        "\n",
        "actions_given = []\n",
        "rewards = []\n",
        "observations = []\n",
        "\n",
        "output_grid = widgets.Grid(1,1)\n",
        "\n",
        "# MDP loop\n",
        "while not terminated:\n",
        "  action= det_agent.step(det_observation)\n",
        "\n",
        "  observation, reward, terminated, truncated, info= deterenv.step(action)\n",
        "  actions_given.append(action)\n",
        "  rewards.append(reward)\n",
        "  observations.append(observation)\n",
        "  with output_grid.output_to(0,0):\n",
        "    output_grid.clear_cell()\n",
        "    deterenv.render()\n",
        "    print(f'Reward: {reward}, Action taken: {action}, Terminated: {terminated}')\n",
        "  time.sleep(1)\n",
        "print(\"actions_given\", actions_given)\n",
        "print(\"rewards\", rewards)\n",
        "print(\"cumulative reward\",sum(rewards))\n",
        "     \n"
      ],
      "metadata": {
        "colab": {
          "base_uri": "https://localhost:8080/",
          "height": 992
        },
        "id": "8j2aXl77rzVy",
        "outputId": "4af4110c-0faa-4d30-f4c5-cf9815678380"
      },
      "execution_count": 17,
      "outputs": [
        {
          "output_type": "display_data",
          "data": {
            "text/plain": [
              "<IPython.core.display.HTML object>"
            ],
            "text/html": [
              "<style>\n",
              "       table#id18, #id18 > tbody > tr > th, #id18 > tbody > tr > td {\n",
              "         border: 1px solid lightgray;\n",
              "         border-collapse:collapse;\n",
              "         \n",
              "        }</style>"
            ]
          },
          "metadata": {}
        },
        {
          "output_type": "display_data",
          "data": {
            "text/plain": [
              "<IPython.core.display.HTML object>"
            ],
            "text/html": [
              "<table id=id18><tr><td id=id18-0-0></td></tr></table>"
            ]
          },
          "metadata": {}
        },
        {
          "output_type": "display_data",
          "data": {
            "text/plain": [
              "<IPython.core.display.Javascript object>"
            ],
            "application/javascript": [
              "window[\"1399a5be-ae6a-11ed-b104-0242ac1c000c\"] = google.colab.output.getActiveOutputArea();\n",
              "//# sourceURL=js_b8503629ea"
            ]
          },
          "metadata": {}
        },
        {
          "output_type": "display_data",
          "data": {
            "text/plain": [
              "<IPython.core.display.Javascript object>"
            ],
            "application/javascript": [
              "window[\"1399edb2-ae6a-11ed-b104-0242ac1c000c\"] = document.querySelector(\"#id18-0-0\");\n",
              "//# sourceURL=js_c35ec9dd85"
            ]
          },
          "metadata": {}
        },
        {
          "output_type": "display_data",
          "data": {
            "text/plain": [
              "<IPython.core.display.Javascript object>"
            ],
            "application/javascript": [
              "window[\"139a987a-ae6a-11ed-b104-0242ac1c000c\"] = google.colab.output.setActiveOutputArea(window[\"1399edb2-ae6a-11ed-b104-0242ac1c000c\"]);\n",
              "//# sourceURL=js_ac9a0220e2"
            ]
          },
          "metadata": {}
        },
        {
          "output_type": "display_data",
          "data": {
            "text/plain": [
              "<Figure size 360x1224 with 1 Axes>"
            ],
            "image/png": "[encoded data removed]"
          },
          "metadata": {
            "needs_background": "light"
          }
        },
        {
          "output_type": "display_data",
          "data": {
            "text/plain": [
              "<IPython.core.display.Javascript object>"
            ],
            "application/javascript": [
              "window[\"13b7bff4-ae6a-11ed-b104-0242ac1c000c\"] = google.colab.output.setActiveOutputArea(window[\"1399a5be-ae6a-11ed-b104-0242ac1c000c\"]);\n",
              "//# sourceURL=js_9dc0caf5c6"
            ]
          },
          "metadata": {}
        },
        {
          "output_type": "display_data",
          "data": {
            "text/plain": [
              "<IPython.core.display.HTML object>"
            ],
            "text/html": [
              "<style>\n",
              "       table#id20, #id20 > tbody > tr > th, #id20 > tbody > tr > td {\n",
              "         border: 1px solid lightgray;\n",
              "         border-collapse:collapse;\n",
              "         \n",
              "        }</style>"
            ]
          },
          "metadata": {}
        },
        {
          "output_type": "display_data",
          "data": {
            "text/plain": [
              "<IPython.core.display.HTML object>"
            ],
            "text/html": [
              "<table id=id20><tr><td id=id20-0-0></td></tr></table>"
            ]
          },
          "metadata": {}
        },
        {
          "output_type": "stream",
          "name": "stdout",
          "text": [
            "[0 1]\n"
          ]
        },
        {
          "output_type": "display_data",
          "data": {
            "text/plain": [
              "<IPython.core.display.Javascript object>"
            ],
            "application/javascript": [
              "window[\"13bbd594-ae6a-11ed-b104-0242ac1c000c\"] = google.colab.output.getActiveOutputArea();\n",
              "//# sourceURL=js_a0cfeab02d"
            ]
          },
          "metadata": {}
        },
        {
          "output_type": "display_data",
          "data": {
            "text/plain": [
              "<IPython.core.display.Javascript object>"
            ],
            "application/javascript": [
              "window[\"13bc2210-ae6a-11ed-b104-0242ac1c000c\"] = document.querySelector(\"#id20-0-0\");\n",
              "//# sourceURL=js_db47d20731"
            ]
          },
          "metadata": {}
        },
        {
          "output_type": "display_data",
          "data": {
            "text/plain": [
              "<IPython.core.display.Javascript object>"
            ],
            "application/javascript": [
              "window[\"13bc6de2-ae6a-11ed-b104-0242ac1c000c\"] = google.colab.output.setActiveOutputArea(window[\"13bc2210-ae6a-11ed-b104-0242ac1c000c\"]);\n",
              "//# sourceURL=js_a55dee3e4a"
            ]
          },
          "metadata": {}
        },
        {
          "output_type": "display_data",
          "data": {
            "text/plain": [
              "<IPython.core.display.Javascript object>"
            ],
            "application/javascript": [
              "window[\"13dd5e4e-ae6a-11ed-b104-0242ac1c000c\"] = google.colab.output.setActiveOutputArea(window[\"13bbd594-ae6a-11ed-b104-0242ac1c000c\"]);\n",
              "//# sourceURL=js_e5f82d6bba"
            ]
          },
          "metadata": {}
        },
        {
          "output_type": "stream",
          "name": "stdout",
          "text": [
            "[1 1]\n"
          ]
        },
        {
          "output_type": "display_data",
          "data": {
            "text/plain": [
              "<IPython.core.display.Javascript object>"
            ],
            "application/javascript": [
              "window[\"14794df4-ae6a-11ed-b104-0242ac1c000c\"] = google.colab.output.getActiveOutputArea();\n",
              "//# sourceURL=js_670fd26199"
            ]
          },
          "metadata": {}
        },
        {
          "output_type": "display_data",
          "data": {
            "text/plain": [
              "<IPython.core.display.Javascript object>"
            ],
            "application/javascript": [
              "window[\"14799d68-ae6a-11ed-b104-0242ac1c000c\"] = document.querySelector(\"#id20-0-0\");\n",
              "//# sourceURL=js_c4bafd0a9a"
            ]
          },
          "metadata": {}
        },
        {
          "output_type": "display_data",
          "data": {
            "text/plain": [
              "<IPython.core.display.Javascript object>"
            ],
            "application/javascript": [
              "window[\"1479e8a4-ae6a-11ed-b104-0242ac1c000c\"] = google.colab.output.setActiveOutputArea(window[\"14799d68-ae6a-11ed-b104-0242ac1c000c\"]);\n",
              "//# sourceURL=js_858203768e"
            ]
          },
          "metadata": {}
        },
        {
          "output_type": "display_data",
          "data": {
            "text/plain": [
              "<IPython.core.display.Javascript object>"
            ],
            "application/javascript": [
              "window[\"149c14c4-ae6a-11ed-b104-0242ac1c000c\"] = google.colab.output.setActiveOutputArea(window[\"14794df4-ae6a-11ed-b104-0242ac1c000c\"]);\n",
              "//# sourceURL=js_b73a2d2787"
            ]
          },
          "metadata": {}
        },
        {
          "output_type": "stream",
          "name": "stdout",
          "text": [
            "[0 1]\n"
          ]
        },
        {
          "output_type": "display_data",
          "data": {
            "text/plain": [
              "<IPython.core.display.Javascript object>"
            ],
            "application/javascript": [
              "window[\"15380b5e-ae6a-11ed-b104-0242ac1c000c\"] = google.colab.output.getActiveOutputArea();\n",
              "//# sourceURL=js_542a546426"
            ]
          },
          "metadata": {}
        },
        {
          "output_type": "display_data",
          "data": {
            "text/plain": [
              "<IPython.core.display.Javascript object>"
            ],
            "application/javascript": [
              "window[\"15385b18-ae6a-11ed-b104-0242ac1c000c\"] = document.querySelector(\"#id20-0-0\");\n",
              "//# sourceURL=js_32f5d0a29b"
            ]
          },
          "metadata": {}
        },
        {
          "output_type": "display_data",
          "data": {
            "text/plain": [
              "<IPython.core.display.Javascript object>"
            ],
            "application/javascript": [
              "window[\"1538d822-ae6a-11ed-b104-0242ac1c000c\"] = google.colab.output.setActiveOutputArea(window[\"15385b18-ae6a-11ed-b104-0242ac1c000c\"]);\n",
              "//# sourceURL=js_c2c8e31b35"
            ]
          },
          "metadata": {}
        },
        {
          "output_type": "display_data",
          "data": {
            "text/plain": [
              "<IPython.core.display.Javascript object>"
            ],
            "application/javascript": [
              "window[\"15739fa2-ae6a-11ed-b104-0242ac1c000c\"] = google.colab.output.setActiveOutputArea(window[\"15380b5e-ae6a-11ed-b104-0242ac1c000c\"]);\n",
              "//# sourceURL=js_4cc2af447f"
            ]
          },
          "metadata": {}
        },
        {
          "output_type": "stream",
          "name": "stdout",
          "text": [
            "[0 0]\n"
          ]
        },
        {
          "output_type": "display_data",
          "data": {
            "text/plain": [
              "<IPython.core.display.Javascript object>"
            ],
            "application/javascript": [
              "window[\"16107912-ae6a-11ed-b104-0242ac1c000c\"] = google.colab.output.getActiveOutputArea();\n",
              "//# sourceURL=js_4ed20da688"
            ]
          },
          "metadata": {}
        },
        {
          "output_type": "display_data",
          "data": {
            "text/plain": [
              "<IPython.core.display.Javascript object>"
            ],
            "application/javascript": [
              "window[\"1610f91e-ae6a-11ed-b104-0242ac1c000c\"] = document.querySelector(\"#id20-0-0\");\n",
              "//# sourceURL=js_70879789c4"
            ]
          },
          "metadata": {}
        },
        {
          "output_type": "display_data",
          "data": {
            "text/plain": [
              "<IPython.core.display.Javascript object>"
            ],
            "application/javascript": [
              "window[\"1611dd5c-ae6a-11ed-b104-0242ac1c000c\"] = google.colab.output.setActiveOutputArea(window[\"1610f91e-ae6a-11ed-b104-0242ac1c000c\"]);\n",
              "//# sourceURL=js_56651133ef"
            ]
          },
          "metadata": {}
        },
        {
          "output_type": "display_data",
          "data": {
            "text/plain": [
              "<IPython.core.display.Javascript object>"
            ],
            "application/javascript": [
              "window[\"164d6d04-ae6a-11ed-b104-0242ac1c000c\"] = google.colab.output.setActiveOutputArea(window[\"16107912-ae6a-11ed-b104-0242ac1c000c\"]);\n",
              "//# sourceURL=js_064a81da3a"
            ]
          },
          "metadata": {}
        },
        {
          "output_type": "stream",
          "name": "stdout",
          "text": [
            "[1 0]\n"
          ]
        },
        {
          "output_type": "display_data",
          "data": {
            "text/plain": [
              "<IPython.core.display.Javascript object>"
            ],
            "application/javascript": [
              "window[\"16ee14c0-ae6a-11ed-b104-0242ac1c000c\"] = google.colab.output.getActiveOutputArea();\n",
              "//# sourceURL=js_8ef4e5ff7d"
            ]
          },
          "metadata": {}
        },
        {
          "output_type": "display_data",
          "data": {
            "text/plain": [
              "<IPython.core.display.Javascript object>"
            ],
            "application/javascript": [
              "window[\"16eed59a-ae6a-11ed-b104-0242ac1c000c\"] = document.querySelector(\"#id20-0-0\");\n",
              "//# sourceURL=js_938c0e2a26"
            ]
          },
          "metadata": {}
        },
        {
          "output_type": "display_data",
          "data": {
            "text/plain": [
              "<IPython.core.display.Javascript object>"
            ],
            "application/javascript": [
              "window[\"16ef8ba2-ae6a-11ed-b104-0242ac1c000c\"] = google.colab.output.setActiveOutputArea(window[\"16eed59a-ae6a-11ed-b104-0242ac1c000c\"]);\n",
              "//# sourceURL=js_5bff2e72ca"
            ]
          },
          "metadata": {}
        },
        {
          "output_type": "display_data",
          "data": {
            "text/plain": [
              "<IPython.core.display.Javascript object>"
            ],
            "application/javascript": [
              "window[\"172baefc-ae6a-11ed-b104-0242ac1c000c\"] = google.colab.output.setActiveOutputArea(window[\"16ee14c0-ae6a-11ed-b104-0242ac1c000c\"]);\n",
              "//# sourceURL=js_62b51c52c8"
            ]
          },
          "metadata": {}
        },
        {
          "output_type": "stream",
          "name": "stdout",
          "text": [
            "[0 0]\n"
          ]
        },
        {
          "output_type": "display_data",
          "data": {
            "text/plain": [
              "<IPython.core.display.Javascript object>"
            ],
            "application/javascript": [
              "window[\"17c8beae-ae6a-11ed-b104-0242ac1c000c\"] = google.colab.output.getActiveOutputArea();\n",
              "//# sourceURL=js_1a749d83fc"
            ]
          },
          "metadata": {}
        },
        {
          "output_type": "display_data",
          "data": {
            "text/plain": [
              "<IPython.core.display.Javascript object>"
            ],
            "application/javascript": [
              "window[\"17c95292-ae6a-11ed-b104-0242ac1c000c\"] = document.querySelector(\"#id20-0-0\");\n",
              "//# sourceURL=js_61aad7e887"
            ]
          },
          "metadata": {}
        },
        {
          "output_type": "display_data",
          "data": {
            "text/plain": [
              "<IPython.core.display.Javascript object>"
            ],
            "application/javascript": [
              "window[\"17c9ef40-ae6a-11ed-b104-0242ac1c000c\"] = google.colab.output.setActiveOutputArea(window[\"17c95292-ae6a-11ed-b104-0242ac1c000c\"]);\n",
              "//# sourceURL=js_a8b92dba77"
            ]
          },
          "metadata": {}
        },
        {
          "output_type": "display_data",
          "data": {
            "text/plain": [
              "<IPython.core.display.Javascript object>"
            ],
            "application/javascript": [
              "window[\"1827aba8-ae6a-11ed-b104-0242ac1c000c\"] = google.colab.output.setActiveOutputArea(window[\"17c8beae-ae6a-11ed-b104-0242ac1c000c\"]);\n",
              "//# sourceURL=js_2bd570733e"
            ]
          },
          "metadata": {}
        },
        {
          "output_type": "stream",
          "name": "stdout",
          "text": [
            "[0 0]\n"
          ]
        },
        {
          "output_type": "display_data",
          "data": {
            "text/plain": [
              "<IPython.core.display.Javascript object>"
            ],
            "application/javascript": [
              "window[\"18cf1b18-ae6a-11ed-b104-0242ac1c000c\"] = google.colab.output.getActiveOutputArea();\n",
              "//# sourceURL=js_cf0a3ba736"
            ]
          },
          "metadata": {}
        },
        {
          "output_type": "display_data",
          "data": {
            "text/plain": [
              "<IPython.core.display.Javascript object>"
            ],
            "application/javascript": [
              "window[\"18d1b5c6-ae6a-11ed-b104-0242ac1c000c\"] = document.querySelector(\"#id20-0-0\");\n",
              "//# sourceURL=js_c231127607"
            ]
          },
          "metadata": {}
        },
        {
          "output_type": "display_data",
          "data": {
            "text/plain": [
              "<IPython.core.display.Javascript object>"
            ],
            "application/javascript": [
              "window[\"18d40bf0-ae6a-11ed-b104-0242ac1c000c\"] = google.colab.output.setActiveOutputArea(window[\"18d1b5c6-ae6a-11ed-b104-0242ac1c000c\"]);\n",
              "//# sourceURL=js_d57add9dee"
            ]
          },
          "metadata": {}
        },
        {
          "output_type": "display_data",
          "data": {
            "text/plain": [
              "<IPython.core.display.Javascript object>"
            ],
            "application/javascript": [
              "window[\"196bd084-ae6a-11ed-b104-0242ac1c000c\"] = google.colab.output.setActiveOutputArea(window[\"18cf1b18-ae6a-11ed-b104-0242ac1c000c\"]);\n",
              "//# sourceURL=js_14a5ac06bd"
            ]
          },
          "metadata": {}
        },
        {
          "output_type": "stream",
          "name": "stdout",
          "text": [
            "[1 0]\n"
          ]
        },
        {
          "output_type": "display_data",
          "data": {
            "text/plain": [
              "<IPython.core.display.Javascript object>"
            ],
            "application/javascript": [
              "window[\"1a0afcb8-ae6a-11ed-b104-0242ac1c000c\"] = google.colab.output.getActiveOutputArea();\n",
              "//# sourceURL=js_3124f90849"
            ]
          },
          "metadata": {}
        },
        {
          "output_type": "display_data",
          "data": {
            "text/plain": [
              "<IPython.core.display.Javascript object>"
            ],
            "application/javascript": [
              "window[\"1a0bd05c-ae6a-11ed-b104-0242ac1c000c\"] = document.querySelector(\"#id20-0-0\");\n",
              "//# sourceURL=js_ce7673e90a"
            ]
          },
          "metadata": {}
        },
        {
          "output_type": "display_data",
          "data": {
            "text/plain": [
              "<IPython.core.display.Javascript object>"
            ],
            "application/javascript": [
              "window[\"1a0cd9fc-ae6a-11ed-b104-0242ac1c000c\"] = google.colab.output.setActiveOutputArea(window[\"1a0bd05c-ae6a-11ed-b104-0242ac1c000c\"]);\n",
              "//# sourceURL=js_82c54f3f7e"
            ]
          },
          "metadata": {}
        },
        {
          "output_type": "display_data",
          "data": {
            "text/plain": [
              "<IPython.core.display.Javascript object>"
            ],
            "application/javascript": [
              "window[\"1a84c494-ae6a-11ed-b104-0242ac1c000c\"] = google.colab.output.setActiveOutputArea(window[\"1a0afcb8-ae6a-11ed-b104-0242ac1c000c\"]);\n",
              "//# sourceURL=js_6cd09e625b"
            ]
          },
          "metadata": {}
        },
        {
          "output_type": "stream",
          "name": "stdout",
          "text": [
            "[0 0]\n"
          ]
        },
        {
          "output_type": "display_data",
          "data": {
            "text/plain": [
              "<IPython.core.display.Javascript object>"
            ],
            "application/javascript": [
              "window[\"1b235c1c-ae6a-11ed-b104-0242ac1c000c\"] = google.colab.output.getActiveOutputArea();\n",
              "//# sourceURL=js_30796a0c3d"
            ]
          },
          "metadata": {}
        },
        {
          "output_type": "display_data",
          "data": {
            "text/plain": [
              "<IPython.core.display.Javascript object>"
            ],
            "application/javascript": [
              "window[\"1b245964-ae6a-11ed-b104-0242ac1c000c\"] = document.querySelector(\"#id20-0-0\");\n",
              "//# sourceURL=js_7acf33f9e6"
            ]
          },
          "metadata": {}
        },
        {
          "output_type": "display_data",
          "data": {
            "text/plain": [
              "<IPython.core.display.Javascript object>"
            ],
            "application/javascript": [
              "window[\"1b24ba1c-ae6a-11ed-b104-0242ac1c000c\"] = google.colab.output.setActiveOutputArea(window[\"1b245964-ae6a-11ed-b104-0242ac1c000c\"]);\n",
              "//# sourceURL=js_77cbec8c2f"
            ]
          },
          "metadata": {}
        },
        {
          "output_type": "display_data",
          "data": {
            "text/plain": [
              "<IPython.core.display.Javascript object>"
            ],
            "application/javascript": [
              "window[\"1b8527ee-ae6a-11ed-b104-0242ac1c000c\"] = google.colab.output.setActiveOutputArea(window[\"1b235c1c-ae6a-11ed-b104-0242ac1c000c\"]);\n",
              "//# sourceURL=js_94ddc60bdc"
            ]
          },
          "metadata": {}
        },
        {
          "output_type": "stream",
          "name": "stdout",
          "text": [
            "[0 1]\n"
          ]
        },
        {
          "output_type": "display_data",
          "data": {
            "text/plain": [
              "<IPython.core.display.Javascript object>"
            ],
            "application/javascript": [
              "window[\"1c24a756-ae6a-11ed-b104-0242ac1c000c\"] = google.colab.output.getActiveOutputArea();\n",
              "//# sourceURL=js_24c59e2301"
            ]
          },
          "metadata": {}
        },
        {
          "output_type": "display_data",
          "data": {
            "text/plain": [
              "<IPython.core.display.Javascript object>"
            ],
            "application/javascript": [
              "window[\"1c27ee02-ae6a-11ed-b104-0242ac1c000c\"] = document.querySelector(\"#id20-0-0\");\n",
              "//# sourceURL=js_a2f868e308"
            ]
          },
          "metadata": {}
        },
        {
          "output_type": "display_data",
          "data": {
            "text/plain": [
              "<IPython.core.display.Javascript object>"
            ],
            "application/javascript": [
              "window[\"1c2a16dc-ae6a-11ed-b104-0242ac1c000c\"] = google.colab.output.setActiveOutputArea(window[\"1c27ee02-ae6a-11ed-b104-0242ac1c000c\"]);\n",
              "//# sourceURL=js_7d79ab8a59"
            ]
          },
          "metadata": {}
        },
        {
          "output_type": "display_data",
          "data": {
            "text/plain": [
              "<IPython.core.display.Javascript object>"
            ],
            "application/javascript": [
              "window[\"1c993fee-ae6a-11ed-b104-0242ac1c000c\"] = google.colab.output.setActiveOutputArea(window[\"1c24a756-ae6a-11ed-b104-0242ac1c000c\"]);\n",
              "//# sourceURL=js_6d25358f1d"
            ]
          },
          "metadata": {}
        },
        {
          "output_type": "stream",
          "name": "stdout",
          "text": [
            "[0 0]\n"
          ]
        },
        {
          "output_type": "display_data",
          "data": {
            "text/plain": [
              "<IPython.core.display.Javascript object>"
            ],
            "application/javascript": [
              "window[\"1d3bb788-ae6a-11ed-b104-0242ac1c000c\"] = google.colab.output.getActiveOutputArea();\n",
              "//# sourceURL=js_3468ec11b1"
            ]
          },
          "metadata": {}
        },
        {
          "output_type": "display_data",
          "data": {
            "text/plain": [
              "<IPython.core.display.Javascript object>"
            ],
            "application/javascript": [
              "window[\"1d3da5c0-ae6a-11ed-b104-0242ac1c000c\"] = document.querySelector(\"#id20-0-0\");\n",
              "//# sourceURL=js_fac239a86b"
            ]
          },
          "metadata": {}
        },
        {
          "output_type": "display_data",
          "data": {
            "text/plain": [
              "<IPython.core.display.Javascript object>"
            ],
            "application/javascript": [
              "window[\"1d3f2dd2-ae6a-11ed-b104-0242ac1c000c\"] = google.colab.output.setActiveOutputArea(window[\"1d3da5c0-ae6a-11ed-b104-0242ac1c000c\"]);\n",
              "//# sourceURL=js_76d394481e"
            ]
          },
          "metadata": {}
        },
        {
          "output_type": "display_data",
          "data": {
            "text/plain": [
              "<IPython.core.display.Javascript object>"
            ],
            "application/javascript": [
              "window[\"1da628d4-ae6a-11ed-b104-0242ac1c000c\"] = google.colab.output.setActiveOutputArea(window[\"1d3bb788-ae6a-11ed-b104-0242ac1c000c\"]);\n",
              "//# sourceURL=js_40f5160b33"
            ]
          },
          "metadata": {}
        },
        {
          "output_type": "stream",
          "name": "stdout",
          "text": [
            "[0 0]\n"
          ]
        },
        {
          "output_type": "display_data",
          "data": {
            "text/plain": [
              "<IPython.core.display.Javascript object>"
            ],
            "application/javascript": [
              "window[\"1e45277c-ae6a-11ed-b104-0242ac1c000c\"] = google.colab.output.getActiveOutputArea();\n",
              "//# sourceURL=js_f6a555a181"
            ]
          },
          "metadata": {}
        },
        {
          "output_type": "display_data",
          "data": {
            "text/plain": [
              "<IPython.core.display.Javascript object>"
            ],
            "application/javascript": [
              "window[\"1e466ce0-ae6a-11ed-b104-0242ac1c000c\"] = document.querySelector(\"#id20-0-0\");\n",
              "//# sourceURL=js_709b51564b"
            ]
          },
          "metadata": {}
        },
        {
          "output_type": "display_data",
          "data": {
            "text/plain": [
              "<IPython.core.display.Javascript object>"
            ],
            "application/javascript": [
              "window[\"1e4757ea-ae6a-11ed-b104-0242ac1c000c\"] = google.colab.output.setActiveOutputArea(window[\"1e466ce0-ae6a-11ed-b104-0242ac1c000c\"]);\n",
              "//# sourceURL=js_0a41ca93aa"
            ]
          },
          "metadata": {}
        },
        {
          "output_type": "display_data",
          "data": {
            "text/plain": [
              "<IPython.core.display.Javascript object>"
            ],
            "application/javascript": [
              "window[\"1e874a9e-ae6a-11ed-b104-0242ac1c000c\"] = google.colab.output.setActiveOutputArea(window[\"1e45277c-ae6a-11ed-b104-0242ac1c000c\"]);\n",
              "//# sourceURL=js_e727b92c3f"
            ]
          },
          "metadata": {}
        },
        {
          "output_type": "stream",
          "name": "stdout",
          "text": [
            "[1 0]\n"
          ]
        },
        {
          "output_type": "display_data",
          "data": {
            "text/plain": [
              "<IPython.core.display.Javascript object>"
            ],
            "application/javascript": [
              "window[\"1f25b738-ae6a-11ed-b104-0242ac1c000c\"] = google.colab.output.getActiveOutputArea();\n",
              "//# sourceURL=js_1e8caf2e16"
            ]
          },
          "metadata": {}
        },
        {
          "output_type": "display_data",
          "data": {
            "text/plain": [
              "<IPython.core.display.Javascript object>"
            ],
            "application/javascript": [
              "window[\"1f2789e6-ae6a-11ed-b104-0242ac1c000c\"] = document.querySelector(\"#id20-0-0\");\n",
              "//# sourceURL=js_711742eb94"
            ]
          },
          "metadata": {}
        },
        {
          "output_type": "display_data",
          "data": {
            "text/plain": [
              "<IPython.core.display.Javascript object>"
            ],
            "application/javascript": [
              "window[\"1f28435e-ae6a-11ed-b104-0242ac1c000c\"] = google.colab.output.setActiveOutputArea(window[\"1f2789e6-ae6a-11ed-b104-0242ac1c000c\"]);\n",
              "//# sourceURL=js_a638869e62"
            ]
          },
          "metadata": {}
        },
        {
          "output_type": "display_data",
          "data": {
            "text/plain": [
              "<IPython.core.display.Javascript object>"
            ],
            "application/javascript": [
              "window[\"1f5426ae-ae6a-11ed-b104-0242ac1c000c\"] = google.colab.output.setActiveOutputArea(window[\"1f25b738-ae6a-11ed-b104-0242ac1c000c\"]);\n",
              "//# sourceURL=js_e0dee95d00"
            ]
          },
          "metadata": {}
        },
        {
          "output_type": "stream",
          "name": "stdout",
          "text": [
            "[1 0]\n"
          ]
        },
        {
          "output_type": "display_data",
          "data": {
            "text/plain": [
              "<IPython.core.display.Javascript object>"
            ],
            "application/javascript": [
              "window[\"1ff1085c-ae6a-11ed-b104-0242ac1c000c\"] = google.colab.output.getActiveOutputArea();\n",
              "//# sourceURL=js_60dd302b6c"
            ]
          },
          "metadata": {}
        },
        {
          "output_type": "display_data",
          "data": {
            "text/plain": [
              "<IPython.core.display.Javascript object>"
            ],
            "application/javascript": [
              "window[\"1ff156ae-ae6a-11ed-b104-0242ac1c000c\"] = document.querySelector(\"#id20-0-0\");\n",
              "//# sourceURL=js_197a7f2c5a"
            ]
          },
          "metadata": {}
        },
        {
          "output_type": "display_data",
          "data": {
            "text/plain": [
              "<IPython.core.display.Javascript object>"
            ],
            "application/javascript": [
              "window[\"1ff2b0d0-ae6a-11ed-b104-0242ac1c000c\"] = google.colab.output.setActiveOutputArea(window[\"1ff156ae-ae6a-11ed-b104-0242ac1c000c\"]);\n",
              "//# sourceURL=js_217160cc44"
            ]
          },
          "metadata": {}
        },
        {
          "output_type": "display_data",
          "data": {
            "text/plain": [
              "<IPython.core.display.Javascript object>"
            ],
            "application/javascript": [
              "window[\"20269ddc-ae6a-11ed-b104-0242ac1c000c\"] = google.colab.output.setActiveOutputArea(window[\"1ff1085c-ae6a-11ed-b104-0242ac1c000c\"]);\n",
              "//# sourceURL=js_6e716a3af9"
            ]
          },
          "metadata": {}
        },
        {
          "output_type": "stream",
          "name": "stdout",
          "text": [
            "[0 0]\n"
          ]
        },
        {
          "output_type": "display_data",
          "data": {
            "text/plain": [
              "<IPython.core.display.Javascript object>"
            ],
            "application/javascript": [
              "window[\"20c2b244-ae6a-11ed-b104-0242ac1c000c\"] = google.colab.output.getActiveOutputArea();\n",
              "//# sourceURL=js_62001fac84"
            ]
          },
          "metadata": {}
        },
        {
          "output_type": "display_data",
          "data": {
            "text/plain": [
              "<IPython.core.display.Javascript object>"
            ],
            "application/javascript": [
              "window[\"20c3682e-ae6a-11ed-b104-0242ac1c000c\"] = document.querySelector(\"#id20-0-0\");\n",
              "//# sourceURL=js_a2f7f8165c"
            ]
          },
          "metadata": {}
        },
        {
          "output_type": "display_data",
          "data": {
            "text/plain": [
              "<IPython.core.display.Javascript object>"
            ],
            "application/javascript": [
              "window[\"20c3d6ba-ae6a-11ed-b104-0242ac1c000c\"] = google.colab.output.setActiveOutputArea(window[\"20c3682e-ae6a-11ed-b104-0242ac1c000c\"]);\n",
              "//# sourceURL=js_40121decb0"
            ]
          },
          "metadata": {}
        },
        {
          "output_type": "stream",
          "name": "stdout",
          "text": [
            "Reward: -1, Action taken: 1, Terminated: True\n"
          ]
        },
        {
          "output_type": "display_data",
          "data": {
            "text/plain": [
              "<Figure size 360x1224 with 1 Axes>"
            ],
            "image/png": "[encoded data removed]"
          },
          "metadata": {
            "needs_background": "light"
          }
        },
        {
          "output_type": "display_data",
          "data": {
            "text/plain": [
              "<IPython.core.display.Javascript object>"
            ],
            "application/javascript": [
              "window[\"20f0df34-ae6a-11ed-b104-0242ac1c000c\"] = google.colab.output.setActiveOutputArea(window[\"20c2b244-ae6a-11ed-b104-0242ac1c000c\"]);\n",
              "//# sourceURL=js_98065a256e"
            ]
          },
          "metadata": {}
        },
        {
          "output_type": "stream",
          "name": "stdout",
          "text": [
            "actions_given [2, 0, 1, 3, 0, 1, 3, 0, 1, 2, 3, 1, 0, 3, 1]\n",
            "rewards [1, 1, -1, -1, 1, -1, 0, 1, -1, 1, -1, 0, 1, 0, -1]\n",
            "cumulative reward 0\n"
          ]
        }
      ]
    },
    {
      "cell_type": "code",
      "source": [
        "stocenv = GridEnvironment(stochastic=True,max_timesteps = 15)\n",
        "observation = stocenv.reset()\n",
        "print(observation)\n",
        "stocenv.render()"
      ],
      "metadata": {
        "colab": {
          "base_uri": "https://localhost:8080/",
          "height": 367
        },
        "id": "-VK8KTCdEIXQ",
        "outputId": "ea482b7f-25df-4f72-a708-4be6d4162138"
      },
      "execution_count": 18,
      "outputs": [
        {
          "output_type": "stream",
          "name": "stdout",
          "text": [
            "(array([1.  , 0.  , 0.  , 0.25, 0.  , 0.  , 0.25, 0.75, 0.  , 0.  , 0.75,\n",
            "       0.25, 0.  , 0.  , 0.  , 0.5 ]), {})\n"
          ]
        },
        {
          "output_type": "display_data",
          "data": {
            "text/plain": [
              "<Figure size 360x1224 with 1 Axes>"
            ],
            "image/png": "[encoded data removed]"
          },
          "metadata": {
            "needs_background": "light"
          }
        }
      ]
    },
    {
      "cell_type": "code",
      "source": [
        "#Stochastic Environment\n",
        "stoc_agent= RandomAgent(env= stocenv)\n",
        "stoc_observation= stocenv.reset()\n",
        "terminated = False\n",
        "\n",
        "stoc_output_grid= widgets.Grid(1, 1)\n",
        "\n",
        "# Test render of environment within widget grid\n",
        "with stoc_output_grid.output_to(0, 0):\n",
        "  stocenv.render()\n",
        "\n",
        "actions_given = []\n",
        "rewards = []\n",
        "observations = []\n",
        "\n",
        "output_grid = widgets.Grid(1,1)\n",
        "\n",
        "# MDP loop\n",
        "while not terminated:\n",
        "  action= stoc_agent.step(stoc_observation)\n",
        "  observation, reward, terminated, truncated, info= stocenv.step(action)\n",
        "  actions_given.append(action)\n",
        "  rewards.append(reward)\n",
        "  observations.append(observation)\n",
        "  with output_grid.output_to(0,0):\n",
        "    output_grid.clear_cell()\n",
        "    stocenv.render()\n",
        "    print(f'Reward: {reward}, Action taken: {action}, Terminated: {terminated}')\n",
        "    print(info)\n",
        "  time.sleep(1)\n",
        "print(\"actions_given\", actions_given)\n",
        "print(\"rewards\", rewards)\n",
        "print(\"cumulative reward\",sum(rewards))\n",
        "     \n"
      ],
      "metadata": {
        "colab": {
          "base_uri": "https://localhost:8080/",
          "height": 921
        },
        "outputId": "4b8dfdec-c5c2-407a-e62c-5d0310d6e480",
        "id": "RA7IESWEYwe_"
      },
      "execution_count": 19,
      "outputs": [
        {
          "output_type": "display_data",
          "data": {
            "text/plain": [
              "<IPython.core.display.HTML object>"
            ],
            "text/html": [
              "<style>\n",
              "       table#id22, #id22 > tbody > tr > th, #id22 > tbody > tr > td {\n",
              "         border: 1px solid lightgray;\n",
              "         border-collapse:collapse;\n",
              "         \n",
              "        }</style>"
            ]
          },
          "metadata": {}
        },
        {
          "output_type": "display_data",
          "data": {
            "text/plain": [
              "<IPython.core.display.HTML object>"
            ],
            "text/html": [
              "<table id=id22><tr><td id=id22-0-0></td></tr></table>"
            ]
          },
          "metadata": {}
        },
        {
          "output_type": "display_data",
          "data": {
            "text/plain": [
              "<IPython.core.display.Javascript object>"
            ],
            "application/javascript": [
              "window[\"21b27f18-ae6a-11ed-b104-0242ac1c000c\"] = google.colab.output.getActiveOutputArea();\n",
              "//# sourceURL=js_523747426a"
            ]
          },
          "metadata": {}
        },
        {
          "output_type": "display_data",
          "data": {
            "text/plain": [
              "<IPython.core.display.Javascript object>"
            ],
            "application/javascript": [
              "window[\"21b2ef5c-ae6a-11ed-b104-0242ac1c000c\"] = document.querySelector(\"#id22-0-0\");\n",
              "//# sourceURL=js_bf58b06388"
            ]
          },
          "metadata": {}
        },
        {
          "output_type": "display_data",
          "data": {
            "text/plain": [
              "<IPython.core.display.Javascript object>"
            ],
            "application/javascript": [
              "window[\"21b394b6-ae6a-11ed-b104-0242ac1c000c\"] = google.colab.output.setActiveOutputArea(window[\"21b2ef5c-ae6a-11ed-b104-0242ac1c000c\"]);\n",
              "//# sourceURL=js_a8588c827b"
            ]
          },
          "metadata": {}
        },
        {
          "output_type": "display_data",
          "data": {
            "text/plain": [
              "<Figure size 360x1224 with 1 Axes>"
            ],
            "image/png": "[encoded data removed]"
          },
          "metadata": {
            "needs_background": "light"
          }
        },
        {
          "output_type": "display_data",
          "data": {
            "text/plain": [
              "<IPython.core.display.Javascript object>"
            ],
            "application/javascript": [
              "window[\"21d2ae5a-ae6a-11ed-b104-0242ac1c000c\"] = google.colab.output.setActiveOutputArea(window[\"21b27f18-ae6a-11ed-b104-0242ac1c000c\"]);\n",
              "//# sourceURL=js_4a62ab63b0"
            ]
          },
          "metadata": {}
        },
        {
          "output_type": "display_data",
          "data": {
            "text/plain": [
              "<IPython.core.display.HTML object>"
            ],
            "text/html": [
              "<style>\n",
              "       table#id24, #id24 > tbody > tr > th, #id24 > tbody > tr > td {\n",
              "         border: 1px solid lightgray;\n",
              "         border-collapse:collapse;\n",
              "         \n",
              "        }</style>"
            ]
          },
          "metadata": {}
        },
        {
          "output_type": "display_data",
          "data": {
            "text/plain": [
              "<IPython.core.display.HTML object>"
            ],
            "text/html": [
              "<table id=id24><tr><td id=id24-0-0></td></tr></table>"
            ]
          },
          "metadata": {}
        },
        {
          "output_type": "stream",
          "name": "stdout",
          "text": [
            "[0 1]\n"
          ]
        },
        {
          "output_type": "display_data",
          "data": {
            "text/plain": [
              "<IPython.core.display.Javascript object>"
            ],
            "application/javascript": [
              "window[\"21d71954-ae6a-11ed-b104-0242ac1c000c\"] = google.colab.output.getActiveOutputArea();\n",
              "//# sourceURL=js_a3ad781bc7"
            ]
          },
          "metadata": {}
        },
        {
          "output_type": "display_data",
          "data": {
            "text/plain": [
              "<IPython.core.display.Javascript object>"
            ],
            "application/javascript": [
              "window[\"21d7674c-ae6a-11ed-b104-0242ac1c000c\"] = document.querySelector(\"#id24-0-0\");\n",
              "//# sourceURL=js_0e4d274e32"
            ]
          },
          "metadata": {}
        },
        {
          "output_type": "display_data",
          "data": {
            "text/plain": [
              "<IPython.core.display.Javascript object>"
            ],
            "application/javascript": [
              "window[\"21d7b972-ae6a-11ed-b104-0242ac1c000c\"] = google.colab.output.setActiveOutputArea(window[\"21d7674c-ae6a-11ed-b104-0242ac1c000c\"]);\n",
              "//# sourceURL=js_efaa71c813"
            ]
          },
          "metadata": {}
        },
        {
          "output_type": "display_data",
          "data": {
            "text/plain": [
              "<IPython.core.display.Javascript object>"
            ],
            "application/javascript": [
              "window[\"21f5113e-ae6a-11ed-b104-0242ac1c000c\"] = google.colab.output.setActiveOutputArea(window[\"21d71954-ae6a-11ed-b104-0242ac1c000c\"]);\n",
              "//# sourceURL=js_f3b5c76f61"
            ]
          },
          "metadata": {}
        },
        {
          "output_type": "stream",
          "name": "stdout",
          "text": [
            "[0 2]\n"
          ]
        },
        {
          "output_type": "display_data",
          "data": {
            "text/plain": [
              "<IPython.core.display.Javascript object>"
            ],
            "application/javascript": [
              "window[\"22903d30-ae6a-11ed-b104-0242ac1c000c\"] = google.colab.output.getActiveOutputArea();\n",
              "//# sourceURL=js_df9979e87f"
            ]
          },
          "metadata": {}
        },
        {
          "output_type": "display_data",
          "data": {
            "text/plain": [
              "<IPython.core.display.Javascript object>"
            ],
            "application/javascript": [
              "window[\"2290fd06-ae6a-11ed-b104-0242ac1c000c\"] = document.querySelector(\"#id24-0-0\");\n",
              "//# sourceURL=js_e7a304aaab"
            ]
          },
          "metadata": {}
        },
        {
          "output_type": "display_data",
          "data": {
            "text/plain": [
              "<IPython.core.display.Javascript object>"
            ],
            "application/javascript": [
              "window[\"2291864a-ae6a-11ed-b104-0242ac1c000c\"] = google.colab.output.setActiveOutputArea(window[\"2290fd06-ae6a-11ed-b104-0242ac1c000c\"]);\n",
              "//# sourceURL=js_ce897292a8"
            ]
          },
          "metadata": {}
        },
        {
          "output_type": "display_data",
          "data": {
            "text/plain": [
              "<IPython.core.display.Javascript object>"
            ],
            "application/javascript": [
              "window[\"22aebd8c-ae6a-11ed-b104-0242ac1c000c\"] = google.colab.output.setActiveOutputArea(window[\"22903d30-ae6a-11ed-b104-0242ac1c000c\"]);\n",
              "//# sourceURL=js_7bbfa31074"
            ]
          },
          "metadata": {}
        },
        {
          "output_type": "stream",
          "name": "stdout",
          "text": [
            "[0 3]\n"
          ]
        },
        {
          "output_type": "display_data",
          "data": {
            "text/plain": [
              "<IPython.core.display.Javascript object>"
            ],
            "application/javascript": [
              "window[\"234ad780-ae6a-11ed-b104-0242ac1c000c\"] = google.colab.output.getActiveOutputArea();\n",
              "//# sourceURL=js_271ee1ef15"
            ]
          },
          "metadata": {}
        },
        {
          "output_type": "display_data",
          "data": {
            "text/plain": [
              "<IPython.core.display.Javascript object>"
            ],
            "application/javascript": [
              "window[\"234b566a-ae6a-11ed-b104-0242ac1c000c\"] = document.querySelector(\"#id24-0-0\");\n",
              "//# sourceURL=js_94530e4290"
            ]
          },
          "metadata": {}
        },
        {
          "output_type": "display_data",
          "data": {
            "text/plain": [
              "<IPython.core.display.Javascript object>"
            ],
            "application/javascript": [
              "window[\"234ba840-ae6a-11ed-b104-0242ac1c000c\"] = google.colab.output.setActiveOutputArea(window[\"234b566a-ae6a-11ed-b104-0242ac1c000c\"]);\n",
              "//# sourceURL=js_2ccf6320e1"
            ]
          },
          "metadata": {}
        },
        {
          "output_type": "display_data",
          "data": {
            "text/plain": [
              "<IPython.core.display.Javascript object>"
            ],
            "application/javascript": [
              "window[\"23697686-ae6a-11ed-b104-0242ac1c000c\"] = google.colab.output.setActiveOutputArea(window[\"234ad780-ae6a-11ed-b104-0242ac1c000c\"]);\n",
              "//# sourceURL=js_f4b2677a88"
            ]
          },
          "metadata": {}
        },
        {
          "output_type": "stream",
          "name": "stdout",
          "text": [
            "[1 3]\n"
          ]
        },
        {
          "output_type": "display_data",
          "data": {
            "text/plain": [
              "<IPython.core.display.Javascript object>"
            ],
            "application/javascript": [
              "window[\"2405d210-ae6a-11ed-b104-0242ac1c000c\"] = google.colab.output.getActiveOutputArea();\n",
              "//# sourceURL=js_23687b8bfc"
            ]
          },
          "metadata": {}
        },
        {
          "output_type": "display_data",
          "data": {
            "text/plain": [
              "<IPython.core.display.Javascript object>"
            ],
            "application/javascript": [
              "window[\"24068a16-ae6a-11ed-b104-0242ac1c000c\"] = document.querySelector(\"#id24-0-0\");\n",
              "//# sourceURL=js_d859de0fdc"
            ]
          },
          "metadata": {}
        },
        {
          "output_type": "display_data",
          "data": {
            "text/plain": [
              "<IPython.core.display.Javascript object>"
            ],
            "application/javascript": [
              "window[\"2406ecb8-ae6a-11ed-b104-0242ac1c000c\"] = google.colab.output.setActiveOutputArea(window[\"24068a16-ae6a-11ed-b104-0242ac1c000c\"]);\n",
              "//# sourceURL=js_e84da61052"
            ]
          },
          "metadata": {}
        },
        {
          "output_type": "display_data",
          "data": {
            "text/plain": [
              "<IPython.core.display.Javascript object>"
            ],
            "application/javascript": [
              "window[\"2424c8e6-ae6a-11ed-b104-0242ac1c000c\"] = google.colab.output.setActiveOutputArea(window[\"2405d210-ae6a-11ed-b104-0242ac1c000c\"]);\n",
              "//# sourceURL=js_80e22ac2ce"
            ]
          },
          "metadata": {}
        },
        {
          "output_type": "stream",
          "name": "stdout",
          "text": [
            "[2 3]\n"
          ]
        },
        {
          "output_type": "display_data",
          "data": {
            "text/plain": [
              "<IPython.core.display.Javascript object>"
            ],
            "application/javascript": [
              "window[\"24c0cc50-ae6a-11ed-b104-0242ac1c000c\"] = google.colab.output.getActiveOutputArea();\n",
              "//# sourceURL=js_625575fef4"
            ]
          },
          "metadata": {}
        },
        {
          "output_type": "display_data",
          "data": {
            "text/plain": [
              "<IPython.core.display.Javascript object>"
            ],
            "application/javascript": [
              "window[\"24c1a74c-ae6a-11ed-b104-0242ac1c000c\"] = document.querySelector(\"#id24-0-0\");\n",
              "//# sourceURL=js_f6cd7a8fc5"
            ]
          },
          "metadata": {}
        },
        {
          "output_type": "display_data",
          "data": {
            "text/plain": [
              "<IPython.core.display.Javascript object>"
            ],
            "application/javascript": [
              "window[\"24c2c0dc-ae6a-11ed-b104-0242ac1c000c\"] = google.colab.output.setActiveOutputArea(window[\"24c1a74c-ae6a-11ed-b104-0242ac1c000c\"]);\n",
              "//# sourceURL=js_ae3b5f5171"
            ]
          },
          "metadata": {}
        },
        {
          "output_type": "display_data",
          "data": {
            "text/plain": [
              "<IPython.core.display.Javascript object>"
            ],
            "application/javascript": [
              "window[\"24fc839e-ae6a-11ed-b104-0242ac1c000c\"] = google.colab.output.setActiveOutputArea(window[\"24c0cc50-ae6a-11ed-b104-0242ac1c000c\"]);\n",
              "//# sourceURL=js_c0a7e7de68"
            ]
          },
          "metadata": {}
        },
        {
          "output_type": "stream",
          "name": "stdout",
          "text": [
            "[2 3]\n"
          ]
        },
        {
          "output_type": "display_data",
          "data": {
            "text/plain": [
              "<IPython.core.display.Javascript object>"
            ],
            "application/javascript": [
              "window[\"259a8846-ae6a-11ed-b104-0242ac1c000c\"] = google.colab.output.getActiveOutputArea();\n",
              "//# sourceURL=js_39b1d667ef"
            ]
          },
          "metadata": {}
        },
        {
          "output_type": "display_data",
          "data": {
            "text/plain": [
              "<IPython.core.display.Javascript object>"
            ],
            "application/javascript": [
              "window[\"259b1d74-ae6a-11ed-b104-0242ac1c000c\"] = document.querySelector(\"#id24-0-0\");\n",
              "//# sourceURL=js_e71a21aa9f"
            ]
          },
          "metadata": {}
        },
        {
          "output_type": "display_data",
          "data": {
            "text/plain": [
              "<IPython.core.display.Javascript object>"
            ],
            "application/javascript": [
              "window[\"259b93b2-ae6a-11ed-b104-0242ac1c000c\"] = google.colab.output.setActiveOutputArea(window[\"259b1d74-ae6a-11ed-b104-0242ac1c000c\"]);\n",
              "//# sourceURL=js_54bc9cc403"
            ]
          },
          "metadata": {}
        },
        {
          "output_type": "display_data",
          "data": {
            "text/plain": [
              "<IPython.core.display.Javascript object>"
            ],
            "application/javascript": [
              "window[\"25cce052-ae6a-11ed-b104-0242ac1c000c\"] = google.colab.output.setActiveOutputArea(window[\"259a8846-ae6a-11ed-b104-0242ac1c000c\"]);\n",
              "//# sourceURL=js_05f7cbed0d"
            ]
          },
          "metadata": {}
        },
        {
          "output_type": "stream",
          "name": "stdout",
          "text": [
            "[2 3]\n"
          ]
        },
        {
          "output_type": "display_data",
          "data": {
            "text/plain": [
              "<IPython.core.display.Javascript object>"
            ],
            "application/javascript": [
              "window[\"26693290-ae6a-11ed-b104-0242ac1c000c\"] = google.colab.output.getActiveOutputArea();\n",
              "//# sourceURL=js_edd2295283"
            ]
          },
          "metadata": {}
        },
        {
          "output_type": "display_data",
          "data": {
            "text/plain": [
              "<IPython.core.display.Javascript object>"
            ],
            "application/javascript": [
              "window[\"26698664-ae6a-11ed-b104-0242ac1c000c\"] = document.querySelector(\"#id24-0-0\");\n",
              "//# sourceURL=js_0a90e78e2e"
            ]
          },
          "metadata": {}
        },
        {
          "output_type": "display_data",
          "data": {
            "text/plain": [
              "<IPython.core.display.Javascript object>"
            ],
            "application/javascript": [
              "window[\"2669e83e-ae6a-11ed-b104-0242ac1c000c\"] = google.colab.output.setActiveOutputArea(window[\"26698664-ae6a-11ed-b104-0242ac1c000c\"]);\n",
              "//# sourceURL=js_4f1e54a480"
            ]
          },
          "metadata": {}
        },
        {
          "output_type": "display_data",
          "data": {
            "text/plain": [
              "<IPython.core.display.Javascript object>"
            ],
            "application/javascript": [
              "window[\"269eecfa-ae6a-11ed-b104-0242ac1c000c\"] = google.colab.output.setActiveOutputArea(window[\"26693290-ae6a-11ed-b104-0242ac1c000c\"]);\n",
              "//# sourceURL=js_3b3c8c4bfb"
            ]
          },
          "metadata": {}
        },
        {
          "output_type": "stream",
          "name": "stdout",
          "text": [
            "[2 3]\n"
          ]
        },
        {
          "output_type": "display_data",
          "data": {
            "text/plain": [
              "<IPython.core.display.Javascript object>"
            ],
            "application/javascript": [
              "window[\"273e3b84-ae6a-11ed-b104-0242ac1c000c\"] = google.colab.output.getActiveOutputArea();\n",
              "//# sourceURL=js_7b550dafa3"
            ]
          },
          "metadata": {}
        },
        {
          "output_type": "display_data",
          "data": {
            "text/plain": [
              "<IPython.core.display.Javascript object>"
            ],
            "application/javascript": [
              "window[\"273fefd8-ae6a-11ed-b104-0242ac1c000c\"] = document.querySelector(\"#id24-0-0\");\n",
              "//# sourceURL=js_87f2c36146"
            ]
          },
          "metadata": {}
        },
        {
          "output_type": "display_data",
          "data": {
            "text/plain": [
              "<IPython.core.display.Javascript object>"
            ],
            "application/javascript": [
              "window[\"274049ba-ae6a-11ed-b104-0242ac1c000c\"] = google.colab.output.setActiveOutputArea(window[\"273fefd8-ae6a-11ed-b104-0242ac1c000c\"]);\n",
              "//# sourceURL=js_efd1a110e3"
            ]
          },
          "metadata": {}
        },
        {
          "output_type": "display_data",
          "data": {
            "text/plain": [
              "<IPython.core.display.Javascript object>"
            ],
            "application/javascript": [
              "window[\"282b7e76-ae6a-11ed-b104-0242ac1c000c\"] = google.colab.output.setActiveOutputArea(window[\"273e3b84-ae6a-11ed-b104-0242ac1c000c\"]);\n",
              "//# sourceURL=js_154a0d98af"
            ]
          },
          "metadata": {}
        },
        {
          "output_type": "stream",
          "name": "stdout",
          "text": [
            "[2 3]\n"
          ]
        },
        {
          "output_type": "display_data",
          "data": {
            "text/plain": [
              "<IPython.core.display.Javascript object>"
            ],
            "application/javascript": [
              "window[\"28cf2a58-ae6a-11ed-b104-0242ac1c000c\"] = google.colab.output.getActiveOutputArea();\n",
              "//# sourceURL=js_f775fee9a8"
            ]
          },
          "metadata": {}
        },
        {
          "output_type": "display_data",
          "data": {
            "text/plain": [
              "<IPython.core.display.Javascript object>"
            ],
            "application/javascript": [
              "window[\"28d0aa40-ae6a-11ed-b104-0242ac1c000c\"] = document.querySelector(\"#id24-0-0\");\n",
              "//# sourceURL=js_caae33320b"
            ]
          },
          "metadata": {}
        },
        {
          "output_type": "display_data",
          "data": {
            "text/plain": [
              "<IPython.core.display.Javascript object>"
            ],
            "application/javascript": [
              "window[\"28d13cda-ae6a-11ed-b104-0242ac1c000c\"] = google.colab.output.setActiveOutputArea(window[\"28d0aa40-ae6a-11ed-b104-0242ac1c000c\"]);\n",
              "//# sourceURL=js_068887ae19"
            ]
          },
          "metadata": {}
        },
        {
          "output_type": "display_data",
          "data": {
            "text/plain": [
              "<IPython.core.display.Javascript object>"
            ],
            "application/javascript": [
              "window[\"294525f0-ae6a-11ed-b104-0242ac1c000c\"] = google.colab.output.setActiveOutputArea(window[\"28cf2a58-ae6a-11ed-b104-0242ac1c000c\"]);\n",
              "//# sourceURL=js_f43721da42"
            ]
          },
          "metadata": {}
        },
        {
          "output_type": "stream",
          "name": "stdout",
          "text": [
            "[3 3]\n"
          ]
        },
        {
          "output_type": "display_data",
          "data": {
            "text/plain": [
              "<IPython.core.display.Javascript object>"
            ],
            "application/javascript": [
              "window[\"29e5db08-ae6a-11ed-b104-0242ac1c000c\"] = google.colab.output.getActiveOutputArea();\n",
              "//# sourceURL=js_ce854f1a2e"
            ]
          },
          "metadata": {}
        },
        {
          "output_type": "display_data",
          "data": {
            "text/plain": [
              "<IPython.core.display.Javascript object>"
            ],
            "application/javascript": [
              "window[\"29e8180a-ae6a-11ed-b104-0242ac1c000c\"] = document.querySelector(\"#id24-0-0\");\n",
              "//# sourceURL=js_303995f5ee"
            ]
          },
          "metadata": {}
        },
        {
          "output_type": "display_data",
          "data": {
            "text/plain": [
              "<IPython.core.display.Javascript object>"
            ],
            "application/javascript": [
              "window[\"29e9600c-ae6a-11ed-b104-0242ac1c000c\"] = google.colab.output.setActiveOutputArea(window[\"29e8180a-ae6a-11ed-b104-0242ac1c000c\"]);\n",
              "//# sourceURL=js_b92b26d99c"
            ]
          },
          "metadata": {}
        },
        {
          "output_type": "stream",
          "name": "stdout",
          "text": [
            "Reward: 11, Action taken: 3, Terminated: True\n",
            "{'action_given': 3, 'action_taken': 0}\n"
          ]
        },
        {
          "output_type": "display_data",
          "data": {
            "text/plain": [
              "<Figure size 360x1224 with 1 Axes>"
            ],
            "image/png": "[encoded data removed]"
          },
          "metadata": {
            "needs_background": "light"
          }
        },
        {
          "output_type": "display_data",
          "data": {
            "text/plain": [
              "<IPython.core.display.Javascript object>"
            ],
            "application/javascript": [
              "window[\"2a1a108a-ae6a-11ed-b104-0242ac1c000c\"] = google.colab.output.setActiveOutputArea(window[\"29e5db08-ae6a-11ed-b104-0242ac1c000c\"]);\n",
              "//# sourceURL=js_e9d9b90d16"
            ]
          },
          "metadata": {}
        },
        {
          "output_type": "stream",
          "name": "stdout",
          "text": [
            "actions_given [1, 1, 2, 2, 0, 0, 2, 0, 1, 3]\n",
            "rewards [1, 1, 6, -7, 8, 7, 5, 5, 5, 11]\n",
            "cumulative reward 42\n"
          ]
        }
      ]
    }
  ]
}