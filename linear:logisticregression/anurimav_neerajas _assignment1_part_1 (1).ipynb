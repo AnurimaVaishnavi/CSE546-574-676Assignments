{
  "cells": [
    {
      "cell_type": "code",
      "execution_count": 37,
      "metadata": {
        "id": "cIlBSIZxAqQN"
      },
      "outputs": [],
      "source": [
        "import matplotlib.pyplot as plt\n",
        "import numpy as np\n",
        "import pandas as pd\n",
        "import math"
      ]
    },
    {
      "cell_type": "code",
      "execution_count": 38,
      "metadata": {
        "colab": {
          "base_uri": "https://localhost:8080/"
        },
        "id": "pRYTeaarAxhd",
        "outputId": "ca86d110-d031-4061-ea73-a9ea74a37d8a"
      },
      "outputs": [
        {
          "output_type": "stream",
          "name": "stdout",
          "text": [
            "['Adelie' 'Gentoo' 'Chinstrap'] ['Torgersen' 'Biscoe' 'Dream'] ['male', 'female']\n"
          ]
        }
      ],
      "source": [
        "df = pd.read_csv(\"/content/penguins.csv\")\n",
        "species = df['species'].unique()\n",
        "island = df['island'].unique()\n",
        "sex =  df['sex'].unique()\n",
        "sex = [x for x in sex if str(x) != 'nan']\n",
        "df = df.rename(columns={'bill_length_mm': 'culmen_length_mm', 'bill_depth_mm': 'culmen_depth_mm'})\n",
        "print(species,island,sex)"
      ]
    },
    {
      "cell_type": "code",
      "source": [
        "print(df.info())\n",
        "print(df.columns)\n",
        "print(df.dtypes)"
      ],
      "metadata": {
        "colab": {
          "base_uri": "https://localhost:8080/"
        },
        "id": "-WxA5qRyPdm3",
        "outputId": "4aa7e799-a963-4347-9b9e-f5fdbd2dd833"
      },
      "execution_count": 39,
      "outputs": [
        {
          "output_type": "stream",
          "name": "stdout",
          "text": [
            "<class 'pandas.core.frame.DataFrame'>\n",
            "RangeIndex: 344 entries, 0 to 343\n",
            "Data columns (total 8 columns):\n",
            " #   Column             Non-Null Count  Dtype  \n",
            "---  ------             --------------  -----  \n",
            " 0   species            344 non-null    object \n",
            " 1   island             344 non-null    object \n",
            " 2   culmen_length_mm   342 non-null    float64\n",
            " 3   culmen_depth_mm    342 non-null    float64\n",
            " 4   flipper_length_mm  342 non-null    float64\n",
            " 5   body_mass_g        342 non-null    float64\n",
            " 6   sex                333 non-null    object \n",
            " 7   year               344 non-null    int64  \n",
            "dtypes: float64(4), int64(1), object(3)\n",
            "memory usage: 21.6+ KB\n",
            "None\n",
            "Index(['species', 'island', 'culmen_length_mm', 'culmen_depth_mm',\n",
            "       'flipper_length_mm', 'body_mass_g', 'sex', 'year'],\n",
            "      dtype='object')\n",
            "species               object\n",
            "island                object\n",
            "culmen_length_mm     float64\n",
            "culmen_depth_mm      float64\n",
            "flipper_length_mm    float64\n",
            "body_mass_g          float64\n",
            "sex                   object\n",
            "year                   int64\n",
            "dtype: object\n"
          ]
        }
      ]
    },
    {
      "cell_type": "code",
      "source": [
        "specie=(df['species'].value_counts())\n",
        "n_islands=df['island'].value_counts()\n",
        "print(n_islands)\n",
        "print(specie)"
      ],
      "metadata": {
        "colab": {
          "base_uri": "https://localhost:8080/"
        },
        "id": "Ye3z0_UQPuC5",
        "outputId": "e79749d0-c6fe-4b47-d827-249547f49578"
      },
      "execution_count": 40,
      "outputs": [
        {
          "output_type": "stream",
          "name": "stdout",
          "text": [
            "Biscoe       168\n",
            "Dream        124\n",
            "Torgersen     52\n",
            "Name: island, dtype: int64\n",
            "Adelie       152\n",
            "Gentoo       124\n",
            "Chinstrap     68\n",
            "Name: species, dtype: int64\n"
          ]
        }
      ]
    },
    {
      "cell_type": "code",
      "execution_count": 41,
      "metadata": {
        "colab": {
          "base_uri": "https://localhost:8080/"
        },
        "id": "VrAE70i2A0ah",
        "outputId": "7828bc1f-8ce7-4458-da4c-8cec471b148c"
      },
      "outputs": [
        {
          "output_type": "stream",
          "name": "stdout",
          "text": [
            "culmen_length_mm       5.459584\n",
            "culmen_depth_mm        1.974793\n",
            "flipper_length_mm     14.061714\n",
            "body_mass_g          801.954536\n",
            "year                   0.818356\n",
            "dtype: float64\n"
          ]
        },
        {
          "output_type": "stream",
          "name": "stderr",
          "text": [
            "<ipython-input-41-c5e34e0d241e>:2: FutureWarning: Dropping of nuisance columns in DataFrame reductions (with 'numeric_only=None') is deprecated; in a future version this will raise TypeError.  Select only valid columns before calling the reduction.\n",
            "  print(df.std())\n"
          ]
        }
      ],
      "source": [
        "#Statistics\n",
        "print(df.std())"
      ]
    },
    {
      "cell_type": "code",
      "execution_count": 42,
      "metadata": {
        "colab": {
          "base_uri": "https://localhost:8080/"
        },
        "id": "GTL6kGxRBB2S",
        "outputId": "be71c94b-1c95-464f-82bb-a1f75ecace9d"
      },
      "outputs": [
        {
          "output_type": "stream",
          "name": "stdout",
          "text": [
            "culmen_length_mm       43.921930\n",
            "culmen_depth_mm        17.151170\n",
            "flipper_length_mm     200.915205\n",
            "body_mass_g          4201.754386\n",
            "year                 2008.029070\n",
            "dtype: float64\n"
          ]
        },
        {
          "output_type": "stream",
          "name": "stderr",
          "text": [
            "<ipython-input-42-f98cceecb4a0>:1: FutureWarning: Dropping of nuisance columns in DataFrame reductions (with 'numeric_only=None') is deprecated; in a future version this will raise TypeError.  Select only valid columns before calling the reduction.\n",
            "  print(df.mean())\n"
          ]
        }
      ],
      "source": [
        "print(df.mean())"
      ]
    },
    {
      "cell_type": "code",
      "execution_count": 43,
      "metadata": {
        "colab": {
          "base_uri": "https://localhost:8080/"
        },
        "id": "goHgZDUJBM1S",
        "outputId": "84be4791-415d-430b-91fc-9aeee828e023"
      },
      "outputs": [
        {
          "output_type": "stream",
          "name": "stdout",
          "text": [
            "(344, 8)\n"
          ]
        }
      ],
      "source": [
        "print(df.shape)"
      ]
    },
    {
      "cell_type": "code",
      "execution_count": 44,
      "metadata": {
        "colab": {
          "base_uri": "https://localhost:8080/"
        },
        "id": "DjTIGo15BPc2",
        "outputId": "b436ec2a-5068-4ed2-cf08-ce1de2bb9d90"
      },
      "outputs": [
        {
          "output_type": "stream",
          "name": "stdout",
          "text": [
            "{'Torgersen': 0, 'Biscoe': 1, 'Dream': 2} {0: 'Torgersen', 1: 'Biscoe', 2: 'Dream'}\n",
            "{'Adelie': 0, 'Gentoo': 1, 'Chinstrap': 2} {0: 'Adelie', 1: 'Gentoo', 2: 'Chinstrap'}\n",
            "{'male': 0, 'female': 1} {0: 'male', 1: 'female'}\n"
          ]
        }
      ],
      "source": [
        "#Convert features with string datatype to categorical (species, island, sex).\n",
        "island_to_int = dict((c, i) for i, c in enumerate(island))\n",
        "int_to_island = dict((i, c) for i, c in enumerate(island))\n",
        "print(island_to_int,int_to_island)\n",
        "for island in island_to_int:\n",
        "  df = df.replace(to_replace=island,\n",
        "           value=island_to_int[island])\n",
        "species_to_int = dict((c, i) for i, c in enumerate(species))\n",
        "int_to_species = dict((i, c) for i, c in enumerate(species))\n",
        "print(species_to_int,int_to_species)\n",
        "for species in species_to_int:\n",
        "  df = df.replace(to_replace=species,\n",
        "           value=species_to_int[species])\n",
        "sex_to_int = dict((c, i) for i, c in enumerate(sex))\n",
        "int_to_sex = dict((i, c) for i, c in enumerate(sex))\n",
        "print(sex_to_int,int_to_sex )\n",
        "for sex in sex_to_int:\n",
        "  df = df.replace(to_replace=sex,\n",
        "           value=sex_to_int[sex])"
      ]
    },
    {
      "cell_type": "code",
      "source": [
        "df"
      ],
      "metadata": {
        "colab": {
          "base_uri": "https://localhost:8080/",
          "height": 424
        },
        "id": "BsZHA09Z-bm9",
        "outputId": "b3f57bd3-e72b-4c96-9c4b-2e3c358a6d75"
      },
      "execution_count": 45,
      "outputs": [
        {
          "output_type": "execute_result",
          "data": {
            "text/plain": [
              "     species  island  culmen_length_mm  culmen_depth_mm  flipper_length_mm  \\\n",
              "0          0       0              39.1             18.7              181.0   \n",
              "1          0       0              39.5             17.4              186.0   \n",
              "2          0       0              40.3             18.0              195.0   \n",
              "3          0       0               NaN              NaN                NaN   \n",
              "4          0       0              36.7             19.3              193.0   \n",
              "..       ...     ...               ...              ...                ...   \n",
              "339        2       2              55.8             19.8              207.0   \n",
              "340        2       2              43.5             18.1              202.0   \n",
              "341        2       2              49.6             18.2              193.0   \n",
              "342        2       2              50.8             19.0              210.0   \n",
              "343        2       2              50.2             18.7              198.0   \n",
              "\n",
              "     body_mass_g  sex  year  \n",
              "0         3750.0  0.0  2007  \n",
              "1         3800.0  1.0  2007  \n",
              "2         3250.0  1.0  2007  \n",
              "3            NaN  NaN  2007  \n",
              "4         3450.0  1.0  2007  \n",
              "..           ...  ...   ...  \n",
              "339       4000.0  0.0  2009  \n",
              "340       3400.0  1.0  2009  \n",
              "341       3775.0  0.0  2009  \n",
              "342       4100.0  0.0  2009  \n",
              "343       3775.0  1.0  2009  \n",
              "\n",
              "[344 rows x 8 columns]"
            ],
            "text/html": [
              "\n",
              "  <div id=\"df-64b7a8f4-e592-46ad-904f-5287e7f0feb4\">\n",
              "    <div class=\"colab-df-container\">\n",
              "      <div>\n",
              "<style scoped>\n",
              "    .dataframe tbody tr th:only-of-type {\n",
              "        vertical-align: middle;\n",
              "    }\n",
              "\n",
              "    .dataframe tbody tr th {\n",
              "        vertical-align: top;\n",
              "    }\n",
              "\n",
              "    .dataframe thead th {\n",
              "        text-align: right;\n",
              "    }\n",
              "</style>\n",
              "<table border=\"1\" class=\"dataframe\">\n",
              "  <thead>\n",
              "    <tr style=\"text-align: right;\">\n",
              "      <th></th>\n",
              "      <th>species</th>\n",
              "      <th>island</th>\n",
              "      <th>culmen_length_mm</th>\n",
              "      <th>culmen_depth_mm</th>\n",
              "      <th>flipper_length_mm</th>\n",
              "      <th>body_mass_g</th>\n",
              "      <th>sex</th>\n",
              "      <th>year</th>\n",
              "    </tr>\n",
              "  </thead>\n",
              "  <tbody>\n",
              "    <tr>\n",
              "      <th>0</th>\n",
              "      <td>0</td>\n",
              "      <td>0</td>\n",
              "      <td>39.1</td>\n",
              "      <td>18.7</td>\n",
              "      <td>181.0</td>\n",
              "      <td>3750.0</td>\n",
              "      <td>0.0</td>\n",
              "      <td>2007</td>\n",
              "    </tr>\n",
              "    <tr>\n",
              "      <th>1</th>\n",
              "      <td>0</td>\n",
              "      <td>0</td>\n",
              "      <td>39.5</td>\n",
              "      <td>17.4</td>\n",
              "      <td>186.0</td>\n",
              "      <td>3800.0</td>\n",
              "      <td>1.0</td>\n",
              "      <td>2007</td>\n",
              "    </tr>\n",
              "    <tr>\n",
              "      <th>2</th>\n",
              "      <td>0</td>\n",
              "      <td>0</td>\n",
              "      <td>40.3</td>\n",
              "      <td>18.0</td>\n",
              "      <td>195.0</td>\n",
              "      <td>3250.0</td>\n",
              "      <td>1.0</td>\n",
              "      <td>2007</td>\n",
              "    </tr>\n",
              "    <tr>\n",
              "      <th>3</th>\n",
              "      <td>0</td>\n",
              "      <td>0</td>\n",
              "      <td>NaN</td>\n",
              "      <td>NaN</td>\n",
              "      <td>NaN</td>\n",
              "      <td>NaN</td>\n",
              "      <td>NaN</td>\n",
              "      <td>2007</td>\n",
              "    </tr>\n",
              "    <tr>\n",
              "      <th>4</th>\n",
              "      <td>0</td>\n",
              "      <td>0</td>\n",
              "      <td>36.7</td>\n",
              "      <td>19.3</td>\n",
              "      <td>193.0</td>\n",
              "      <td>3450.0</td>\n",
              "      <td>1.0</td>\n",
              "      <td>2007</td>\n",
              "    </tr>\n",
              "    <tr>\n",
              "      <th>...</th>\n",
              "      <td>...</td>\n",
              "      <td>...</td>\n",
              "      <td>...</td>\n",
              "      <td>...</td>\n",
              "      <td>...</td>\n",
              "      <td>...</td>\n",
              "      <td>...</td>\n",
              "      <td>...</td>\n",
              "    </tr>\n",
              "    <tr>\n",
              "      <th>339</th>\n",
              "      <td>2</td>\n",
              "      <td>2</td>\n",
              "      <td>55.8</td>\n",
              "      <td>19.8</td>\n",
              "      <td>207.0</td>\n",
              "      <td>4000.0</td>\n",
              "      <td>0.0</td>\n",
              "      <td>2009</td>\n",
              "    </tr>\n",
              "    <tr>\n",
              "      <th>340</th>\n",
              "      <td>2</td>\n",
              "      <td>2</td>\n",
              "      <td>43.5</td>\n",
              "      <td>18.1</td>\n",
              "      <td>202.0</td>\n",
              "      <td>3400.0</td>\n",
              "      <td>1.0</td>\n",
              "      <td>2009</td>\n",
              "    </tr>\n",
              "    <tr>\n",
              "      <th>341</th>\n",
              "      <td>2</td>\n",
              "      <td>2</td>\n",
              "      <td>49.6</td>\n",
              "      <td>18.2</td>\n",
              "      <td>193.0</td>\n",
              "      <td>3775.0</td>\n",
              "      <td>0.0</td>\n",
              "      <td>2009</td>\n",
              "    </tr>\n",
              "    <tr>\n",
              "      <th>342</th>\n",
              "      <td>2</td>\n",
              "      <td>2</td>\n",
              "      <td>50.8</td>\n",
              "      <td>19.0</td>\n",
              "      <td>210.0</td>\n",
              "      <td>4100.0</td>\n",
              "      <td>0.0</td>\n",
              "      <td>2009</td>\n",
              "    </tr>\n",
              "    <tr>\n",
              "      <th>343</th>\n",
              "      <td>2</td>\n",
              "      <td>2</td>\n",
              "      <td>50.2</td>\n",
              "      <td>18.7</td>\n",
              "      <td>198.0</td>\n",
              "      <td>3775.0</td>\n",
              "      <td>1.0</td>\n",
              "      <td>2009</td>\n",
              "    </tr>\n",
              "  </tbody>\n",
              "</table>\n",
              "<p>344 rows × 8 columns</p>\n",
              "</div>\n",
              "      <button class=\"colab-df-convert\" onclick=\"convertToInteractive('df-64b7a8f4-e592-46ad-904f-5287e7f0feb4')\"\n",
              "              title=\"Convert this dataframe to an interactive table.\"\n",
              "              style=\"display:none;\">\n",
              "        \n",
              "  <svg xmlns=\"http://www.w3.org/2000/svg\" height=\"24px\"viewBox=\"0 0 24 24\"\n",
              "       width=\"24px\">\n",
              "    <path d=\"M0 0h24v24H0V0z\" fill=\"none\"/>\n",
              "    <path d=\"M18.56 5.44l.94 2.06.94-2.06 2.06-.94-2.06-.94-.94-2.06-.94 2.06-2.06.94zm-11 1L8.5 8.5l.94-2.06 2.06-.94-2.06-.94L8.5 2.5l-.94 2.06-2.06.94zm10 10l.94 2.06.94-2.06 2.06-.94-2.06-.94-.94-2.06-.94 2.06-2.06.94z\"/><path d=\"M17.41 7.96l-1.37-1.37c-.4-.4-.92-.59-1.43-.59-.52 0-1.04.2-1.43.59L10.3 9.45l-7.72 7.72c-.78.78-.78 2.05 0 2.83L4 21.41c.39.39.9.59 1.41.59.51 0 1.02-.2 1.41-.59l7.78-7.78 2.81-2.81c.8-.78.8-2.07 0-2.86zM5.41 20L4 18.59l7.72-7.72 1.47 1.35L5.41 20z\"/>\n",
              "  </svg>\n",
              "      </button>\n",
              "      \n",
              "  <style>\n",
              "    .colab-df-container {\n",
              "      display:flex;\n",
              "      flex-wrap:wrap;\n",
              "      gap: 12px;\n",
              "    }\n",
              "\n",
              "    .colab-df-convert {\n",
              "      background-color: #E8F0FE;\n",
              "      border: none;\n",
              "      border-radius: 50%;\n",
              "      cursor: pointer;\n",
              "      display: none;\n",
              "      fill: #1967D2;\n",
              "      height: 32px;\n",
              "      padding: 0 0 0 0;\n",
              "      width: 32px;\n",
              "    }\n",
              "\n",
              "    .colab-df-convert:hover {\n",
              "      background-color: #E2EBFA;\n",
              "      box-shadow: 0px 1px 2px rgba(60, 64, 67, 0.3), 0px 1px 3px 1px rgba(60, 64, 67, 0.15);\n",
              "      fill: #174EA6;\n",
              "    }\n",
              "\n",
              "    [theme=dark] .colab-df-convert {\n",
              "      background-color: #3B4455;\n",
              "      fill: #D2E3FC;\n",
              "    }\n",
              "\n",
              "    [theme=dark] .colab-df-convert:hover {\n",
              "      background-color: #434B5C;\n",
              "      box-shadow: 0px 1px 3px 1px rgba(0, 0, 0, 0.15);\n",
              "      filter: drop-shadow(0px 1px 2px rgba(0, 0, 0, 0.3));\n",
              "      fill: #FFFFFF;\n",
              "    }\n",
              "  </style>\n",
              "\n",
              "      <script>\n",
              "        const buttonEl =\n",
              "          document.querySelector('#df-64b7a8f4-e592-46ad-904f-5287e7f0feb4 button.colab-df-convert');\n",
              "        buttonEl.style.display =\n",
              "          google.colab.kernel.accessAllowed ? 'block' : 'none';\n",
              "\n",
              "        async function convertToInteractive(key) {\n",
              "          const element = document.querySelector('#df-64b7a8f4-e592-46ad-904f-5287e7f0feb4');\n",
              "          const dataTable =\n",
              "            await google.colab.kernel.invokeFunction('convertToInteractive',\n",
              "                                                     [key], {});\n",
              "          if (!dataTable) return;\n",
              "\n",
              "          const docLinkHtml = 'Like what you see? Visit the ' +\n",
              "            '<a target=\"_blank\" href=https://colab.research.google.com/notebooks/data_table.ipynb>data table notebook</a>'\n",
              "            + ' to learn more about interactive tables.';\n",
              "          element.innerHTML = '';\n",
              "          dataTable['output_type'] = 'display_data';\n",
              "          await google.colab.output.renderOutput(dataTable, element);\n",
              "          const docLink = document.createElement('div');\n",
              "          docLink.innerHTML = docLinkHtml;\n",
              "          element.appendChild(docLink);\n",
              "        }\n",
              "      </script>\n",
              "    </div>\n",
              "  </div>\n",
              "  "
            ]
          },
          "metadata": {},
          "execution_count": 45
        }
      ]
    },
    {
      "cell_type": "code",
      "execution_count": 46,
      "metadata": {
        "colab": {
          "base_uri": "https://localhost:8080/",
          "height": 334
        },
        "id": "Xa3TQbl-Bqm8",
        "outputId": "1277b499-de37-4229-9929-8c42807c0c04"
      },
      "outputs": [
        {
          "output_type": "display_data",
          "data": {
            "text/plain": [
              "<Figure size 720x360 with 1 Axes>"
            ],
            "image/png": "[encoded data removed]"
          },
          "metadata": {
            "needs_background": "light"
          }
        }
      ],
      "source": [
        "''' Penguin (\"penguin.csv\"): total number of penguins between range of body mass\n",
        "Plot a graph which shows the total number of penguins having body_mass_g between 3200 and 4500\n",
        "'''\n",
        "\n",
        "# BEGIN YOUR CODE\n",
        "x = df[(df['body_mass_g']>3200) & (df['body_mass_g']<4500)]\n",
        "l = x['species'].unique()\n",
        "data={}\n",
        "for s in l:\n",
        "  data[s]=df['species'].value_counts()[s]\n",
        "\n",
        "x = data.keys()\n",
        "y = data.values()\n",
        "  \n",
        "fig = plt.figure(figsize = (10, 5))\n",
        " \n",
        "# creating the bar plot\n",
        "plt.bar(x, y,\n",
        "        width = 0.4)\n",
        " \n",
        "plt.xlabel(\"Species Type\")\n",
        "plt.ylabel(\"Count of each species\")\n",
        "plt.show()\n",
        "# END YOUR CODE"
      ]
    },
    {
      "cell_type": "code",
      "execution_count": 47,
      "metadata": {
        "colab": {
          "base_uri": "https://localhost:8080/",
          "height": 334
        },
        "id": "9SATIpBi9fYZ",
        "outputId": "2e8286bc-e265-455b-af85-856ba93f8c3f"
      },
      "outputs": [
        {
          "output_type": "display_data",
          "data": {
            "text/plain": [
              "<Figure size 720x360 with 1 Axes>"
            ],
            "image/png": "[encoded data removed]"
          },
          "metadata": {
            "needs_background": "light"
          }
        }
      ],
      "source": [
        "''' Penguin (\"penguin.csv\"): total number of penguins per Species\n",
        "Plot a graph which shows the total number of penguins per species\n",
        "'''\n",
        "\n",
        "# BEGIN YOUR CODE\n",
        "import pandas as pd\n",
        "l = df['species'].unique()\n",
        "data={}\n",
        "for s in l:\n",
        "  data[s]=df['species'].value_counts()[s]\n",
        "x = data.keys()\n",
        "y = data.values()\n",
        "  \n",
        "fig = plt.figure(figsize = (10, 5))\n",
        " \n",
        "# creating the bar plot\n",
        "plt.bar(x, y, width = 0.4)\n",
        " \n",
        "plt.xlabel(\"Species Type\")\n",
        "plt.ylabel(\"Count of each species\")\n",
        "plt.show()\n",
        "# END YOUR CODE"
      ]
    },
    {
      "cell_type": "code",
      "source": [
        "df"
      ],
      "metadata": {
        "id": "V5u2UmwnOAs-",
        "outputId": "c91dca6d-de5d-4bbf-e924-c161962796e9",
        "colab": {
          "base_uri": "https://localhost:8080/",
          "height": 424
        }
      },
      "execution_count": 48,
      "outputs": [
        {
          "output_type": "execute_result",
          "data": {
            "text/plain": [
              "     species  island  culmen_length_mm  culmen_depth_mm  flipper_length_mm  \\\n",
              "0          0       0              39.1             18.7              181.0   \n",
              "1          0       0              39.5             17.4              186.0   \n",
              "2          0       0              40.3             18.0              195.0   \n",
              "3          0       0               NaN              NaN                NaN   \n",
              "4          0       0              36.7             19.3              193.0   \n",
              "..       ...     ...               ...              ...                ...   \n",
              "339        2       2              55.8             19.8              207.0   \n",
              "340        2       2              43.5             18.1              202.0   \n",
              "341        2       2              49.6             18.2              193.0   \n",
              "342        2       2              50.8             19.0              210.0   \n",
              "343        2       2              50.2             18.7              198.0   \n",
              "\n",
              "     body_mass_g  sex  year  \n",
              "0         3750.0  0.0  2007  \n",
              "1         3800.0  1.0  2007  \n",
              "2         3250.0  1.0  2007  \n",
              "3            NaN  NaN  2007  \n",
              "4         3450.0  1.0  2007  \n",
              "..           ...  ...   ...  \n",
              "339       4000.0  0.0  2009  \n",
              "340       3400.0  1.0  2009  \n",
              "341       3775.0  0.0  2009  \n",
              "342       4100.0  0.0  2009  \n",
              "343       3775.0  1.0  2009  \n",
              "\n",
              "[344 rows x 8 columns]"
            ],
            "text/html": [
              "\n",
              "  <div id=\"df-b976fc9f-9ee4-4e30-be06-bcbe65c2b5ca\">\n",
              "    <div class=\"colab-df-container\">\n",
              "      <div>\n",
              "<style scoped>\n",
              "    .dataframe tbody tr th:only-of-type {\n",
              "        vertical-align: middle;\n",
              "    }\n",
              "\n",
              "    .dataframe tbody tr th {\n",
              "        vertical-align: top;\n",
              "    }\n",
              "\n",
              "    .dataframe thead th {\n",
              "        text-align: right;\n",
              "    }\n",
              "</style>\n",
              "<table border=\"1\" class=\"dataframe\">\n",
              "  <thead>\n",
              "    <tr style=\"text-align: right;\">\n",
              "      <th></th>\n",
              "      <th>species</th>\n",
              "      <th>island</th>\n",
              "      <th>culmen_length_mm</th>\n",
              "      <th>culmen_depth_mm</th>\n",
              "      <th>flipper_length_mm</th>\n",
              "      <th>body_mass_g</th>\n",
              "      <th>sex</th>\n",
              "      <th>year</th>\n",
              "    </tr>\n",
              "  </thead>\n",
              "  <tbody>\n",
              "    <tr>\n",
              "      <th>0</th>\n",
              "      <td>0</td>\n",
              "      <td>0</td>\n",
              "      <td>39.1</td>\n",
              "      <td>18.7</td>\n",
              "      <td>181.0</td>\n",
              "      <td>3750.0</td>\n",
              "      <td>0.0</td>\n",
              "      <td>2007</td>\n",
              "    </tr>\n",
              "    <tr>\n",
              "      <th>1</th>\n",
              "      <td>0</td>\n",
              "      <td>0</td>\n",
              "      <td>39.5</td>\n",
              "      <td>17.4</td>\n",
              "      <td>186.0</td>\n",
              "      <td>3800.0</td>\n",
              "      <td>1.0</td>\n",
              "      <td>2007</td>\n",
              "    </tr>\n",
              "    <tr>\n",
              "      <th>2</th>\n",
              "      <td>0</td>\n",
              "      <td>0</td>\n",
              "      <td>40.3</td>\n",
              "      <td>18.0</td>\n",
              "      <td>195.0</td>\n",
              "      <td>3250.0</td>\n",
              "      <td>1.0</td>\n",
              "      <td>2007</td>\n",
              "    </tr>\n",
              "    <tr>\n",
              "      <th>3</th>\n",
              "      <td>0</td>\n",
              "      <td>0</td>\n",
              "      <td>NaN</td>\n",
              "      <td>NaN</td>\n",
              "      <td>NaN</td>\n",
              "      <td>NaN</td>\n",
              "      <td>NaN</td>\n",
              "      <td>2007</td>\n",
              "    </tr>\n",
              "    <tr>\n",
              "      <th>4</th>\n",
              "      <td>0</td>\n",
              "      <td>0</td>\n",
              "      <td>36.7</td>\n",
              "      <td>19.3</td>\n",
              "      <td>193.0</td>\n",
              "      <td>3450.0</td>\n",
              "      <td>1.0</td>\n",
              "      <td>2007</td>\n",
              "    </tr>\n",
              "    <tr>\n",
              "      <th>...</th>\n",
              "      <td>...</td>\n",
              "      <td>...</td>\n",
              "      <td>...</td>\n",
              "      <td>...</td>\n",
              "      <td>...</td>\n",
              "      <td>...</td>\n",
              "      <td>...</td>\n",
              "      <td>...</td>\n",
              "    </tr>\n",
              "    <tr>\n",
              "      <th>339</th>\n",
              "      <td>2</td>\n",
              "      <td>2</td>\n",
              "      <td>55.8</td>\n",
              "      <td>19.8</td>\n",
              "      <td>207.0</td>\n",
              "      <td>4000.0</td>\n",
              "      <td>0.0</td>\n",
              "      <td>2009</td>\n",
              "    </tr>\n",
              "    <tr>\n",
              "      <th>340</th>\n",
              "      <td>2</td>\n",
              "      <td>2</td>\n",
              "      <td>43.5</td>\n",
              "      <td>18.1</td>\n",
              "      <td>202.0</td>\n",
              "      <td>3400.0</td>\n",
              "      <td>1.0</td>\n",
              "      <td>2009</td>\n",
              "    </tr>\n",
              "    <tr>\n",
              "      <th>341</th>\n",
              "      <td>2</td>\n",
              "      <td>2</td>\n",
              "      <td>49.6</td>\n",
              "      <td>18.2</td>\n",
              "      <td>193.0</td>\n",
              "      <td>3775.0</td>\n",
              "      <td>0.0</td>\n",
              "      <td>2009</td>\n",
              "    </tr>\n",
              "    <tr>\n",
              "      <th>342</th>\n",
              "      <td>2</td>\n",
              "      <td>2</td>\n",
              "      <td>50.8</td>\n",
              "      <td>19.0</td>\n",
              "      <td>210.0</td>\n",
              "      <td>4100.0</td>\n",
              "      <td>0.0</td>\n",
              "      <td>2009</td>\n",
              "    </tr>\n",
              "    <tr>\n",
              "      <th>343</th>\n",
              "      <td>2</td>\n",
              "      <td>2</td>\n",
              "      <td>50.2</td>\n",
              "      <td>18.7</td>\n",
              "      <td>198.0</td>\n",
              "      <td>3775.0</td>\n",
              "      <td>1.0</td>\n",
              "      <td>2009</td>\n",
              "    </tr>\n",
              "  </tbody>\n",
              "</table>\n",
              "<p>344 rows × 8 columns</p>\n",
              "</div>\n",
              "      <button class=\"colab-df-convert\" onclick=\"convertToInteractive('df-b976fc9f-9ee4-4e30-be06-bcbe65c2b5ca')\"\n",
              "              title=\"Convert this dataframe to an interactive table.\"\n",
              "              style=\"display:none;\">\n",
              "        \n",
              "  <svg xmlns=\"http://www.w3.org/2000/svg\" height=\"24px\"viewBox=\"0 0 24 24\"\n",
              "       width=\"24px\">\n",
              "    <path d=\"M0 0h24v24H0V0z\" fill=\"none\"/>\n",
              "    <path d=\"M18.56 5.44l.94 2.06.94-2.06 2.06-.94-2.06-.94-.94-2.06-.94 2.06-2.06.94zm-11 1L8.5 8.5l.94-2.06 2.06-.94-2.06-.94L8.5 2.5l-.94 2.06-2.06.94zm10 10l.94 2.06.94-2.06 2.06-.94-2.06-.94-.94-2.06-.94 2.06-2.06.94z\"/><path d=\"M17.41 7.96l-1.37-1.37c-.4-.4-.92-.59-1.43-.59-.52 0-1.04.2-1.43.59L10.3 9.45l-7.72 7.72c-.78.78-.78 2.05 0 2.83L4 21.41c.39.39.9.59 1.41.59.51 0 1.02-.2 1.41-.59l7.78-7.78 2.81-2.81c.8-.78.8-2.07 0-2.86zM5.41 20L4 18.59l7.72-7.72 1.47 1.35L5.41 20z\"/>\n",
              "  </svg>\n",
              "      </button>\n",
              "      \n",
              "  <style>\n",
              "    .colab-df-container {\n",
              "      display:flex;\n",
              "      flex-wrap:wrap;\n",
              "      gap: 12px;\n",
              "    }\n",
              "\n",
              "    .colab-df-convert {\n",
              "      background-color: #E8F0FE;\n",
              "      border: none;\n",
              "      border-radius: 50%;\n",
              "      cursor: pointer;\n",
              "      display: none;\n",
              "      fill: #1967D2;\n",
              "      height: 32px;\n",
              "      padding: 0 0 0 0;\n",
              "      width: 32px;\n",
              "    }\n",
              "\n",
              "    .colab-df-convert:hover {\n",
              "      background-color: #E2EBFA;\n",
              "      box-shadow: 0px 1px 2px rgba(60, 64, 67, 0.3), 0px 1px 3px 1px rgba(60, 64, 67, 0.15);\n",
              "      fill: #174EA6;\n",
              "    }\n",
              "\n",
              "    [theme=dark] .colab-df-convert {\n",
              "      background-color: #3B4455;\n",
              "      fill: #D2E3FC;\n",
              "    }\n",
              "\n",
              "    [theme=dark] .colab-df-convert:hover {\n",
              "      background-color: #434B5C;\n",
              "      box-shadow: 0px 1px 3px 1px rgba(0, 0, 0, 0.15);\n",
              "      filter: drop-shadow(0px 1px 2px rgba(0, 0, 0, 0.3));\n",
              "      fill: #FFFFFF;\n",
              "    }\n",
              "  </style>\n",
              "\n",
              "      <script>\n",
              "        const buttonEl =\n",
              "          document.querySelector('#df-b976fc9f-9ee4-4e30-be06-bcbe65c2b5ca button.colab-df-convert');\n",
              "        buttonEl.style.display =\n",
              "          google.colab.kernel.accessAllowed ? 'block' : 'none';\n",
              "\n",
              "        async function convertToInteractive(key) {\n",
              "          const element = document.querySelector('#df-b976fc9f-9ee4-4e30-be06-bcbe65c2b5ca');\n",
              "          const dataTable =\n",
              "            await google.colab.kernel.invokeFunction('convertToInteractive',\n",
              "                                                     [key], {});\n",
              "          if (!dataTable) return;\n",
              "\n",
              "          const docLinkHtml = 'Like what you see? Visit the ' +\n",
              "            '<a target=\"_blank\" href=https://colab.research.google.com/notebooks/data_table.ipynb>data table notebook</a>'\n",
              "            + ' to learn more about interactive tables.';\n",
              "          element.innerHTML = '';\n",
              "          dataTable['output_type'] = 'display_data';\n",
              "          await google.colab.output.renderOutput(dataTable, element);\n",
              "          const docLink = document.createElement('div');\n",
              "          docLink.innerHTML = docLinkHtml;\n",
              "          element.appendChild(docLink);\n",
              "        }\n",
              "      </script>\n",
              "    </div>\n",
              "  </div>\n",
              "  "
            ]
          },
          "metadata": {},
          "execution_count": 48
        }
      ]
    },
    {
      "cell_type": "code",
      "execution_count": 49,
      "metadata": {
        "id": "7SBOEtQ6BTAM"
      },
      "outputs": [],
      "source": [
        "# #Normalize non-categorical features (culmen_length_mm, culmen_depth_mm,\n",
        "# flipper_length_mm, body_mass_g).\n",
        "# a. Find the min and max values for each column.\n",
        "# b. Rescale dataset columns to the range from 0 to 1\n",
        "# Why do we do this? Normalization is to transform features to be on a similar\n",
        "# scale. This improves the performance and training stability of the model.\n",
        "# Note: normalize() is not allowed as it is a part of scikit-learn library\"\n",
        "df_min_max_scaled = df.copy()\n",
        "columns = ['culmen_length_mm','culmen_depth_mm','flipper_length_mm','body_mass_g']\n",
        "for column in columns:\n",
        "  df_min_max_scaled[column] = (df_min_max_scaled[column] - df_min_max_scaled[column].min()) / (df_min_max_scaled[column].max() - df_min_max_scaled[column].min())            \n",
        "df = df_min_max_scaled\n",
        "columns = list(df.columns)\n",
        "#replace missing values\n",
        "for column in columns:\n",
        "  if column!='sex':\n",
        "    df[column] = df[column].fillna(df[column].mean())"
      ]
    },
    {
      "cell_type": "code",
      "execution_count": 50,
      "metadata": {
        "id": "__njAowoBd_M",
        "colab": {
          "base_uri": "https://localhost:8080/",
          "height": 424
        },
        "outputId": "888e8ecc-f59e-4c9e-89b8-a2b248a9bbb2"
      },
      "outputs": [
        {
          "output_type": "execute_result",
          "data": {
            "text/plain": [
              "     species  island  culmen_length_mm  culmen_depth_mm  flipper_length_mm  \\\n",
              "0          0       0          0.254545         0.666667           0.152542   \n",
              "1          0       0          0.269091         0.511905           0.237288   \n",
              "2          0       0          0.298182         0.583333           0.389831   \n",
              "4          0       0          0.167273         0.738095           0.355932   \n",
              "5          0       0          0.261818         0.892857           0.305085   \n",
              "..       ...     ...               ...              ...                ...   \n",
              "339        2       2          0.861818         0.797619           0.593220   \n",
              "340        2       2          0.414545         0.595238           0.508475   \n",
              "341        2       2          0.636364         0.607143           0.355932   \n",
              "342        2       2          0.680000         0.702381           0.644068   \n",
              "343        2       2          0.658182         0.666667           0.440678   \n",
              "\n",
              "     body_mass_g  sex  year  \n",
              "0       0.291667  0.0  2007  \n",
              "1       0.305556  1.0  2007  \n",
              "2       0.152778  1.0  2007  \n",
              "4       0.208333  1.0  2007  \n",
              "5       0.263889  0.0  2007  \n",
              "..           ...  ...   ...  \n",
              "339     0.361111  0.0  2009  \n",
              "340     0.194444  1.0  2009  \n",
              "341     0.298611  0.0  2009  \n",
              "342     0.388889  0.0  2009  \n",
              "343     0.298611  1.0  2009  \n",
              "\n",
              "[333 rows x 8 columns]"
            ],
            "text/html": [
              "\n",
              "  <div id=\"df-c9ba57c0-f189-4c71-9109-2637b2dd05ea\">\n",
              "    <div class=\"colab-df-container\">\n",
              "      <div>\n",
              "<style scoped>\n",
              "    .dataframe tbody tr th:only-of-type {\n",
              "        vertical-align: middle;\n",
              "    }\n",
              "\n",
              "    .dataframe tbody tr th {\n",
              "        vertical-align: top;\n",
              "    }\n",
              "\n",
              "    .dataframe thead th {\n",
              "        text-align: right;\n",
              "    }\n",
              "</style>\n",
              "<table border=\"1\" class=\"dataframe\">\n",
              "  <thead>\n",
              "    <tr style=\"text-align: right;\">\n",
              "      <th></th>\n",
              "      <th>species</th>\n",
              "      <th>island</th>\n",
              "      <th>culmen_length_mm</th>\n",
              "      <th>culmen_depth_mm</th>\n",
              "      <th>flipper_length_mm</th>\n",
              "      <th>body_mass_g</th>\n",
              "      <th>sex</th>\n",
              "      <th>year</th>\n",
              "    </tr>\n",
              "  </thead>\n",
              "  <tbody>\n",
              "    <tr>\n",
              "      <th>0</th>\n",
              "      <td>0</td>\n",
              "      <td>0</td>\n",
              "      <td>0.254545</td>\n",
              "      <td>0.666667</td>\n",
              "      <td>0.152542</td>\n",
              "      <td>0.291667</td>\n",
              "      <td>0.0</td>\n",
              "      <td>2007</td>\n",
              "    </tr>\n",
              "    <tr>\n",
              "      <th>1</th>\n",
              "      <td>0</td>\n",
              "      <td>0</td>\n",
              "      <td>0.269091</td>\n",
              "      <td>0.511905</td>\n",
              "      <td>0.237288</td>\n",
              "      <td>0.305556</td>\n",
              "      <td>1.0</td>\n",
              "      <td>2007</td>\n",
              "    </tr>\n",
              "    <tr>\n",
              "      <th>2</th>\n",
              "      <td>0</td>\n",
              "      <td>0</td>\n",
              "      <td>0.298182</td>\n",
              "      <td>0.583333</td>\n",
              "      <td>0.389831</td>\n",
              "      <td>0.152778</td>\n",
              "      <td>1.0</td>\n",
              "      <td>2007</td>\n",
              "    </tr>\n",
              "    <tr>\n",
              "      <th>4</th>\n",
              "      <td>0</td>\n",
              "      <td>0</td>\n",
              "      <td>0.167273</td>\n",
              "      <td>0.738095</td>\n",
              "      <td>0.355932</td>\n",
              "      <td>0.208333</td>\n",
              "      <td>1.0</td>\n",
              "      <td>2007</td>\n",
              "    </tr>\n",
              "    <tr>\n",
              "      <th>5</th>\n",
              "      <td>0</td>\n",
              "      <td>0</td>\n",
              "      <td>0.261818</td>\n",
              "      <td>0.892857</td>\n",
              "      <td>0.305085</td>\n",
              "      <td>0.263889</td>\n",
              "      <td>0.0</td>\n",
              "      <td>2007</td>\n",
              "    </tr>\n",
              "    <tr>\n",
              "      <th>...</th>\n",
              "      <td>...</td>\n",
              "      <td>...</td>\n",
              "      <td>...</td>\n",
              "      <td>...</td>\n",
              "      <td>...</td>\n",
              "      <td>...</td>\n",
              "      <td>...</td>\n",
              "      <td>...</td>\n",
              "    </tr>\n",
              "    <tr>\n",
              "      <th>339</th>\n",
              "      <td>2</td>\n",
              "      <td>2</td>\n",
              "      <td>0.861818</td>\n",
              "      <td>0.797619</td>\n",
              "      <td>0.593220</td>\n",
              "      <td>0.361111</td>\n",
              "      <td>0.0</td>\n",
              "      <td>2009</td>\n",
              "    </tr>\n",
              "    <tr>\n",
              "      <th>340</th>\n",
              "      <td>2</td>\n",
              "      <td>2</td>\n",
              "      <td>0.414545</td>\n",
              "      <td>0.595238</td>\n",
              "      <td>0.508475</td>\n",
              "      <td>0.194444</td>\n",
              "      <td>1.0</td>\n",
              "      <td>2009</td>\n",
              "    </tr>\n",
              "    <tr>\n",
              "      <th>341</th>\n",
              "      <td>2</td>\n",
              "      <td>2</td>\n",
              "      <td>0.636364</td>\n",
              "      <td>0.607143</td>\n",
              "      <td>0.355932</td>\n",
              "      <td>0.298611</td>\n",
              "      <td>0.0</td>\n",
              "      <td>2009</td>\n",
              "    </tr>\n",
              "    <tr>\n",
              "      <th>342</th>\n",
              "      <td>2</td>\n",
              "      <td>2</td>\n",
              "      <td>0.680000</td>\n",
              "      <td>0.702381</td>\n",
              "      <td>0.644068</td>\n",
              "      <td>0.388889</td>\n",
              "      <td>0.0</td>\n",
              "      <td>2009</td>\n",
              "    </tr>\n",
              "    <tr>\n",
              "      <th>343</th>\n",
              "      <td>2</td>\n",
              "      <td>2</td>\n",
              "      <td>0.658182</td>\n",
              "      <td>0.666667</td>\n",
              "      <td>0.440678</td>\n",
              "      <td>0.298611</td>\n",
              "      <td>1.0</td>\n",
              "      <td>2009</td>\n",
              "    </tr>\n",
              "  </tbody>\n",
              "</table>\n",
              "<p>333 rows × 8 columns</p>\n",
              "</div>\n",
              "      <button class=\"colab-df-convert\" onclick=\"convertToInteractive('df-c9ba57c0-f189-4c71-9109-2637b2dd05ea')\"\n",
              "              title=\"Convert this dataframe to an interactive table.\"\n",
              "              style=\"display:none;\">\n",
              "        \n",
              "  <svg xmlns=\"http://www.w3.org/2000/svg\" height=\"24px\"viewBox=\"0 0 24 24\"\n",
              "       width=\"24px\">\n",
              "    <path d=\"M0 0h24v24H0V0z\" fill=\"none\"/>\n",
              "    <path d=\"M18.56 5.44l.94 2.06.94-2.06 2.06-.94-2.06-.94-.94-2.06-.94 2.06-2.06.94zm-11 1L8.5 8.5l.94-2.06 2.06-.94-2.06-.94L8.5 2.5l-.94 2.06-2.06.94zm10 10l.94 2.06.94-2.06 2.06-.94-2.06-.94-.94-2.06-.94 2.06-2.06.94z\"/><path d=\"M17.41 7.96l-1.37-1.37c-.4-.4-.92-.59-1.43-.59-.52 0-1.04.2-1.43.59L10.3 9.45l-7.72 7.72c-.78.78-.78 2.05 0 2.83L4 21.41c.39.39.9.59 1.41.59.51 0 1.02-.2 1.41-.59l7.78-7.78 2.81-2.81c.8-.78.8-2.07 0-2.86zM5.41 20L4 18.59l7.72-7.72 1.47 1.35L5.41 20z\"/>\n",
              "  </svg>\n",
              "      </button>\n",
              "      \n",
              "  <style>\n",
              "    .colab-df-container {\n",
              "      display:flex;\n",
              "      flex-wrap:wrap;\n",
              "      gap: 12px;\n",
              "    }\n",
              "\n",
              "    .colab-df-convert {\n",
              "      background-color: #E8F0FE;\n",
              "      border: none;\n",
              "      border-radius: 50%;\n",
              "      cursor: pointer;\n",
              "      display: none;\n",
              "      fill: #1967D2;\n",
              "      height: 32px;\n",
              "      padding: 0 0 0 0;\n",
              "      width: 32px;\n",
              "    }\n",
              "\n",
              "    .colab-df-convert:hover {\n",
              "      background-color: #E2EBFA;\n",
              "      box-shadow: 0px 1px 2px rgba(60, 64, 67, 0.3), 0px 1px 3px 1px rgba(60, 64, 67, 0.15);\n",
              "      fill: #174EA6;\n",
              "    }\n",
              "\n",
              "    [theme=dark] .colab-df-convert {\n",
              "      background-color: #3B4455;\n",
              "      fill: #D2E3FC;\n",
              "    }\n",
              "\n",
              "    [theme=dark] .colab-df-convert:hover {\n",
              "      background-color: #434B5C;\n",
              "      box-shadow: 0px 1px 3px 1px rgba(0, 0, 0, 0.15);\n",
              "      filter: drop-shadow(0px 1px 2px rgba(0, 0, 0, 0.3));\n",
              "      fill: #FFFFFF;\n",
              "    }\n",
              "  </style>\n",
              "\n",
              "      <script>\n",
              "        const buttonEl =\n",
              "          document.querySelector('#df-c9ba57c0-f189-4c71-9109-2637b2dd05ea button.colab-df-convert');\n",
              "        buttonEl.style.display =\n",
              "          google.colab.kernel.accessAllowed ? 'block' : 'none';\n",
              "\n",
              "        async function convertToInteractive(key) {\n",
              "          const element = document.querySelector('#df-c9ba57c0-f189-4c71-9109-2637b2dd05ea');\n",
              "          const dataTable =\n",
              "            await google.colab.kernel.invokeFunction('convertToInteractive',\n",
              "                                                     [key], {});\n",
              "          if (!dataTable) return;\n",
              "\n",
              "          const docLinkHtml = 'Like what you see? Visit the ' +\n",
              "            '<a target=\"_blank\" href=https://colab.research.google.com/notebooks/data_table.ipynb>data table notebook</a>'\n",
              "            + ' to learn more about interactive tables.';\n",
              "          element.innerHTML = '';\n",
              "          dataTable['output_type'] = 'display_data';\n",
              "          await google.colab.output.renderOutput(dataTable, element);\n",
              "          const docLink = document.createElement('div');\n",
              "          docLink.innerHTML = docLinkHtml;\n",
              "          element.appendChild(docLink);\n",
              "        }\n",
              "      </script>\n",
              "    </div>\n",
              "  </div>\n",
              "  "
            ]
          },
          "metadata": {},
          "execution_count": 50
        }
      ],
      "source": [
        "df = df.dropna()\n",
        "df"
      ]
    },
    {
      "cell_type": "code",
      "execution_count": 51,
      "metadata": {
        "id": "erRgq-rPB35n",
        "colab": {
          "base_uri": "https://localhost:8080/"
        },
        "outputId": "a2c71dc8-e7b9-42f2-9b0a-33b9fb2a347b"
      },
      "outputs": [
        {
          "output_type": "stream",
          "name": "stdout",
          "text": [
            "333 8\n"
          ]
        }
      ],
      "source": [
        "print(df.shape[0],df.shape[1])"
      ]
    },
    {
      "cell_type": "code",
      "source": [
        "plt.scatter(df['body_mass_g'],df['sex'],c='red')\n",
        "plt.show() "
      ],
      "metadata": {
        "id": "FqnXUP_UFAzn",
        "colab": {
          "base_uri": "https://localhost:8080/",
          "height": 265
        },
        "outputId": "c17d1e2f-e2d9-4ea5-bff1-bd85b198c979"
      },
      "execution_count": 52,
      "outputs": [
        {
          "output_type": "display_data",
          "data": {
            "text/plain": [
              "<Figure size 432x288 with 1 Axes>"
            ],
            "image/png": "[encoded data removed]"
          },
          "metadata": {
            "needs_background": "light"
          }
        }
      ]
    },
    {
      "cell_type": "code",
      "source": [
        "plt.scatter(df['flipper_length_mm'],df['sex'],c='blue')\n",
        "plt.show()"
      ],
      "metadata": {
        "id": "zDE0IXn_HG66",
        "colab": {
          "base_uri": "https://localhost:8080/",
          "height": 265
        },
        "outputId": "f75a08a7-d170-41a2-b20c-8f55ba8aca8b"
      },
      "execution_count": 53,
      "outputs": [
        {
          "output_type": "display_data",
          "data": {
            "text/plain": [
              "<Figure size 432x288 with 1 Axes>"
            ],
            "image/png": "[encoded data removed]"
          },
          "metadata": {
            "needs_background": "light"
          }
        }
      ]
    },
    {
      "cell_type": "code",
      "source": [
        "plt.scatter(df['culmen_length_mm'],df['sex'],color='yellow')\n",
        "plt.show()"
      ],
      "metadata": {
        "id": "y7UFTxyqHbx9",
        "colab": {
          "base_uri": "https://localhost:8080/",
          "height": 265
        },
        "outputId": "00a7de0a-8521-4764-9431-e126742c5fef"
      },
      "execution_count": 54,
      "outputs": [
        {
          "output_type": "display_data",
          "data": {
            "text/plain": [
              "<Figure size 432x288 with 1 Axes>"
            ],
            "image/png": "[encoded data removed]"
          },
          "metadata": {
            "needs_background": "light"
          }
        }
      ]
    },
    {
      "cell_type": "code",
      "source": [
        "plt.scatter(df['culmen_depth_mm'],df['sex'],color='black')\n",
        "plt.show()"
      ],
      "metadata": {
        "id": "apzGWujaHhvU",
        "colab": {
          "base_uri": "https://localhost:8080/",
          "height": 265
        },
        "outputId": "d6f298fd-c1b7-4782-cfca-6bd2fed74700"
      },
      "execution_count": 55,
      "outputs": [
        {
          "output_type": "display_data",
          "data": {
            "text/plain": [
              "<Figure size 432x288 with 1 Axes>"
            ],
            "image/png": "[encoded data removed]"
          },
          "metadata": {
            "needs_background": "light"
          }
        }
      ]
    },
    {
      "cell_type": "code",
      "source": [
        "#Creating a correlation matrix\n",
        "import seaborn as sns\n",
        "import matplotlib.pyplot as plt\n",
        "df.corr()\n",
        "sns.heatmap(df.corr(),vmin=-1, vmax=1, annot=True, cmap='BrBG')"
      ],
      "metadata": {
        "id": "5mexaB5LHn2o",
        "colab": {
          "base_uri": "https://localhost:8080/",
          "height": 375
        },
        "outputId": "0ec7af3b-0ef7-49d4-d9cb-087feb04001d"
      },
      "execution_count": 56,
      "outputs": [
        {
          "output_type": "execute_result",
          "data": {
            "text/plain": [
              "<matplotlib.axes._subplots.AxesSubplot at 0x7f2110b312b0>"
            ]
          },
          "metadata": {},
          "execution_count": 56
        },
        {
          "output_type": "display_data",
          "data": {
            "text/plain": [
              "<Figure size 432x288 with 2 Axes>"
            ],
            "image/png": "[encoded data removed]"
          },
          "metadata": {
            "needs_background": "light"
          }
        }
      ]
    },
    {
      "cell_type": "code",
      "source": [
        "#The output variable sex has maximum correlation with species,island, flipper_length_mm, and culmen_length_mm from the correlation matrix\n",
        "#Input  N x 4 dim\n",
        "\n",
        "X = pd.concat([df['species'], df['island'],df['flipper_length_mm'],df['culmen_length_mm']], axis = 1)\n",
        "print(X)\n"
      ],
      "metadata": {
        "id": "obvfgIw-Jdwi",
        "colab": {
          "base_uri": "https://localhost:8080/"
        },
        "outputId": "062497f0-94c0-409c-979f-af7e8f8f9ee8"
      },
      "execution_count": 57,
      "outputs": [
        {
          "output_type": "stream",
          "name": "stdout",
          "text": [
            "     species  island  flipper_length_mm  culmen_length_mm\n",
            "0          0       0           0.152542          0.254545\n",
            "1          0       0           0.237288          0.269091\n",
            "2          0       0           0.389831          0.298182\n",
            "4          0       0           0.355932          0.167273\n",
            "5          0       0           0.305085          0.261818\n",
            "..       ...     ...                ...               ...\n",
            "339        2       2           0.593220          0.861818\n",
            "340        2       2           0.508475          0.414545\n",
            "341        2       2           0.355932          0.636364\n",
            "342        2       2           0.644068          0.680000\n",
            "343        2       2           0.440678          0.658182\n",
            "\n",
            "[333 rows x 4 columns]\n"
          ]
        }
      ]
    },
    {
      "cell_type": "code",
      "source": [
        "#Output the sex column NX1 matrix\n",
        "y=df['sex']\n",
        "print(y.shape)\n",
        "print(y)"
      ],
      "metadata": {
        "id": "wytlBosWJqNY",
        "colab": {
          "base_uri": "https://localhost:8080/"
        },
        "outputId": "4089920c-7e83-43f6-d256-5436add701b4"
      },
      "execution_count": 58,
      "outputs": [
        {
          "output_type": "stream",
          "name": "stdout",
          "text": [
            "(333,)\n",
            "0      0.0\n",
            "1      1.0\n",
            "2      1.0\n",
            "4      1.0\n",
            "5      0.0\n",
            "      ... \n",
            "339    0.0\n",
            "340    1.0\n",
            "341    0.0\n",
            "342    0.0\n",
            "343    1.0\n",
            "Name: sex, Length: 333, dtype: float64\n"
          ]
        }
      ]
    },
    {
      "cell_type": "code",
      "source": [
        "plt.scatter(df['flipper_length_mm'],df['sex'],color='green',s=10)\n",
        "plt.show()"
      ],
      "metadata": {
        "id": "6HXSym9HFSGT",
        "colab": {
          "base_uri": "https://localhost:8080/",
          "height": 265
        },
        "outputId": "dc78c9a0-3337-4c4e-fbf6-28283106e9be"
      },
      "execution_count": 59,
      "outputs": [
        {
          "output_type": "display_data",
          "data": {
            "text/plain": [
              "<Figure size 432x288 with 1 Axes>"
            ],
            "image/png": "[encoded data removed]"
          },
          "metadata": {
            "needs_background": "light"
          }
        }
      ]
    },
    {
      "cell_type": "code",
      "execution_count": 60,
      "metadata": {
        "id": "pTP9v5_JB27C",
        "colab": {
          "base_uri": "https://localhost:8080/"
        },
        "outputId": "90ec2f16-f346-4c53-a2a3-b45167893a67"
      },
      "outputs": [
        {
          "output_type": "stream",
          "name": "stdout",
          "text": [
            "(266, 4) (67, 4) (266,) (67,)\n"
          ]
        }
      ],
      "source": [
        "# Divide the dataset into training and test, as 80% training, 20% testing dataset.\n",
        "# Train test split without using scikit learn\n",
        "\n",
        "shuffle_df = df.sample(frac=1)\n",
        "train_size = int(0.8 * len(df))\n",
        "train_set = shuffle_df[:train_size]\n",
        "test_set = shuffle_df[train_size:]\n",
        "x_train = pd.concat([train_set['species'],train_set['island'],train_set['flipper_length_mm'],train_set['culmen_length_mm']], axis = 1)\n",
        "x_test = pd.concat([test_set['species'],test_set['island'],test_set['flipper_length_mm'],test_set['culmen_length_mm']], axis = 1)\n",
        "y_train, y_test = train_set[\"sex\"],test_set[\"sex\"]\n",
        "print(x_train.shape, x_test.shape,y_train.shape, y_test.shape)"
      ]
    },
    {
      "cell_type": "code",
      "execution_count": 62,
      "metadata": {
        "id": "xFKiKiupa7rE"
      },
      "outputs": [],
      "source": [
        "class LogitRegression():\n",
        "  def __init__(self,learning_rate,iterations,x,y):\n",
        "    # Takes as an input hyperparameters: learning rate, number of iterations\n",
        "    self.learning_rate = learning_rate\n",
        "    self.iterations = iterations\n",
        "    self.y= y\n",
        "    #intercept is the bias\n",
        "    self.intercept = np.ones((x.shape[0], 1)) \n",
        "    self.x = np.concatenate((self.intercept, x), axis=1)\n",
        "    #Initializing the weight vectors - It has to be a random value between 0 and 1\n",
        "    self.weight = np.random.uniform(0,1,self.x.shape[1])\n",
        "    self.losses = []\n",
        "    self.h =[]\n",
        "  \n",
        "  #Sigmoid method\n",
        "  def sigmoid(self,x,weight):\n",
        "    a = np.dot(x, weight)\n",
        "    return 1 / (1 + np.exp(-a))\n",
        "  \n",
        "  #Calculating loss method\n",
        "  def cost(self,h,y):\n",
        "    return (-y * np.log(h) - (1 - y) * np.log(1 - h)).mean()\n",
        "\n",
        "  #Method for calculating the gradient descent\n",
        "  def gradient_descent(self,X,y,h):\n",
        "    return np.dot(X.T, (h - y)) / y.shape[0]\n",
        "\n",
        "  #Predicting the output of the test data\n",
        "  def predict(self, X, threshold):\n",
        "    intercept = np.ones((X.shape[0], 1)) \n",
        "    X = np.concatenate((intercept, X), axis=1)\n",
        "    ans = self.sigmoid(X, self.weight)\n",
        "    y_pred = np.zeros(ans.shape[0])\n",
        "    for i in range(len(y_pred)):\n",
        "      if ans[i]>= threshold: \n",
        "        y_pred[i] = 1    \n",
        "    return y_pred\n",
        "\n",
        "  #Training the model\n",
        "  def fit(self,X,y):\n",
        "    for i in range(self.iterations):\n",
        "      sigmaval = self.sigmoid(self.x, self.weight)\n",
        "      loss = self.cost(sigmaval,self.y)\n",
        "      self.losses.append(loss)\n",
        "      self.h.append(sigmaval)\n",
        "      descent = self.gradient_descent(self.x ,self.y,sigmaval)\n",
        "      self.weight -= self.learning_rate * descent\n",
        "    return print('Model is trained')\n",
        "  \n",
        "  #Calculate the accuracy\n",
        "  def accuracy(self,actual,predicted):\n",
        "    n=len(actual)\n",
        "    count=0\n",
        "    for i in range(0,n):\n",
        "      if actual[i]==predicted[i]:\n",
        "        count+=1\n",
        "    return (count/n)*100\n",
        "\n",
        "  \n"
      ]
    },
    {
      "cell_type": "code",
      "execution_count": 63,
      "metadata": {
        "id": "8KcLPcZdKVRV",
        "colab": {
          "base_uri": "https://localhost:8080/"
        },
        "outputId": "9ad878fa-1471-4e6f-aa3a-e7fca83812b0"
      },
      "outputs": [
        {
          "output_type": "stream",
          "name": "stdout",
          "text": [
            "Model is trained\n"
          ]
        }
      ],
      "source": [
        "model = LogitRegression(learning_rate=0.0001, iterations=100000,x=x_train, y=y_train)\n",
        "model.fit(x_train, y_train)\n",
        "\n"
      ]
    },
    {
      "cell_type": "code",
      "execution_count": 64,
      "metadata": {
        "id": "m_ZRnbQxwq28",
        "colab": {
          "base_uri": "https://localhost:8080/"
        },
        "outputId": "95df9e7b-8bb8-48de-8bdf-58f0b35a0f81"
      },
      "outputs": [
        {
          "output_type": "stream",
          "name": "stdout",
          "text": [
            "52.23880597014925\n"
          ]
        }
      ],
      "source": [
        "y_pred = model.predict(x_test,0.5)\n",
        "val = model.accuracy(y_test.values.tolist(),y_pred)\n",
        "print(val)"
      ]
    },
    {
      "cell_type": "code",
      "execution_count": 65,
      "metadata": {
        "id": "m4yF-nTYO5h-",
        "colab": {
          "base_uri": "https://localhost:8080/",
          "height": 299
        },
        "outputId": "a5f8f6db-a6be-441c-8b17-72133c886012"
      },
      "outputs": [
        {
          "output_type": "stream",
          "name": "stdout",
          "text": [
            "Weights after training  [-0.01930019 -0.02032506  0.00153391  0.15325512 -0.25057666]\n"
          ]
        },
        {
          "output_type": "display_data",
          "data": {
            "text/plain": [
              "<Figure size 432x288 with 1 Axes>"
            ],
            "image/png": "[encoded data removed]"
          },
          "metadata": {
            "needs_background": "light"
          }
        }
      ],
      "source": [
        "print(\"Weights after training \",model.weight)\n",
        "plt.plot(model.losses)\n",
        "plt.title(\"Loss vs number of gradient update iterations\")\n",
        "plt.show()"
      ]
    },
    {
      "cell_type": "code",
      "source": [
        "#Changing hyperparameters\n",
        "#On increasing the learning rate and reducing the no of iterations\n",
        "model=LogitRegression(0.01,10000,x_train,y_train)\n",
        "model.fit(x_train, y_train)\n",
        "y_pred = model.predict(x_test,0.5)\n",
        "accuracy = model.accuracy(y_test.values.tolist(),y_pred)\n",
        "print(accuracy)\n",
        "print(model.weight)\n",
        "plt.plot(model.losses)\n",
        "plt.title(\"Loss vs number of gradient update iterations\")\n",
        "plt.show()"
      ],
      "metadata": {
        "id": "mePj0sccRBQt",
        "colab": {
          "base_uri": "https://localhost:8080/",
          "height": 335
        },
        "outputId": "aeff174e-f2af-4cc2-996a-bbc0591ebabb"
      },
      "execution_count": 66,
      "outputs": [
        {
          "output_type": "stream",
          "name": "stdout",
          "text": [
            "Model is trained\n",
            "59.70149253731343\n",
            "[ 1.2456192   0.60346726 -0.18786017 -1.50157674 -1.90058235]\n"
          ]
        },
        {
          "output_type": "display_data",
          "data": {
            "text/plain": [
              "<Figure size 432x288 with 1 Axes>"
            ],
            "image/png": "[encoded data removed]"
          },
          "metadata": {
            "needs_background": "light"
          }
        }
      ]
    },
    {
      "cell_type": "code",
      "source": [
        "#Changing hyperparameters\n",
        "#On increasing the learning rate and increasing the no of iterations\n",
        "model=LogitRegression(0.01,1000000,x_train,y_train)\n",
        "model.fit(x_train, y_train)\n",
        "y_pred = model.predict(x_test,0.5)\n",
        "accuracy = model.accuracy(y_test.values.tolist(),y_pred)\n",
        "print(accuracy)\n",
        "print(model.weight)\n",
        "plt.plot(model.losses)\n",
        "plt.title(\"Loss vs number of gradient update iterations\")\n",
        "plt.show()"
      ],
      "metadata": {
        "id": "CVLOwgiPU5ja",
        "colab": {
          "base_uri": "https://localhost:8080/",
          "height": 348
        },
        "outputId": "702d5a0a-e067-43d1-955c-84ed09f0b7c2"
      },
      "execution_count": 70,
      "outputs": [
        {
          "output_type": "stream",
          "name": "stdout",
          "text": [
            "Model is trained\n",
            "68.65671641791045\n",
            "[  5.32489973   3.95943914  -0.79383889   2.00468118 -19.44936326]\n"
          ]
        },
        {
          "output_type": "display_data",
          "data": {
            "text/plain": [
              "<Figure size 432x288 with 1 Axes>"
            ],
            "image/png": "[encoded data removed]"
          },
          "metadata": {
            "needs_background": "light"
          }
        }
      ]
    },
    {
      "cell_type": "code",
      "source": [
        "weights = model.weight\n",
        "import pickle\n",
        "with open('weights.pkl', 'wb') as f:\n",
        "  pickle.dump(weights, f)\n",
        "from google.colab import files\n",
        "files.download('weights.pkl')\n"
      ],
      "metadata": {
        "colab": {
          "base_uri": "https://localhost:8080/",
          "height": 17
        },
        "id": "bz3Es18HJB8k",
        "outputId": "8ab46791-4238-4e03-f911-1867de3636a6"
      },
      "execution_count": 71,
      "outputs": [
        {
          "output_type": "display_data",
          "data": {
            "text/plain": [
              "<IPython.core.display.Javascript object>"
            ],
            "application/javascript": [
              "\n",
              "    async function download(id, filename, size) {\n",
              "      if (!google.colab.kernel.accessAllowed) {\n",
              "        return;\n",
              "      }\n",
              "      const div = document.createElement('div');\n",
              "      const label = document.createElement('label');\n",
              "      label.textContent = `Downloading \"${filename}\": `;\n",
              "      div.appendChild(label);\n",
              "      const progress = document.createElement('progress');\n",
              "      progress.max = size;\n",
              "      div.appendChild(progress);\n",
              "      document.body.appendChild(div);\n",
              "\n",
              "      const buffers = [];\n",
              "      let downloaded = 0;\n",
              "\n",
              "      const channel = await google.colab.kernel.comms.open(id);\n",
              "      // Send a message to notify the kernel that we're ready.\n",
              "      channel.send({})\n",
              "\n",
              "      for await (const message of channel.messages) {\n",
              "        // Send a message to notify the kernel that we're ready.\n",
              "        channel.send({})\n",
              "        if (message.buffers) {\n",
              "          for (const buffer of message.buffers) {\n",
              "            buffers.push(buffer);\n",
              "            downloaded += buffer.byteLength;\n",
              "            progress.value = downloaded;\n",
              "          }\n",
              "        }\n",
              "      }\n",
              "      const blob = new Blob(buffers, {type: 'application/binary'});\n",
              "      const a = document.createElement('a');\n",
              "      a.href = window.URL.createObjectURL(blob);\n",
              "      a.download = filename;\n",
              "      div.appendChild(a);\n",
              "      a.click();\n",
              "      div.remove();\n",
              "    }\n",
              "  "
            ]
          },
          "metadata": {}
        },
        {
          "output_type": "display_data",
          "data": {
            "text/plain": [
              "<IPython.core.display.Javascript object>"
            ],
            "application/javascript": [
              "download(\"download_0541f746-0a8c-47c3-b479-231cd8efa32b\", \"weights.pkl\", 187)"
            ]
          },
          "metadata": {}
        }
      ]
    },
    {
      "cell_type": "code",
      "source": [
        "#Changing hyperparameters\n",
        "#On reducing the learning rate and reducing the no of iterations\n",
        "model=LogitRegression(0.00001,1000,x_train,y_train)\n",
        "model.fit(x_train, y_train)\n",
        "y_pred = model.predict(x_test,0.5)\n",
        "accuracy = model.accuracy(y_test.values.tolist(),y_pred)\n",
        "print(accuracy)\n",
        "print(model.weight)\n",
        "plt.plot(model.losses)\n",
        "plt.title(\"Loss vs number of gradient update iterations\")\n",
        "plt.show()"
      ],
      "metadata": {
        "id": "u7_d0SFvVeE9",
        "colab": {
          "base_uri": "https://localhost:8080/",
          "height": 335
        },
        "outputId": "b4bbc0a4-9146-42b7-b04f-b7cac7703c2f"
      },
      "execution_count": 68,
      "outputs": [
        {
          "output_type": "stream",
          "name": "stdout",
          "text": [
            "Model is trained\n",
            "52.23880597014925\n",
            "[0.67016416 0.86757511 0.51930089 0.27304134 0.90904396]\n"
          ]
        },
        {
          "output_type": "display_data",
          "data": {
            "text/plain": [
              "<Figure size 432x288 with 1 Axes>"
            ],
            "image/png": "[encoded data removed]"
          },
          "metadata": {
            "needs_background": "light"
          }
        }
      ]
    },
    {
      "cell_type": "code",
      "source": [
        "#Changing hyperparameters\n",
        "#On reducing the learning rate and increasing the no of iterations\n",
        "model=LogitRegression(0.00001,100000,x_train,y_train)\n",
        "model.fit(x_train, y_train)\n",
        "y_pred = model.predict(x_test,0.5)\n",
        "accuracy = model.accuracy(y_test.values.tolist(),y_pred)\n",
        "print(accuracy)\n",
        "print(model.weight)\n",
        "plt.plot(model.losses)\n",
        "plt.title(\"Loss vs number of gradient update iterations\")\n",
        "plt.show()"
      ],
      "metadata": {
        "id": "Ui8Sa3JHVljv",
        "colab": {
          "base_uri": "https://localhost:8080/",
          "height": 335
        },
        "outputId": "a290c89f-b3c4-4e18-c95a-16b4d155d119"
      },
      "execution_count": 69,
      "outputs": [
        {
          "output_type": "stream",
          "name": "stdout",
          "text": [
            "Model is trained\n",
            "52.23880597014925\n",
            "[-0.04964251  0.45157222  0.15805328  0.64491285  0.73158379]\n"
          ]
        },
        {
          "output_type": "display_data",
          "data": {
            "text/plain": [
              "<Figure size 432x288 with 1 Axes>"
            ],
            "image/png": "[encoded data removed]"
          },
          "metadata": {
            "needs_background": "light"
          }
        }
      ]
    },
    {
      "cell_type": "code",
      "source": [
        "model.weight"
      ],
      "metadata": {
        "id": "nIKWLNGAeB7H"
      },
      "execution_count": null,
      "outputs": []
    },
    {
      "cell_type": "code",
      "source": [
        "weights = model.weight\n",
        "import pickle\n",
        "with open('weights.pkl', 'wb') as f:\n",
        "  pickle.dump(weights, f)\n",
        "\n"
      ],
      "metadata": {
        "id": "KeYV7PmRe2X8"
      },
      "execution_count": null,
      "outputs": []
    },
    {
      "cell_type": "code",
      "source": [
        "from google.colab import files\n",
        "files.download('weights.pkl')"
      ],
      "metadata": {
        "id": "eSDVWClOheUP"
      },
      "execution_count": null,
      "outputs": []
    }
  ],
  "metadata": {
    "colab": {
      "provenance": []
    },
    "kernelspec": {
      "display_name": "Python 3",
      "name": "python3"
    },
    "language_info": {
      "name": "python"
    }
  },
  "nbformat": 4,
  "nbformat_minor": 0
}